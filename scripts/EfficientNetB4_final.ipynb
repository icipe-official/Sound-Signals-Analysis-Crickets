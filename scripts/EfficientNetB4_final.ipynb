{
 "cells": [
  {
   "cell_type": "code",
   "execution_count": 1,
   "metadata": {},
   "outputs": [
    {
     "name": "stderr",
     "output_type": "stream",
     "text": [
      "2024-03-11 19:07:13.369223: I tensorflow/core/platform/cpu_feature_guard.cc:193] This TensorFlow binary is optimized with oneAPI Deep Neural Network Library (oneDNN) to use the following CPU instructions in performance-critical operations:  SSE4.1 SSE4.2 AVX AVX2 FMA\n",
      "To enable them in other operations, rebuild TensorFlow with the appropriate compiler flags.\n"
     ]
    }
   ],
   "source": [
    "#import libraries\n",
    "import pandas as pd\n",
    "import numpy as np\n",
    "from PIL import Image\n",
    "from keras.applications.efficientnet import EfficientNetB4, preprocess_input\n",
    "from keras.utils import to_categorical\n",
    "from sklearn.preprocessing import LabelEncoder\n",
    "from sklearn.model_selection import train_test_split\n",
    "from keras.layers import Dense, Flatten, Input, concatenate\n",
    "from keras.models import Model\n",
    "from keras.callbacks import EarlyStopping\n",
    "from sklearn.metrics import accuracy_score, f1_score, confusion_matrix"
   ]
  },
  {
   "cell_type": "code",
   "execution_count": 2,
   "metadata": {},
   "outputs": [],
   "source": [
    "#load csv data\n",
    "csv_file = \"/media/kanjibrian/Transcend7/concat/concatenated_file.csv\"\n",
    "df_csv = pd.read_csv(csv_file)\n"
   ]
  },
  {
   "cell_type": "code",
   "execution_count": 3,
   "metadata": {},
   "outputs": [],
   "source": [
    "#define a function to load and preprocess the image\n",
    "def load_and_preprocess_images(image_ids, image_folder):\n",
    "    images = []\n",
    "    for image_id in image_ids:\n",
    "        image_path = f\"{image_folder}/{image_id}\"  # Change the extension if images are not in JPG format\n",
    "        img = Image.open(image_path)\n",
    "        img = img.resize((224, 224))  # EfficientNetB4 input size\n",
    "        img = np.array(img)\n",
    "        #remove extra channels\n",
    "        if img.shape[2] > 3:\n",
    "            img=img[:,:,:3]\n",
    "        img = img.astype('float32') / 255.0  # Normalize between 0 and 1\n",
    "        img = preprocess_input(img)  # Preprocess for VGG16\n",
    "        images.append(img)\n",
    "    return np.array(images)\n",
    "\n",
    "# Load and preprocess images\n",
    "image_folder = \"/media/kanjibrian/Transcend7/testing\"\n",
    "image_ids = df_csv['image_id'].values\n",
    "image_data = load_and_preprocess_images(image_ids, image_folder)"
   ]
  },
  {
   "cell_type": "code",
   "execution_count": 4,
   "metadata": {},
   "outputs": [],
   "source": [
    "#convert string labels to numerical labels\n",
    "label_encoder=LabelEncoder()\n",
    "df_csv['Label']=label_encoder.fit_transform(df_csv['Label'])"
   ]
  },
  {
   "cell_type": "code",
   "execution_count": 5,
   "metadata": {},
   "outputs": [
    {
     "data": {
      "text/plain": [
       "3"
      ]
     },
     "execution_count": 5,
     "metadata": {},
     "output_type": "execute_result"
    }
   ],
   "source": [
    "len(label_encoder.classes_)"
   ]
  },
  {
   "cell_type": "code",
   "execution_count": 6,
   "metadata": {},
   "outputs": [],
   "source": [
    "#split data into features (X) and labels (y)\n",
    "X_images=image_data\n",
    "X_features=df_csv[['Temperature','Humidity']].values\n",
    "y=to_categorical(df_csv['Label'])"
   ]
  },
  {
   "cell_type": "code",
   "execution_count": 7,
   "metadata": {},
   "outputs": [],
   "source": [
    "#slit data into training and validation sets\n",
    "X_train_img, X_val_img, X_train_feat, X_val_feat, y_train, y_val = train_test_split(X_images, X_features, y, test_size=0.3, random_state=42)"
   ]
  },
  {
   "cell_type": "code",
   "execution_count": 8,
   "metadata": {},
   "outputs": [
    {
     "name": "stderr",
     "output_type": "stream",
     "text": [
      "2024-03-11 19:08:53.358672: I tensorflow/core/platform/cpu_feature_guard.cc:193] This TensorFlow binary is optimized with oneAPI Deep Neural Network Library (oneDNN) to use the following CPU instructions in performance-critical operations:  SSE4.1 SSE4.2 AVX AVX2 FMA\n",
      "To enable them in other operations, rebuild TensorFlow with the appropriate compiler flags.\n",
      "2024-03-11 19:08:53.360197: I tensorflow/core/common_runtime/process_util.cc:146] Creating new thread pool with default inter op setting: 2. Tune using inter_op_parallelism_threads for best performance.\n"
     ]
    }
   ],
   "source": [
    "#load efficientnetB4 model\n",
    "base_model=EfficientNetB4(weights='imagenet', include_top= False, input_shape=(224,224,3))\n",
    "#freeze the layers in the base model\n",
    "for layer in base_model.layers:\n",
    "    layer.trainable=False\n",
    "x = base_model.output\n",
    "x = Flatten()(x)\n",
    "x = Dense(256, activation='relu')(x)\n",
    "\n",
    "# Create an input layer for the features\n",
    "input_features = Input(shape=(2,))\n",
    "x_feat = Dense(128, activation='relu')(input_features)\n",
    "x_feat= Dense(64, activation='relu')(x_feat)\n",
    "\n",
    "# Concatenate image features and CSV features\n",
    "concatenated=concatenate([x, x_feat])\n",
    "\n",
    "# Final output layer\n",
    "predictions = Dense(len(label_encoder.classes_), activation='softmax')(concatenated)\n",
    "\n",
    "# Create the final model\n",
    "model = Model(inputs=[base_model.input, input_features], outputs=predictions)"
   ]
  },
  {
   "cell_type": "code",
   "execution_count": 9,
   "metadata": {},
   "outputs": [
    {
     "name": "stdout",
     "output_type": "stream",
     "text": [
      "Epoch 1/50\n",
      "58/58 [==============================] - 1486s 25s/step - loss: 11.0083 - accuracy: 0.3536 - val_loss: 1.2245 - val_accuracy: 0.3726\n",
      "Epoch 2/50\n",
      "58/58 [==============================] - 1440s 25s/step - loss: 1.1932 - accuracy: 0.4004 - val_loss: 1.0731 - val_accuracy: 0.3802\n",
      "Epoch 3/50\n",
      "58/58 [==============================] - 1468s 25s/step - loss: 1.1509 - accuracy: 0.4244 - val_loss: 1.2676 - val_accuracy: 0.3726\n",
      "Epoch 4/50\n",
      "58/58 [==============================] - 1452s 25s/step - loss: 1.0310 - accuracy: 0.4875 - val_loss: 1.1315 - val_accuracy: 0.3840\n",
      "Epoch 5/50\n",
      "58/58 [==============================] - 1461s 25s/step - loss: 1.0924 - accuracy: 0.4864 - val_loss: 1.2393 - val_accuracy: 0.5856\n",
      "Epoch 6/50\n",
      "58/58 [==============================] - 1471s 25s/step - loss: 0.9615 - accuracy: 0.5272 - val_loss: 0.9811 - val_accuracy: 0.5881\n",
      "Epoch 7/50\n",
      "58/58 [==============================] - 1458s 25s/step - loss: 0.9072 - accuracy: 0.5724 - val_loss: 0.9291 - val_accuracy: 0.4043\n",
      "Epoch 8/50\n",
      "58/58 [==============================] - 1443s 25s/step - loss: 0.8711 - accuracy: 0.5849 - val_loss: 1.5867 - val_accuracy: 0.3904\n",
      "Epoch 9/50\n",
      "58/58 [==============================] - 1467s 25s/step - loss: 0.9610 - accuracy: 0.5533 - val_loss: 0.8538 - val_accuracy: 0.5957\n",
      "Epoch 10/50\n",
      "58/58 [==============================] - 1460s 25s/step - loss: 0.7861 - accuracy: 0.6545 - val_loss: 2.9514 - val_accuracy: 0.3840\n",
      "Epoch 11/50\n",
      "58/58 [==============================] - 1459s 25s/step - loss: 0.9068 - accuracy: 0.6137 - val_loss: 0.7681 - val_accuracy: 0.4575\n",
      "Epoch 12/50\n",
      "58/58 [==============================] - 1451s 25s/step - loss: 0.7142 - accuracy: 0.6725 - val_loss: 0.6137 - val_accuracy: 0.7440\n",
      "Epoch 13/50\n",
      "58/58 [==============================] - 1469s 25s/step - loss: 0.7178 - accuracy: 0.6801 - val_loss: 1.1698 - val_accuracy: 0.5843\n",
      "Epoch 14/50\n",
      "58/58 [==============================] - 1463s 25s/step - loss: 0.8267 - accuracy: 0.6464 - val_loss: 0.7790 - val_accuracy: 0.5830\n",
      "Epoch 15/50\n",
      "58/58 [==============================] - 1461s 25s/step - loss: 0.6240 - accuracy: 0.7399 - val_loss: 0.6226 - val_accuracy: 0.7668\n",
      "Epoch 16/50\n",
      "58/58 [==============================] - 1461s 25s/step - loss: 0.6221 - accuracy: 0.7372 - val_loss: 0.4889 - val_accuracy: 0.9316\n",
      "Epoch 17/50\n",
      "58/58 [==============================] - 1467s 25s/step - loss: 0.6147 - accuracy: 0.7432 - val_loss: 1.4484 - val_accuracy: 0.4144\n",
      "Epoch 18/50\n",
      "58/58 [==============================] - 1471s 26s/step - loss: 0.6937 - accuracy: 0.6888 - val_loss: 0.8828 - val_accuracy: 0.6324\n",
      "Epoch 19/50\n",
      "58/58 [==============================] - 1441s 25s/step - loss: 0.6573 - accuracy: 0.7644 - val_loss: 5.0868 - val_accuracy: 0.3840\n",
      "Epoch 20/50\n",
      "58/58 [==============================] - 1461s 25s/step - loss: 1.1460 - accuracy: 0.5952 - val_loss: 0.6842 - val_accuracy: 0.5716\n",
      "Epoch 21/50\n",
      "58/58 [==============================] - 1469s 25s/step - loss: 0.6524 - accuracy: 0.7329 - val_loss: 0.6498 - val_accuracy: 0.6160\n",
      "Epoch 22/50\n",
      "58/58 [==============================] - 1471s 25s/step - loss: 0.6494 - accuracy: 0.7231 - val_loss: 0.6029 - val_accuracy: 0.7744\n",
      "Epoch 23/50\n",
      "58/58 [==============================] - 1465s 25s/step - loss: 0.6793 - accuracy: 0.6926 - val_loss: 0.6895 - val_accuracy: 0.5323\n",
      "Epoch 24/50\n",
      "58/58 [==============================] - 1463s 25s/step - loss: 0.6785 - accuracy: 0.7018 - val_loss: 0.5697 - val_accuracy: 0.7414\n",
      "Epoch 25/50\n",
      "58/58 [==============================] - 1449s 25s/step - loss: 0.5750 - accuracy: 0.7938 - val_loss: 0.8300 - val_accuracy: 0.4512\n",
      "Epoch 26/50\n",
      "58/58 [==============================] - ETA: 0s - loss: 0.5868 - accuracy: 0.7541 Restoring model weights from the end of the best epoch: 16.\n",
      "58/58 [==============================] - 1467s 25s/step - loss: 0.5868 - accuracy: 0.7541 - val_loss: 0.5011 - val_accuracy: 0.9024\n",
      "Epoch 26: early stopping\n"
     ]
    }
   ],
   "source": [
    "#compile the model\n",
    "model.compile(optimizer='adam', loss='categorical_crossentropy', metrics=['accuracy'])\n",
    "# Early stopping to prevent overfitting\n",
    "early_stopping = EarlyStopping(monitor='val_loss',patience=10, verbose=1, restore_best_weights=True)\n",
    "\n",
    "history = model.fit(\n",
    "    [X_train_img, X_train_feat], y_train,\n",
    "    epochs=50,\n",
    "    batch_size=32, \n",
    "    validation_data=([X_val_img, X_val_feat], y_val), \n",
    "    callbacks=[early_stopping])"
   ]
  },
  {
   "cell_type": "code",
   "execution_count": 10,
   "metadata": {},
   "outputs": [
    {
     "data": {
      "image/png": "[encoded data removed]",
      "text/plain": [
       "<Figure size 800x400 with 1 Axes>"
      ]
     },
     "metadata": {},
     "output_type": "display_data"
    }
   ],
   "source": [
    "#plotting the training and validation loss\n",
    "import matplotlib.pyplot as plt\n",
    "\n",
    "#extracting loss and validation loss from the history object\n",
    "train_loss=history.history['loss']\n",
    "val_loss=history.history['val_loss']\n",
    "\n",
    "#create a range for the number of epochs\n",
    "epochs=range(1,len(train_loss)+1)\n",
    "#plotting training and validation loss\n",
    "plt.figure(figsize=(8,4))\n",
    "plt.plot(epochs, train_loss,label='Training loss')\n",
    "plt.plot(epochs,val_loss,label = 'Validation loss')\n",
    "plt.title('Training and Validation Loss')\n",
    "plt.xlabel('Epochs')\n",
    "plt.ylabel('loss')\n",
    "plt.legend()\n",
    "plt.show()"
   ]
  },
  {
   "cell_type": "code",
   "execution_count": 11,
   "metadata": {},
   "outputs": [
    {
     "name": "stdout",
     "output_type": "stream",
     "text": [
      "25/25 [==============================] - 472s 19s/step\n"
     ]
    }
   ],
   "source": [
    "#Evaluating the model\n",
    "y_pred=model.predict([X_val_img,X_val_feat])\n",
    "y_pred_classes=np.argmax(y_pred,axis=1)\n",
    "y_true=np.argmax(y_val,axis=1)"
   ]
  },
  {
   "cell_type": "code",
   "execution_count": 12,
   "metadata": {},
   "outputs": [],
   "source": [
    "#get class labels\n",
    "class_labels=label_encoder.classes_"
   ]
  },
  {
   "cell_type": "code",
   "execution_count": 13,
   "metadata": {},
   "outputs": [
    {
     "name": "stdout",
     "output_type": "stream",
     "text": [
      "Accuracy:  0.9315589353612167\n",
      "F1-Score:  0.9322344560617268\n",
      "Confusion Matrix:\n",
      "            aggression  calling  courtship\n",
      "aggression         175        0         17\n",
      "calling              0      285         18\n",
      "courtship           19        0        275\n"
     ]
    }
   ],
   "source": [
    "#calculate the metrics\n",
    "accuracy=accuracy_score(y_true, y_pred_classes)\n",
    "f1=f1_score(y_true,y_pred_classes,average='weighted')\n",
    "cm=confusion_matrix(y_true,y_pred_classes,labels=np.arange(len(class_labels)))\n",
    "\n",
    "#print the metrics\n",
    "print(\"Accuracy: \", accuracy)\n",
    "print(\"F1-Score: \", f1)\n",
    "print(\"Confusion Matrix:\")\n",
    "print(pd.DataFrame(cm, index=class_labels,columns=class_labels))"
   ]
  }
 ],
 "metadata": {
  "kernelspec": {
   "display_name": "Machine_Deep_Learning",
   "language": "python",
   "name": "python3"
  },
  "language_info": {
   "codemirror_mode": {
    "name": "ipython",
    "version": 3
   },
   "file_extension": ".py",
   "mimetype": "text/x-python",
   "name": "python",
   "nbconvert_exporter": "python",
   "pygments_lexer": "ipython3",
   "version": "3.10.9"
  }
 },
 "nbformat": 4,
 "nbformat_minor": 2
}
