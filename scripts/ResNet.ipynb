{
  "cells": [
    {
      "cell_type": "code",
      "execution_count": null,
      "metadata": {
        "id": "eY6cO7np-X5u",
        "outputId": "af59f259-fc4e-4449-82be-f8336333ba43"
      },
      "outputs": [
        {
          "name": "stderr",
          "output_type": "stream",
          "text": [
            "2024-03-07 08:23:37.408563: I tensorflow/core/platform/cpu_feature_guard.cc:193] This TensorFlow binary is optimized with oneAPI Deep Neural Network Library (oneDNN) to use the following CPU instructions in performance-critical operations:  SSE4.1 SSE4.2 AVX AVX2 FMA\n",
            "To enable them in other operations, rebuild TensorFlow with the appropriate compiler flags.\n"
          ]
        }
      ],
      "source": [
        "#load libraries\n",
        "import pandas as pd\n",
        "import numpy as np\n",
        "from PIL import Image\n",
        "from keras.applications.resnet_v2 import ResNet152V2, preprocess_input\n",
        "from keras.utils import to_categorical\n",
        "from sklearn.preprocessing import LabelEncoder\n",
        "from sklearn.model_selection import train_test_split\n",
        "from keras.layers import Dense, Flatten, Input, concatenate\n",
        "from keras.models import Model\n",
        "from keras.callbacks import EarlyStopping"
      ]
    },
    {
      "cell_type": "code",
      "execution_count": null,
      "metadata": {
        "id": "mQor-Djl-X5w"
      },
      "outputs": [],
      "source": [
        "#load csv data\n",
        "csv_file = \"/media/kanjibrian/Transcend7/concat/concatenated_file.csv\"\n",
        "df_csv = pd.read_csv(csv_file)"
      ]
    },
    {
      "cell_type": "code",
      "execution_count": null,
      "metadata": {
        "id": "Jq9cBNCS-X5x"
      },
      "outputs": [],
      "source": [
        "#define a function to load and preprocess the image\n",
        "def load_and_preprocess_images(image_ids, image_folder):\n",
        "    images = []\n",
        "    for image_id in image_ids:\n",
        "        image_path = f\"{image_folder}/{image_id}\"  # Change the extension if images are not in JPG format\n",
        "        img = Image.open(image_path)\n",
        "        img = img.resize((224, 224))\n",
        "        img = np.array(img)\n",
        "        #remove extra channels\n",
        "        if img.shape[2] > 3:\n",
        "            img=img[:,:,:3]\n",
        "        img = img.astype('float32') / 255.0  # Normalize between 0 and 1\n",
        "        img = preprocess_input(img)  # Preprocess for VGG16\n",
        "        images.append(img)\n",
        "    return np.array(images)\n",
        "\n",
        "# Load and preprocess images\n",
        "image_folder = \"/media/kanjibrian/Transcend7/testing\"\n",
        "image_ids = df_csv['image_id'].values\n",
        "image_data = load_and_preprocess_images(image_ids, image_folder)"
      ]
    },
    {
      "cell_type": "code",
      "execution_count": null,
      "metadata": {
        "id": "RkhVcTE6-X5x"
      },
      "outputs": [],
      "source": [
        "#convert string labels to numerical labels\n",
        "label_encoder=LabelEncoder()\n",
        "df_csv['Label']=label_encoder.fit_transform(df_csv['Label'])"
      ]
    },
    {
      "cell_type": "code",
      "execution_count": null,
      "metadata": {
        "id": "bYiRoibz-X5x",
        "outputId": "3bdd75a2-71f1-4aae-cc22-1e5427792a8e"
      },
      "outputs": [
        {
          "data": {
            "text/plain": [
              "3"
            ]
          },
          "execution_count": 5,
          "metadata": {},
          "output_type": "execute_result"
        }
      ],
      "source": [
        "len(label_encoder.classes_)"
      ]
    },
    {
      "cell_type": "code",
      "execution_count": null,
      "metadata": {
        "id": "OhfshmGX-X5y"
      },
      "outputs": [],
      "source": [
        "#split data into features (X) and labels (y)\n",
        "X_images=image_data\n",
        "X_features=df_csv[['Temperature','Humidity']].values\n",
        "y=to_categorical(df_csv['Label'])"
      ]
    },
    {
      "cell_type": "code",
      "execution_count": null,
      "metadata": {
        "id": "X1kIt6KL-X5y"
      },
      "outputs": [],
      "source": [
        "#slit data into training and validation sets\n",
        "X_train_img, X_val_img, X_train_feat, X_val_feat, y_train, y_val = train_test_split(X_images, X_features, y, test_size=0.2, random_state=42)"
      ]
    },
    {
      "cell_type": "code",
      "execution_count": null,
      "metadata": {
        "id": "nLAiFt24-X5y",
        "outputId": "1b973a60-405d-42ee-bd96-d87ec6887fbb"
      },
      "outputs": [
        {
          "name": "stderr",
          "output_type": "stream",
          "text": [
            "2024-03-07 08:25:09.263145: I tensorflow/core/platform/cpu_feature_guard.cc:193] This TensorFlow binary is optimized with oneAPI Deep Neural Network Library (oneDNN) to use the following CPU instructions in performance-critical operations:  SSE4.1 SSE4.2 AVX AVX2 FMA\n",
            "To enable them in other operations, rebuild TensorFlow with the appropriate compiler flags.\n",
            "2024-03-07 08:25:09.264779: I tensorflow/core/common_runtime/process_util.cc:146] Creating new thread pool with default inter op setting: 2. Tune using inter_op_parallelism_threads for best performance.\n"
          ]
        },
        {
          "name": "stdout",
          "output_type": "stream",
          "text": [
            "Downloading data from https://storage.googleapis.com/tensorflow/keras-applications/resnet/resnet152v2_weights_tf_dim_ordering_tf_kernels_notop.h5\n",
            "234545216/234545216 [==============================] - 15s 0us/step\n"
          ]
        }
      ],
      "source": [
        "#load efficientnetB4 model\n",
        "base_model=ResNet152V2(weights='imagenet', include_top= False, input_shape=(224,224,3))\n",
        "#freeze the layers in the base model\n",
        "for layer in base_model.layers:\n",
        "    layer.trainable=False\n",
        "x = base_model.output\n",
        "x = Flatten()(x)\n",
        "x = Dense(256, activation='relu')(x)\n",
        "\n",
        "# Create an input layer for the features\n",
        "input_features = Input(shape=(2,))\n",
        "x_feat = Dense(128, activation='relu')(input_features)\n",
        "x_feat= Dense(64, activation='relu')(x_feat)\n",
        "\n",
        "# Concatenate image features and CSV features\n",
        "concatenated=concatenate([x, x_feat])\n",
        "\n",
        "# Final output layer\n",
        "predictions = Dense(len(label_encoder.classes_), activation='softmax')(concatenated)\n",
        "\n",
        "# Create the final model\n",
        "model = Model(inputs=[base_model.input, input_features], outputs=predictions)"
      ]
    },
    {
      "cell_type": "code",
      "execution_count": null,
      "metadata": {
        "id": "XTXND5lt-X5z",
        "outputId": "74a9ff8d-ec2e-41a8-bbbe-1d9540947ebd"
      },
      "outputs": [
        {
          "name": "stdout",
          "output_type": "stream",
          "text": [
            "Epoch 1/50\n",
            "66/66 [==============================] - 2749s 42s/step - loss: 1.1395 - accuracy: 0.8049 - val_loss: 0.1327 - val_accuracy: 0.9525\n",
            "Epoch 2/50\n",
            "66/66 [==============================] - 2571s 39s/step - loss: 0.1786 - accuracy: 0.9310 - val_loss: 0.1610 - val_accuracy: 0.9354\n",
            "Epoch 3/50\n",
            "66/66 [==============================] - 2506s 38s/step - loss: 0.1238 - accuracy: 0.9486 - val_loss: 0.0990 - val_accuracy: 0.9639\n",
            "Epoch 4/50\n",
            "66/66 [==============================] - 2568s 39s/step - loss: 0.1330 - accuracy: 0.9472 - val_loss: 0.0734 - val_accuracy: 0.9810\n",
            "Epoch 5/50\n",
            "66/66 [==============================] - 2506s 38s/step - loss: 0.0813 - accuracy: 0.9719 - val_loss: 0.0683 - val_accuracy: 0.9810\n",
            "Epoch 6/50\n",
            "66/66 [==============================] - 2506s 38s/step - loss: 0.0594 - accuracy: 0.9805 - val_loss: 0.0505 - val_accuracy: 0.9829\n",
            "Epoch 7/50\n",
            "66/66 [==============================] - 2552s 39s/step - loss: 0.0528 - accuracy: 0.9848 - val_loss: 0.0735 - val_accuracy: 0.9772\n",
            "Epoch 8/50\n",
            "66/66 [==============================] - 2506s 38s/step - loss: 0.0727 - accuracy: 0.9714 - val_loss: 0.0502 - val_accuracy: 0.9829\n",
            "Epoch 9/50\n",
            "66/66 [==============================] - 2561s 39s/step - loss: 0.0338 - accuracy: 0.9905 - val_loss: 0.0376 - val_accuracy: 0.9905\n",
            "Epoch 10/50\n",
            "66/66 [==============================] - 2566s 39s/step - loss: 0.0427 - accuracy: 0.9838 - val_loss: 0.0318 - val_accuracy: 0.9924\n",
            "Epoch 11/50\n",
            "66/66 [==============================] - 2554s 39s/step - loss: 0.0272 - accuracy: 0.9924 - val_loss: 0.0276 - val_accuracy: 0.9943\n",
            "Epoch 12/50\n",
            "66/66 [==============================] - 2506s 38s/step - loss: 0.0342 - accuracy: 0.9881 - val_loss: 0.0250 - val_accuracy: 0.9943\n",
            "Epoch 13/50\n",
            "66/66 [==============================] - 2497s 38s/step - loss: 0.0165 - accuracy: 0.9962 - val_loss: 0.0296 - val_accuracy: 0.9943\n",
            "Epoch 14/50\n",
            "66/66 [==============================] - 2494s 38s/step - loss: 0.0192 - accuracy: 0.9943 - val_loss: 0.0330 - val_accuracy: 0.9924\n",
            "Epoch 15/50\n",
            "66/66 [==============================] - 2484s 38s/step - loss: 0.0112 - accuracy: 0.9986 - val_loss: 0.0269 - val_accuracy: 0.9943\n",
            "Epoch 16/50\n",
            "66/66 [==============================] - 2482s 38s/step - loss: 0.0090 - accuracy: 0.9986 - val_loss: 0.0235 - val_accuracy: 0.9962\n",
            "Epoch 17/50\n",
            "66/66 [==============================] - 2475s 38s/step - loss: 0.0074 - accuracy: 1.0000 - val_loss: 0.0225 - val_accuracy: 0.9943\n",
            "Epoch 18/50\n",
            "66/66 [==============================] - 2541s 39s/step - loss: 0.0063 - accuracy: 1.0000 - val_loss: 0.0260 - val_accuracy: 0.9943\n",
            "Epoch 19/50\n",
            "66/66 [==============================] - 2477s 38s/step - loss: 0.0058 - accuracy: 0.9995 - val_loss: 0.0222 - val_accuracy: 0.9962\n",
            "Epoch 20/50\n",
            "66/66 [==============================] - 2485s 38s/step - loss: 0.0063 - accuracy: 0.9995 - val_loss: 0.0205 - val_accuracy: 0.9962\n",
            "Epoch 21/50\n",
            "66/66 [==============================] - 2483s 38s/step - loss: 0.0043 - accuracy: 1.0000 - val_loss: 0.0193 - val_accuracy: 0.9943\n",
            "Epoch 22/50\n",
            "66/66 [==============================] - 2548s 39s/step - loss: 0.0029 - accuracy: 1.0000 - val_loss: 0.0200 - val_accuracy: 0.9943\n",
            "Epoch 23/50\n",
            "66/66 [==============================] - 2471s 38s/step - loss: 0.0824 - accuracy: 0.9748 - val_loss: 0.1174 - val_accuracy: 0.9449\n",
            "Epoch 24/50\n",
            "66/66 [==============================] - 2484s 38s/step - loss: 0.0506 - accuracy: 0.9819 - val_loss: 0.0244 - val_accuracy: 0.9943\n",
            "Epoch 25/50\n",
            "66/66 [==============================] - 2482s 38s/step - loss: 0.0105 - accuracy: 0.9981 - val_loss: 0.0598 - val_accuracy: 0.9772\n",
            "Epoch 26/50\n",
            "66/66 [==============================] - 2546s 39s/step - loss: 0.0262 - accuracy: 0.9900 - val_loss: 0.0181 - val_accuracy: 0.9962\n",
            "Epoch 27/50\n",
            "66/66 [==============================] - 2473s 38s/step - loss: 0.0077 - accuracy: 0.9990 - val_loss: 0.0258 - val_accuracy: 0.9943\n",
            "Epoch 28/50\n",
            "66/66 [==============================] - 2543s 39s/step - loss: 0.0062 - accuracy: 0.9995 - val_loss: 0.0207 - val_accuracy: 0.9943\n",
            "Epoch 29/50\n",
            "66/66 [==============================] - 2466s 37s/step - loss: 0.0050 - accuracy: 0.9990 - val_loss: 0.0535 - val_accuracy: 0.9848\n",
            "Epoch 30/50\n",
            "66/66 [==============================] - 2488s 38s/step - loss: 0.0235 - accuracy: 0.9943 - val_loss: 0.0282 - val_accuracy: 0.9924\n",
            "Epoch 31/50\n",
            "66/66 [==============================] - 2471s 38s/step - loss: 0.0034 - accuracy: 0.9995 - val_loss: 0.0185 - val_accuracy: 0.9943\n",
            "Epoch 32/50\n",
            "66/66 [==============================] - 2468s 38s/step - loss: 0.0024 - accuracy: 1.0000 - val_loss: 0.0221 - val_accuracy: 0.9943\n",
            "Epoch 33/50\n",
            "66/66 [==============================] - 2483s 38s/step - loss: 0.0018 - accuracy: 1.0000 - val_loss: 0.0186 - val_accuracy: 0.9943\n",
            "Epoch 34/50\n",
            "66/66 [==============================] - 2536s 39s/step - loss: 0.0016 - accuracy: 1.0000 - val_loss: 0.0179 - val_accuracy: 0.9943\n",
            "Epoch 35/50\n",
            "66/66 [==============================] - 2564s 39s/step - loss: 0.0016 - accuracy: 1.0000 - val_loss: 0.0175 - val_accuracy: 0.9962\n",
            "Epoch 36/50\n",
            "66/66 [==============================] - 2566s 39s/step - loss: 0.0014 - accuracy: 1.0000 - val_loss: 0.0185 - val_accuracy: 0.9962\n",
            "Epoch 37/50\n",
            "66/66 [==============================] - 2568s 39s/step - loss: 0.0014 - accuracy: 1.0000 - val_loss: 0.0174 - val_accuracy: 0.9962\n",
            "Epoch 38/50\n",
            "66/66 [==============================] - 2567s 39s/step - loss: 0.0013 - accuracy: 1.0000 - val_loss: 0.0178 - val_accuracy: 0.9962\n",
            "Epoch 39/50\n",
            "66/66 [==============================] - 2492s 38s/step - loss: 0.0013 - accuracy: 1.0000 - val_loss: 0.0174 - val_accuracy: 0.9962\n",
            "Epoch 40/50\n",
            "66/66 [==============================] - 2560s 39s/step - loss: 0.0015 - accuracy: 1.0000 - val_loss: 0.0237 - val_accuracy: 0.9905\n",
            "Epoch 41/50\n",
            "66/66 [==============================] - 2563s 39s/step - loss: 0.1560 - accuracy: 0.9557 - val_loss: 0.0463 - val_accuracy: 0.9848\n",
            "Epoch 42/50\n",
            "66/66 [==============================] - 2501s 38s/step - loss: 0.0193 - accuracy: 0.9952 - val_loss: 0.0236 - val_accuracy: 0.9943\n",
            "Epoch 43/50\n",
            "66/66 [==============================] - 2502s 38s/step - loss: 0.0107 - accuracy: 0.9990 - val_loss: 0.0236 - val_accuracy: 0.9962\n",
            "Epoch 44/50\n",
            "66/66 [==============================] - 2566s 39s/step - loss: 0.0150 - accuracy: 0.9971 - val_loss: 0.0300 - val_accuracy: 0.9905\n",
            "Epoch 45/50\n",
            "66/66 [==============================] - 2507s 38s/step - loss: 0.0226 - accuracy: 0.9914 - val_loss: 0.0216 - val_accuracy: 0.9943\n",
            "Epoch 46/50\n",
            "66/66 [==============================] - 2506s 38s/step - loss: 0.0036 - accuracy: 1.0000 - val_loss: 0.0200 - val_accuracy: 0.9943\n",
            "Epoch 47/50\n",
            "66/66 [==============================] - 2528s 38s/step - loss: 0.0028 - accuracy: 1.0000 - val_loss: 0.0189 - val_accuracy: 0.9943\n",
            "Epoch 48/50\n",
            "66/66 [==============================] - 2506s 38s/step - loss: 0.0028 - accuracy: 1.0000 - val_loss: 0.0184 - val_accuracy: 0.9943\n",
            "Epoch 49/50\n",
            "66/66 [==============================] - 2569s 39s/step - loss: 0.0044 - accuracy: 1.0000 - val_loss: 0.0173 - val_accuracy: 0.9943\n",
            "Epoch 50/50\n",
            "66/66 [==============================] - 2561s 39s/step - loss: 0.0027 - accuracy: 1.0000 - val_loss: 0.0195 - val_accuracy: 0.9943\n"
          ]
        }
      ],
      "source": [
        "#compile the model\n",
        "model.compile(optimizer='adam', loss='categorical_crossentropy', metrics=['accuracy'])\n",
        "# Early stopping to prevent overfitting\n",
        "early_stopping = EarlyStopping(monitor='val_loss',patience=10, verbose=1, restore_best_weights=True)\n",
        "\n",
        "history = model.fit(\n",
        "    [X_train_img, X_train_feat], y_train,\n",
        "    epochs=50,\n",
        "    batch_size=32,\n",
        "    validation_data=([X_val_img, X_val_feat], y_val),\n",
        "    callbacks=[early_stopping])"
      ]
    },
    {
      "cell_type": "code",
      "execution_count": null,
      "metadata": {
        "id": "aGuUpmg2-X5z",
        "outputId": "6b63129e-ded7-4090-d8cb-16a9d4d20b0e"
      },
      "outputs": [
        {
          "data": {
            "image/png": "[encoded data removed]",
            "text/plain": [
              "<Figure size 800x400 with 1 Axes>"
            ]
          },
          "metadata": {},
          "output_type": "display_data"
        }
      ],
      "source": [
        "#plotting the training and validation loss\n",
        "import matplotlib.pyplot as plt\n",
        "\n",
        "#extracting loss and validation loss from the history object\n",
        "train_loss=history.history['loss']\n",
        "val_loss=history.history['val_loss']\n",
        "\n",
        "#create a range for the number of epochs\n",
        "epochs=range(1,len(train_loss)+1)\n",
        "#plotting training and validation loss\n",
        "plt.figure(figsize=(8,4))\n",
        "plt.plot(epochs, train_loss,label='Training loss')\n",
        "plt.plot(epochs,val_loss,label = 'Validation loss')\n",
        "plt.title('Training and Validation Loss')\n",
        "plt.xlabel('Epochs')\n",
        "plt.ylabel('loss')\n",
        "plt.legend()\n",
        "plt.show()"
      ]
    },
    {
      "cell_type": "code",
      "execution_count": null,
      "metadata": {
        "id": "bunKFEm1-X50",
        "outputId": "890ff376-9871-41d6-e6e7-9fd7d3d13109"
      },
      "outputs": [
        {
          "name": "stdout",
          "output_type": "stream",
          "text": [
            "17/17 [==============================] - 561s 33s/step - loss: 0.0195 - accuracy: 0.9943\n",
            "Validation Loss: 0.019540702924132347, Validation Accuracy: 0.9942965507507324\n"
          ]
        }
      ],
      "source": [
        "#Evaluating the model\n",
        "loss, accuracy = model.evaluate([X_val_img, X_val_feat], y_val)\n",
        "print(f\"Validation Loss: {loss}, Validation Accuracy: {accuracy}\")"
      ]
    },
    {
      "cell_type": "code",
      "execution_count": null,
      "metadata": {
        "id": "IG4K22HD-X50"
      },
      "outputs": [],
      "source": [
        "from sklearn.metrics import classification_report, confusion_matrix"
      ]
    }
  ],
  "metadata": {
    "kernelspec": {
      "display_name": "Machine_Deep_Learning",
      "language": "python",
      "name": "python3"
    },
    "language_info": {
      "codemirror_mode": {
        "name": "ipython",
        "version": 3
      },
      "file_extension": ".py",
      "mimetype": "text/x-python",
      "name": "python",
      "nbconvert_exporter": "python",
      "pygments_lexer": "ipython3",
      "version": "3.10.9"
    },
    "colab": {
      "provenance": []
    }
  },
  "nbformat": 4,
  "nbformat_minor": 0
}