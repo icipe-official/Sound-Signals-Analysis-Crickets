{
 "cells": [
  {
   "cell_type": "code",
   "execution_count": 1,
   "metadata": {},
   "outputs": [
    {
     "name": "stderr",
     "output_type": "stream",
     "text": [
      "2024-03-11 08:50:19.918820: I tensorflow/core/platform/cpu_feature_guard.cc:193] This TensorFlow binary is optimized with oneAPI Deep Neural Network Library (oneDNN) to use the following CPU instructions in performance-critical operations:  SSE4.1 SSE4.2 AVX AVX2 FMA\n",
      "To enable them in other operations, rebuild TensorFlow with the appropriate compiler flags.\n"
     ]
    }
   ],
   "source": [
    "import pandas as pd\n",
    "import numpy as np\n",
    "from PIL import Image\n",
    "from keras.applications.vgg16 import VGG16, preprocess_input\n",
    "from keras.utils import to_categorical\n",
    "from sklearn.preprocessing import LabelEncoder\n",
    "from sklearn.model_selection import train_test_split\n",
    "from keras.layers import Dense, Flatten, Input, concatenate\n",
    "from keras.models import Model\n",
    "from keras.callbacks import EarlyStopping\n",
    "from sklearn.metrics import accuracy_score, f1_score, confusion_matrix"
   ]
  },
  {
   "cell_type": "code",
   "execution_count": 2,
   "metadata": {},
   "outputs": [],
   "source": [
    "# Load CSV data\n",
    "csv_file = \"/media/kanjibrian/Transcend7/concat/concatenated_file.csv\"\n",
    "df_csv = pd.read_csv(csv_file)"
   ]
  },
  {
   "cell_type": "code",
   "execution_count": 3,
   "metadata": {},
   "outputs": [],
   "source": [
    "# Function to load and preprocess images\n",
    "def load_and_preprocess_images(image_ids, image_folder):\n",
    "    images = []\n",
    "    for image_id in image_ids:\n",
    "        image_path = f\"{image_folder}/{image_id}\"  # Change the extension if images are not in JPG format\n",
    "        img = Image.open(image_path)\n",
    "        img = img.resize((224, 224))  # Resize to VGG16 input size\n",
    "        img = np.array(img)\n",
    "        #remove extra channels\n",
    "        if img.shape[2] > 3:\n",
    "            img=img[:,:,:3]\n",
    "        img = img.astype('float32') / 255.0  # Normalize between 0 and 1\n",
    "        img = preprocess_input(img)  # Preprocess for VGG16\n",
    "        images.append(img)\n",
    "    return np.array(images)\n",
    "\n",
    "# Load and preprocess images\n",
    "image_folder = \"/media/kanjibrian/Transcend7/testing\"\n",
    "image_ids = df_csv['image_id'].values\n",
    "image_data = load_and_preprocess_images(image_ids, image_folder)"
   ]
  },
  {
   "cell_type": "code",
   "execution_count": 4,
   "metadata": {},
   "outputs": [],
   "source": [
    "# Convert string labels to numerical labels\n",
    "label_encoder = LabelEncoder()\n",
    "df_csv['Label'] = label_encoder.fit_transform(df_csv['Label'])\n",
    "\n",
    "# Split data into features (X) and labels (y)\n",
    "X_images = image_data\n",
    "X_features = df_csv[['Temperature', 'Humidity']].values\n",
    "y = to_categorical(df_csv['Label'])\n",
    "\n",
    "# Split data into training and validation sets\n",
    "X_train_img, X_val_img, X_train_feat, X_val_feat, y_train, y_val = train_test_split(X_images, X_features, y, test_size=0.3, random_state=42)"
   ]
  },
  {
   "cell_type": "code",
   "execution_count": 5,
   "metadata": {},
   "outputs": [
    {
     "name": "stderr",
     "output_type": "stream",
     "text": [
      "2024-03-11 08:52:01.321770: I tensorflow/core/platform/cpu_feature_guard.cc:193] This TensorFlow binary is optimized with oneAPI Deep Neural Network Library (oneDNN) to use the following CPU instructions in performance-critical operations:  SSE4.1 SSE4.2 AVX AVX2 FMA\n",
      "To enable them in other operations, rebuild TensorFlow with the appropriate compiler flags.\n",
      "2024-03-11 08:52:01.326840: I tensorflow/core/common_runtime/process_util.cc:146] Creating new thread pool with default inter op setting: 2. Tune using inter_op_parallelism_threads for best performance.\n"
     ]
    }
   ],
   "source": [
    "# Load VGG16 model\n",
    "base_model = VGG16(weights='imagenet', include_top=False, input_shape=(224, 224, 3))\n",
    "\n",
    "# Freeze the layers in the base model\n",
    "for layer in base_model.layers:\n",
    "    layer.trainable = False\n",
    "\n",
    "# Add custom layers for the image data\n",
    "x = base_model.output\n",
    "x = Flatten()(x)\n",
    "x = Dense(256, activation='relu')(x)\n",
    "\n",
    "# Create an input layer for the features\n",
    "input_features = Input(shape=(2,))\n",
    "x_feat = Dense(128, activation='relu')(input_features)\n",
    "x_feat= Dense(64, activation='relu')(x_feat)\n",
    "\n",
    "# Concatenate image features and CSV features\n",
    "concatenated=concatenate([x, x_feat])\n",
    "\n",
    "# Final output layer\n",
    "predictions = Dense(len(label_encoder.classes_), activation='softmax')(concatenated)\n",
    "\n",
    "# Create the final model\n",
    "model = Model(inputs=[base_model.input, input_features], outputs=predictions)"
   ]
  },
  {
   "cell_type": "code",
   "execution_count": 6,
   "metadata": {},
   "outputs": [
    {
     "name": "stdout",
     "output_type": "stream",
     "text": [
      "Epoch 1/50\n",
      "58/58 [==============================] - 1020s 18s/step - loss: 2.2086 - accuracy: 0.3705 - val_loss: 1.1168 - val_accuracy: 0.3916\n",
      "Epoch 2/50\n",
      "58/58 [==============================] - 831s 14s/step - loss: 1.0106 - accuracy: 0.4902 - val_loss: 1.1663 - val_accuracy: 0.3815\n",
      "Epoch 3/50\n",
      "58/58 [==============================] - 761s 13s/step - loss: 1.0130 - accuracy: 0.5103 - val_loss: 0.9648 - val_accuracy: 0.4626\n",
      "Epoch 4/50\n",
      "58/58 [==============================] - 747s 13s/step - loss: 0.8634 - accuracy: 0.5974 - val_loss: 0.8131 - val_accuracy: 0.7123\n",
      "Epoch 5/50\n",
      "58/58 [==============================] - 749s 13s/step - loss: 0.7899 - accuracy: 0.6725 - val_loss: 0.7306 - val_accuracy: 0.7098\n",
      "Epoch 6/50\n",
      "58/58 [==============================] - 744s 13s/step - loss: 0.7741 - accuracy: 0.6687 - val_loss: 0.7782 - val_accuracy: 0.7085\n",
      "Epoch 7/50\n",
      "58/58 [==============================] - 745s 13s/step - loss: 0.6636 - accuracy: 0.7628 - val_loss: 0.6841 - val_accuracy: 0.7414\n",
      "Epoch 8/50\n",
      "58/58 [==============================] - 742s 13s/step - loss: 0.5977 - accuracy: 0.7976 - val_loss: 0.7379 - val_accuracy: 0.6869\n",
      "Epoch 9/50\n",
      "58/58 [==============================] - 742s 13s/step - loss: 0.5344 - accuracy: 0.8205 - val_loss: 0.4527 - val_accuracy: 0.9075\n",
      "Epoch 10/50\n",
      "58/58 [==============================] - 752s 13s/step - loss: 0.4671 - accuracy: 0.8613 - val_loss: 0.5822 - val_accuracy: 0.7376\n",
      "Epoch 11/50\n",
      "58/58 [==============================] - 758s 13s/step - loss: 0.4447 - accuracy: 0.8634 - val_loss: 0.3448 - val_accuracy: 0.9278\n",
      "Epoch 12/50\n",
      "58/58 [==============================] - 741s 13s/step - loss: 0.3460 - accuracy: 0.9129 - val_loss: 0.3078 - val_accuracy: 0.9366\n",
      "Epoch 13/50\n",
      "58/58 [==============================] - 766s 13s/step - loss: 0.3347 - accuracy: 0.9075 - val_loss: 0.2869 - val_accuracy: 0.9303\n",
      "Epoch 14/50\n",
      "58/58 [==============================] - 740s 13s/step - loss: 0.2920 - accuracy: 0.9233 - val_loss: 0.2926 - val_accuracy: 0.9062\n",
      "Epoch 15/50\n",
      "58/58 [==============================] - 742s 13s/step - loss: 0.2777 - accuracy: 0.9168 - val_loss: 0.2349 - val_accuracy: 0.9430\n",
      "Epoch 16/50\n",
      "58/58 [==============================] - 741s 13s/step - loss: 0.2427 - accuracy: 0.9347 - val_loss: 0.3087 - val_accuracy: 0.8986\n",
      "Epoch 17/50\n",
      "58/58 [==============================] - 768s 13s/step - loss: 0.2247 - accuracy: 0.9342 - val_loss: 0.1894 - val_accuracy: 0.9569\n",
      "Epoch 18/50\n",
      "58/58 [==============================] - 762s 13s/step - loss: 0.2230 - accuracy: 0.9276 - val_loss: 0.1900 - val_accuracy: 0.9506\n",
      "Epoch 19/50\n",
      "58/58 [==============================] - 784s 14s/step - loss: 0.2428 - accuracy: 0.9217 - val_loss: 0.2665 - val_accuracy: 0.9265\n",
      "Epoch 20/50\n",
      "58/58 [==============================] - 742s 13s/step - loss: 0.1930 - accuracy: 0.9467 - val_loss: 0.1641 - val_accuracy: 0.9531\n",
      "Epoch 21/50\n",
      "58/58 [==============================] - 799s 14s/step - loss: 0.1714 - accuracy: 0.9527 - val_loss: 0.1512 - val_accuracy: 0.9607\n",
      "Epoch 22/50\n",
      "58/58 [==============================] - 740s 13s/step - loss: 0.1837 - accuracy: 0.9440 - val_loss: 0.2599 - val_accuracy: 0.9100\n",
      "Epoch 23/50\n",
      "58/58 [==============================] - 741s 13s/step - loss: 0.1979 - accuracy: 0.9363 - val_loss: 0.1521 - val_accuracy: 0.9620\n",
      "Epoch 24/50\n",
      "58/58 [==============================] - 739s 13s/step - loss: 0.1967 - accuracy: 0.9320 - val_loss: 0.1378 - val_accuracy: 0.9620\n",
      "Epoch 25/50\n",
      "58/58 [==============================] - 750s 13s/step - loss: 0.1766 - accuracy: 0.9478 - val_loss: 0.1736 - val_accuracy: 0.9417\n",
      "Epoch 26/50\n",
      "58/58 [==============================] - 859s 15s/step - loss: 0.1563 - accuracy: 0.9565 - val_loss: 0.1293 - val_accuracy: 0.9645\n",
      "Epoch 27/50\n",
      "58/58 [==============================] - 793s 14s/step - loss: 0.1827 - accuracy: 0.9440 - val_loss: 0.1693 - val_accuracy: 0.9468\n",
      "Epoch 28/50\n",
      "58/58 [==============================] - 752s 13s/step - loss: 0.1577 - accuracy: 0.9527 - val_loss: 0.1255 - val_accuracy: 0.9708\n",
      "Epoch 29/50\n",
      "58/58 [==============================] - 745s 13s/step - loss: 0.1511 - accuracy: 0.9494 - val_loss: 0.1330 - val_accuracy: 0.9670\n",
      "Epoch 30/50\n",
      "58/58 [==============================] - 750s 13s/step - loss: 0.1633 - accuracy: 0.9499 - val_loss: 0.1295 - val_accuracy: 0.9632\n",
      "Epoch 31/50\n",
      "58/58 [==============================] - 747s 13s/step - loss: 0.1483 - accuracy: 0.9483 - val_loss: 0.1355 - val_accuracy: 0.9544\n",
      "Epoch 32/50\n",
      "58/58 [==============================] - 749s 13s/step - loss: 0.1462 - accuracy: 0.9565 - val_loss: 0.1236 - val_accuracy: 0.9556\n",
      "Epoch 33/50\n",
      "58/58 [==============================] - 745s 13s/step - loss: 0.1433 - accuracy: 0.9521 - val_loss: 0.1445 - val_accuracy: 0.9468\n",
      "Epoch 34/50\n",
      "58/58 [==============================] - 750s 13s/step - loss: 0.1348 - accuracy: 0.9570 - val_loss: 0.1090 - val_accuracy: 0.9721\n",
      "Epoch 35/50\n",
      "58/58 [==============================] - 747s 13s/step - loss: 0.7330 - accuracy: 0.7949 - val_loss: 0.2368 - val_accuracy: 0.9683\n",
      "Epoch 36/50\n",
      "58/58 [==============================] - 747s 13s/step - loss: 0.3015 - accuracy: 0.9255 - val_loss: 0.2225 - val_accuracy: 0.9607\n",
      "Epoch 37/50\n",
      "58/58 [==============================] - 750s 13s/step - loss: 0.2214 - accuracy: 0.9570 - val_loss: 0.2428 - val_accuracy: 0.9506\n",
      "Epoch 38/50\n",
      "58/58 [==============================] - 747s 13s/step - loss: 0.2263 - accuracy: 0.9494 - val_loss: 0.2176 - val_accuracy: 0.9455\n",
      "Epoch 39/50\n",
      "58/58 [==============================] - 750s 13s/step - loss: 0.2068 - accuracy: 0.9516 - val_loss: 0.1677 - val_accuracy: 0.9721\n",
      "Epoch 40/50\n",
      "58/58 [==============================] - 749s 13s/step - loss: 0.1963 - accuracy: 0.9499 - val_loss: 0.1836 - val_accuracy: 0.9696\n",
      "Epoch 41/50\n",
      "58/58 [==============================] - 745s 13s/step - loss: 0.1938 - accuracy: 0.9521 - val_loss: 0.1807 - val_accuracy: 0.9518\n",
      "Epoch 42/50\n",
      "58/58 [==============================] - 747s 13s/step - loss: 0.1831 - accuracy: 0.9521 - val_loss: 0.1440 - val_accuracy: 0.9670\n",
      "Epoch 43/50\n",
      "58/58 [==============================] - 750s 13s/step - loss: 0.1618 - accuracy: 0.9576 - val_loss: 0.1730 - val_accuracy: 0.9518\n",
      "Epoch 44/50\n",
      "58/58 [==============================] - ETA: 0s - loss: 0.1582 - accuracy: 0.9619Restoring model weights from the end of the best epoch: 34.\n",
      "58/58 [==============================] - 752s 13s/step - loss: 0.1582 - accuracy: 0.9619 - val_loss: 0.1314 - val_accuracy: 0.9747\n",
      "Epoch 44: early stopping\n"
     ]
    }
   ],
   "source": [
    "# Compile the model\n",
    "model.compile(optimizer='adam', loss='categorical_crossentropy', metrics=['accuracy'])\n",
    "\n",
    "# Early stopping to prevent overfitting\n",
    "early_stopping = EarlyStopping(patience=10, verbose=1, restore_best_weights=True)\n",
    "\n",
    "# Train the model\n",
    "history = model.fit([X_train_img, X_train_feat], y_train, epochs=50, batch_size=32, validation_data=([X_val_img, X_val_feat], y_val), callbacks=[early_stopping])"
   ]
  },
  {
   "cell_type": "code",
   "execution_count": 7,
   "metadata": {},
   "outputs": [
    {
     "data": {
      "image/png": "[encoded data removed]",
      "text/plain": [
       "<Figure size 800x400 with 1 Axes>"
      ]
     },
     "metadata": {},
     "output_type": "display_data"
    }
   ],
   "source": [
    "#plotting the training and validation loss\n",
    "import matplotlib.pyplot as plt\n",
    "\n",
    "#extracting loss and validation loss from the history object\n",
    "train_loss=history.history['loss']\n",
    "val_loss=history.history['val_loss']\n",
    "\n",
    "#create a range for the number of epochs\n",
    "epochs=range(1,len(train_loss)+1)\n",
    "#plotting training and validation loss\n",
    "plt.figure(figsize=(8,4))\n",
    "plt.plot(epochs, train_loss,label='Training loss')\n",
    "plt.plot(epochs,val_loss,label = 'Validation loss')\n",
    "plt.title('Training and Validation Loss')\n",
    "plt.xlabel('Epochs')\n",
    "plt.ylabel('loss')\n",
    "plt.legend()\n",
    "plt.show()"
   ]
  },
  {
   "cell_type": "code",
   "execution_count": 8,
   "metadata": {},
   "outputs": [
    {
     "name": "stdout",
     "output_type": "stream",
     "text": [
      "25/25 [==============================] - 314s 13s/step\n"
     ]
    }
   ],
   "source": [
    "#Evaluate the model\n",
    "y_pred=model.predict([X_val_img,X_val_feat])\n",
    "y_pred_classes=np.argmax(y_pred,axis=1)\n",
    "y_true=np.argmax(y_val,axis=1)"
   ]
  },
  {
   "cell_type": "code",
   "execution_count": 9,
   "metadata": {},
   "outputs": [],
   "source": [
    "#get class labels\n",
    "class_labels=label_encoder.classes_"
   ]
  },
  {
   "cell_type": "code",
   "execution_count": 10,
   "metadata": {},
   "outputs": [
    {
     "name": "stdout",
     "output_type": "stream",
     "text": [
      "Accuracy:  0.9721166032953105\n",
      "F1-Score:  0.9721166032953105\n",
      "Confusion Matrix:\n",
      "            aggression  calling  courtship\n",
      "aggression         181        0         11\n",
      "calling              0      303          0\n",
      "courtship           11        0        283\n"
     ]
    }
   ],
   "source": [
    "#calculate the metrics\n",
    "accuracy=accuracy_score(y_true, y_pred_classes)\n",
    "f1=f1_score(y_true,y_pred_classes,average='weighted')\n",
    "cm=confusion_matrix(y_true,y_pred_classes,labels=np.arange(len(class_labels)))\n",
    "\n",
    "#print the metrics\n",
    "print(\"Accuracy: \", accuracy)\n",
    "print(\"F1-Score: \", f1)\n",
    "print(\"Confusion Matrix:\")\n",
    "print(pd.DataFrame(cm, index=class_labels,columns=class_labels))"
   ]
  }
 ],
 "metadata": {
  "kernelspec": {
   "display_name": "Machine_Deep_Learning",
   "language": "python",
   "name": "python3"
  },
  "language_info": {
   "codemirror_mode": {
    "name": "ipython",
    "version": 3
   },
   "file_extension": ".py",
   "mimetype": "text/x-python",
   "name": "python",
   "nbconvert_exporter": "python",
   "pygments_lexer": "ipython3",
   "version": "3.10.9"
  }
 },
 "nbformat": 4,
 "nbformat_minor": 2
}
