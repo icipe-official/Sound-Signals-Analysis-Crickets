{
 "cells": [
  {
   "cell_type": "code",
   "execution_count": 73,
   "id": "0f01816d",
   "metadata": {},
   "outputs": [],
   "source": [
    "import pandas as pd\n",
    "import numpy as np\n",
    "import matplotlib.pyplot as plt\n",
    "import seaborn as sns\n",
    "from sklearn import preprocessing\n",
    "from sklearn import metrics"
   ]
  },
  {
   "cell_type": "markdown",
   "id": "6ead7f4a",
   "metadata": {},
   "source": [
    "## Analysis of the Metadata"
   ]
  },
  {
   "cell_type": "code",
   "execution_count": 74,
   "id": "d71ca631",
   "metadata": {},
   "outputs": [],
   "source": [
    "df1=pd.read_csv('crickets_metadata.csv')"
   ]
  },
  {
   "cell_type": "code",
   "execution_count": 75,
   "id": "9578bcb8",
   "metadata": {},
   "outputs": [
    {
     "data": {
      "text/html": [
       "<div>\n",
       "<style scoped>\n",
       "    .dataframe tbody tr th:only-of-type {\n",
       "        vertical-align: middle;\n",
       "    }\n",
       "\n",
       "    .dataframe tbody tr th {\n",
       "        vertical-align: top;\n",
       "    }\n",
       "\n",
       "    .dataframe thead th {\n",
       "        text-align: right;\n",
       "    }\n",
       "</style>\n",
       "<table border=\"1\" class=\"dataframe\">\n",
       "  <thead>\n",
       "    <tr style=\"text-align: right;\">\n",
       "      <th></th>\n",
       "      <th>filename</th>\n",
       "      <th>recording_starttime</th>\n",
       "      <th>recording_endtime</th>\n",
       "      <th>Date of Recording</th>\n",
       "      <th>start</th>\n",
       "      <th>end</th>\n",
       "      <th>species</th>\n",
       "      <th>temp</th>\n",
       "      <th>humidity</th>\n",
       "      <th>label</th>\n",
       "      <th>Day_chirp</th>\n",
       "      <th>Time_Chirp</th>\n",
       "      <th>Hour</th>\n",
       "      <th>Label</th>\n",
       "      <th>courtship_count</th>\n",
       "      <th>calling_count</th>\n",
       "      <th>aggression_count</th>\n",
       "    </tr>\n",
       "  </thead>\n",
       "  <tbody>\n",
       "    <tr>\n",
       "      <th>0</th>\n",
       "      <td>GBL_0046.wav</td>\n",
       "      <td>09.02AM</td>\n",
       "      <td>09.32.00AM</td>\n",
       "      <td>12TH Jan 2023</td>\n",
       "      <td>09.16.00AM</td>\n",
       "      <td>09.19.33AM</td>\n",
       "      <td>Male-Female</td>\n",
       "      <td>22.8</td>\n",
       "      <td>58.6</td>\n",
       "      <td>courtship</td>\n",
       "      <td>1</td>\n",
       "      <td>09:16:00</td>\n",
       "      <td>9</td>\n",
       "      <td>0</td>\n",
       "      <td>5.0</td>\n",
       "      <td>NaN</td>\n",
       "      <td>NaN</td>\n",
       "    </tr>\n",
       "    <tr>\n",
       "      <th>1</th>\n",
       "      <td>GBL_0046.wav</td>\n",
       "      <td>09.02AM</td>\n",
       "      <td>09.32.00AM</td>\n",
       "      <td>12TH Jan 2023</td>\n",
       "      <td>09.23.36AM</td>\n",
       "      <td>09.23.37AM</td>\n",
       "      <td>Male-Female</td>\n",
       "      <td>22.8</td>\n",
       "      <td>58.4</td>\n",
       "      <td>courtship</td>\n",
       "      <td>1</td>\n",
       "      <td>09:23:36</td>\n",
       "      <td>9</td>\n",
       "      <td>0</td>\n",
       "      <td>NaN</td>\n",
       "      <td>NaN</td>\n",
       "      <td>NaN</td>\n",
       "    </tr>\n",
       "    <tr>\n",
       "      <th>2</th>\n",
       "      <td>GBL_0046.wav</td>\n",
       "      <td>09.02AM</td>\n",
       "      <td>09.32.00AM</td>\n",
       "      <td>12TH Jan 2023</td>\n",
       "      <td>09.23.47AM</td>\n",
       "      <td>09.23.49AM</td>\n",
       "      <td>Male-Female</td>\n",
       "      <td>22.8</td>\n",
       "      <td>58.3</td>\n",
       "      <td>courtship</td>\n",
       "      <td>1</td>\n",
       "      <td>09:23:47</td>\n",
       "      <td>9</td>\n",
       "      <td>0</td>\n",
       "      <td>NaN</td>\n",
       "      <td>NaN</td>\n",
       "      <td>NaN</td>\n",
       "    </tr>\n",
       "    <tr>\n",
       "      <th>3</th>\n",
       "      <td>GBL_0046.wav</td>\n",
       "      <td>09.02AM</td>\n",
       "      <td>09.32.00AM</td>\n",
       "      <td>12TH Jan 2023</td>\n",
       "      <td>09.23.58AM</td>\n",
       "      <td>09.32.00AM</td>\n",
       "      <td>Male-Female</td>\n",
       "      <td>22.8</td>\n",
       "      <td>58.2</td>\n",
       "      <td>courtship</td>\n",
       "      <td>1</td>\n",
       "      <td>09:23:58</td>\n",
       "      <td>9</td>\n",
       "      <td>0</td>\n",
       "      <td>NaN</td>\n",
       "      <td>NaN</td>\n",
       "      <td>NaN</td>\n",
       "    </tr>\n",
       "    <tr>\n",
       "      <th>4</th>\n",
       "      <td>GBL_0047.wav</td>\n",
       "      <td>09.42AM</td>\n",
       "      <td>10.12.00AM</td>\n",
       "      <td>12TH Jan 2023</td>\n",
       "      <td>09.43.34AM</td>\n",
       "      <td>09.51.53AM</td>\n",
       "      <td>Male-Female</td>\n",
       "      <td>22.8</td>\n",
       "      <td>57.6</td>\n",
       "      <td>courtship</td>\n",
       "      <td>1</td>\n",
       "      <td>09:43:34</td>\n",
       "      <td>9</td>\n",
       "      <td>0</td>\n",
       "      <td>NaN</td>\n",
       "      <td>NaN</td>\n",
       "      <td>NaN</td>\n",
       "    </tr>\n",
       "  </tbody>\n",
       "</table>\n",
       "</div>"
      ],
      "text/plain": [
       "       filename recording_starttime recording_endtime Date of Recording  \\\n",
       "0  GBL_0046.wav             09.02AM        09.32.00AM     12TH Jan 2023   \n",
       "1  GBL_0046.wav             09.02AM        09.32.00AM     12TH Jan 2023   \n",
       "2  GBL_0046.wav             09.02AM        09.32.00AM     12TH Jan 2023   \n",
       "3  GBL_0046.wav             09.02AM        09.32.00AM     12TH Jan 2023   \n",
       "4  GBL_0047.wav             09.42AM        10.12.00AM     12TH Jan 2023   \n",
       "\n",
       "        start         end      species  temp  humidity      label  Day_chirp  \\\n",
       "0  09.16.00AM  09.19.33AM  Male-Female  22.8      58.6  courtship          1   \n",
       "1  09.23.36AM  09.23.37AM  Male-Female  22.8      58.4  courtship          1   \n",
       "2  09.23.47AM  09.23.49AM  Male-Female  22.8      58.3  courtship          1   \n",
       "3  09.23.58AM  09.32.00AM  Male-Female  22.8      58.2  courtship          1   \n",
       "4  09.43.34AM  09.51.53AM  Male-Female  22.8      57.6  courtship          1   \n",
       "\n",
       "  Time_Chirp  Hour  Label  courtship_count  calling_count  aggression_count  \n",
       "0   09:16:00     9      0              5.0            NaN               NaN  \n",
       "1   09:23:36     9      0              NaN            NaN               NaN  \n",
       "2   09:23:47     9      0              NaN            NaN               NaN  \n",
       "3   09:23:58     9      0              NaN            NaN               NaN  \n",
       "4   09:43:34     9      0              NaN            NaN               NaN  "
      ]
     },
     "execution_count": 75,
     "metadata": {},
     "output_type": "execute_result"
    }
   ],
   "source": [
    "#data eyeballing\n",
    "df1.head()"
   ]
  },
  {
   "cell_type": "code",
   "execution_count": 76,
   "id": "5ca7af6f",
   "metadata": {},
   "outputs": [
    {
     "name": "stdout",
     "output_type": "stream",
     "text": [
      "<class 'pandas.core.frame.DataFrame'>\n",
      "RangeIndex: 592 entries, 0 to 591\n",
      "Data columns (total 17 columns):\n",
      " #   Column               Non-Null Count  Dtype  \n",
      "---  ------               --------------  -----  \n",
      " 0   filename             592 non-null    object \n",
      " 1   recording_starttime  592 non-null    object \n",
      " 2   recording_endtime    592 non-null    object \n",
      " 3   Date of Recording    592 non-null    object \n",
      " 4   start                592 non-null    object \n",
      " 5   end                  592 non-null    object \n",
      " 6   species              592 non-null    object \n",
      " 7   temp                 592 non-null    float64\n",
      " 8   humidity             592 non-null    float64\n",
      " 9   label                592 non-null    object \n",
      " 10  Day_chirp            592 non-null    int64  \n",
      " 11  Time_Chirp           592 non-null    object \n",
      " 12  Hour                 592 non-null    int64  \n",
      " 13  Label                592 non-null    int64  \n",
      " 14  courtship_count      57 non-null     float64\n",
      " 15  calling_count        114 non-null    float64\n",
      " 16  aggression_count     25 non-null     float64\n",
      "dtypes: float64(5), int64(3), object(9)\n",
      "memory usage: 78.8+ KB\n"
     ]
    }
   ],
   "source": [
    "# inspecting feature datatypes\n",
    "df1.info()"
   ]
  },
  {
   "cell_type": "markdown",
   "id": "70efddab",
   "metadata": {},
   "source": [
    "- recording_starttime,recording_endtime,start and end are of datatype of object but should be of datatime data type"
   ]
  },
  {
   "cell_type": "code",
   "execution_count": 77,
   "id": "2bf861c2",
   "metadata": {},
   "outputs": [],
   "source": [
    "#replacing strings AM and PM \n",
    "df1['recording_starttime'] = df1['recording_starttime'].str.replace('AM','').str.replace('PM','')\n",
    "df1['recording_endtime'] = df1['recording_endtime'].str.replace('AM','').str.replace('PM','')\n",
    "df1['start'] = df1['start'].str.replace('AM','').str.replace('PM','')\n",
    "df1['end'] = df1['end'].str.replace('AM','').str.replace('PM','')"
   ]
  },
  {
   "cell_type": "code",
   "execution_count": 78,
   "id": "db139485",
   "metadata": {},
   "outputs": [],
   "source": [
    "# converting record_starttime, record_endtime, start and end to datetime\n",
    "df1['recording_starttime']=pd.to_datetime(df1['recording_starttime'],format='%H.%M')\n",
    "df1['recording_endtime']=pd.to_datetime(df1['recording_endtime'],format='%H.%M.%S')\n",
    "df1['end'] =pd.to_datetime(df1['end'],format='%H.%M.%S')\n",
    "df1['start'] =pd.to_datetime(df1['start'],format='%H.%M.%S')"
   ]
  },
  {
   "cell_type": "code",
   "execution_count": 79,
   "id": "ddc14aa5",
   "metadata": {},
   "outputs": [],
   "source": [
    "df1['Date of Recording']=pd.to_datetime(df1['Date of Recording'])"
   ]
  },
  {
   "cell_type": "code",
   "execution_count": 80,
   "id": "2a4d751e",
   "metadata": {},
   "outputs": [
    {
     "data": {
      "text/plain": [
       "filename                       object\n",
       "recording_starttime    datetime64[ns]\n",
       "recording_endtime      datetime64[ns]\n",
       "Date of Recording      datetime64[ns]\n",
       "start                  datetime64[ns]\n",
       "end                    datetime64[ns]\n",
       "species                        object\n",
       "temp                          float64\n",
       "humidity                      float64\n",
       "label                          object\n",
       "Day_chirp                       int64\n",
       "Time_Chirp                     object\n",
       "Hour                            int64\n",
       "Label                           int64\n",
       "courtship_count               float64\n",
       "calling_count                 float64\n",
       "aggression_count              float64\n",
       "dtype: object"
      ]
     },
     "execution_count": 80,
     "metadata": {},
     "output_type": "execute_result"
    }
   ],
   "source": [
    "#confirming the changes in datatype conversion\n",
    "df1.dtypes"
   ]
  },
  {
   "cell_type": "code",
   "execution_count": 81,
   "id": "36cdda0c",
   "metadata": {},
   "outputs": [
    {
     "data": {
      "text/html": [
       "<div>\n",
       "<style scoped>\n",
       "    .dataframe tbody tr th:only-of-type {\n",
       "        vertical-align: middle;\n",
       "    }\n",
       "\n",
       "    .dataframe tbody tr th {\n",
       "        vertical-align: top;\n",
       "    }\n",
       "\n",
       "    .dataframe thead th {\n",
       "        text-align: right;\n",
       "    }\n",
       "</style>\n",
       "<table border=\"1\" class=\"dataframe\">\n",
       "  <thead>\n",
       "    <tr style=\"text-align: right;\">\n",
       "      <th></th>\n",
       "      <th>filename</th>\n",
       "      <th>recording_starttime</th>\n",
       "      <th>recording_endtime</th>\n",
       "      <th>Date of Recording</th>\n",
       "      <th>start</th>\n",
       "      <th>end</th>\n",
       "      <th>species</th>\n",
       "      <th>temp</th>\n",
       "      <th>humidity</th>\n",
       "      <th>label</th>\n",
       "      <th>Day_chirp</th>\n",
       "      <th>Time_Chirp</th>\n",
       "      <th>Hour</th>\n",
       "      <th>Label</th>\n",
       "      <th>courtship_count</th>\n",
       "      <th>calling_count</th>\n",
       "      <th>aggression_count</th>\n",
       "    </tr>\n",
       "  </thead>\n",
       "  <tbody>\n",
       "    <tr>\n",
       "      <th>0</th>\n",
       "      <td>GBL_0046.wav</td>\n",
       "      <td>1900-01-01 09:02:00</td>\n",
       "      <td>1900-01-01 09:32:00</td>\n",
       "      <td>2023-01-12</td>\n",
       "      <td>1900-01-01 09:16:00</td>\n",
       "      <td>1900-01-01 09:19:33</td>\n",
       "      <td>Male-Female</td>\n",
       "      <td>22.8</td>\n",
       "      <td>58.6</td>\n",
       "      <td>courtship</td>\n",
       "      <td>1</td>\n",
       "      <td>09:16:00</td>\n",
       "      <td>9</td>\n",
       "      <td>0</td>\n",
       "      <td>5.0</td>\n",
       "      <td>NaN</td>\n",
       "      <td>NaN</td>\n",
       "    </tr>\n",
       "    <tr>\n",
       "      <th>1</th>\n",
       "      <td>GBL_0046.wav</td>\n",
       "      <td>1900-01-01 09:02:00</td>\n",
       "      <td>1900-01-01 09:32:00</td>\n",
       "      <td>2023-01-12</td>\n",
       "      <td>1900-01-01 09:23:36</td>\n",
       "      <td>1900-01-01 09:23:37</td>\n",
       "      <td>Male-Female</td>\n",
       "      <td>22.8</td>\n",
       "      <td>58.4</td>\n",
       "      <td>courtship</td>\n",
       "      <td>1</td>\n",
       "      <td>09:23:36</td>\n",
       "      <td>9</td>\n",
       "      <td>0</td>\n",
       "      <td>NaN</td>\n",
       "      <td>NaN</td>\n",
       "      <td>NaN</td>\n",
       "    </tr>\n",
       "    <tr>\n",
       "      <th>2</th>\n",
       "      <td>GBL_0046.wav</td>\n",
       "      <td>1900-01-01 09:02:00</td>\n",
       "      <td>1900-01-01 09:32:00</td>\n",
       "      <td>2023-01-12</td>\n",
       "      <td>1900-01-01 09:23:47</td>\n",
       "      <td>1900-01-01 09:23:49</td>\n",
       "      <td>Male-Female</td>\n",
       "      <td>22.8</td>\n",
       "      <td>58.3</td>\n",
       "      <td>courtship</td>\n",
       "      <td>1</td>\n",
       "      <td>09:23:47</td>\n",
       "      <td>9</td>\n",
       "      <td>0</td>\n",
       "      <td>NaN</td>\n",
       "      <td>NaN</td>\n",
       "      <td>NaN</td>\n",
       "    </tr>\n",
       "    <tr>\n",
       "      <th>3</th>\n",
       "      <td>GBL_0046.wav</td>\n",
       "      <td>1900-01-01 09:02:00</td>\n",
       "      <td>1900-01-01 09:32:00</td>\n",
       "      <td>2023-01-12</td>\n",
       "      <td>1900-01-01 09:23:58</td>\n",
       "      <td>1900-01-01 09:32:00</td>\n",
       "      <td>Male-Female</td>\n",
       "      <td>22.8</td>\n",
       "      <td>58.2</td>\n",
       "      <td>courtship</td>\n",
       "      <td>1</td>\n",
       "      <td>09:23:58</td>\n",
       "      <td>9</td>\n",
       "      <td>0</td>\n",
       "      <td>NaN</td>\n",
       "      <td>NaN</td>\n",
       "      <td>NaN</td>\n",
       "    </tr>\n",
       "    <tr>\n",
       "      <th>4</th>\n",
       "      <td>GBL_0047.wav</td>\n",
       "      <td>1900-01-01 09:42:00</td>\n",
       "      <td>1900-01-01 10:12:00</td>\n",
       "      <td>2023-01-12</td>\n",
       "      <td>1900-01-01 09:43:34</td>\n",
       "      <td>1900-01-01 09:51:53</td>\n",
       "      <td>Male-Female</td>\n",
       "      <td>22.8</td>\n",
       "      <td>57.6</td>\n",
       "      <td>courtship</td>\n",
       "      <td>1</td>\n",
       "      <td>09:43:34</td>\n",
       "      <td>9</td>\n",
       "      <td>0</td>\n",
       "      <td>NaN</td>\n",
       "      <td>NaN</td>\n",
       "      <td>NaN</td>\n",
       "    </tr>\n",
       "  </tbody>\n",
       "</table>\n",
       "</div>"
      ],
      "text/plain": [
       "       filename recording_starttime   recording_endtime Date of Recording  \\\n",
       "0  GBL_0046.wav 1900-01-01 09:02:00 1900-01-01 09:32:00        2023-01-12   \n",
       "1  GBL_0046.wav 1900-01-01 09:02:00 1900-01-01 09:32:00        2023-01-12   \n",
       "2  GBL_0046.wav 1900-01-01 09:02:00 1900-01-01 09:32:00        2023-01-12   \n",
       "3  GBL_0046.wav 1900-01-01 09:02:00 1900-01-01 09:32:00        2023-01-12   \n",
       "4  GBL_0047.wav 1900-01-01 09:42:00 1900-01-01 10:12:00        2023-01-12   \n",
       "\n",
       "                start                 end      species  temp  humidity  \\\n",
       "0 1900-01-01 09:16:00 1900-01-01 09:19:33  Male-Female  22.8      58.6   \n",
       "1 1900-01-01 09:23:36 1900-01-01 09:23:37  Male-Female  22.8      58.4   \n",
       "2 1900-01-01 09:23:47 1900-01-01 09:23:49  Male-Female  22.8      58.3   \n",
       "3 1900-01-01 09:23:58 1900-01-01 09:32:00  Male-Female  22.8      58.2   \n",
       "4 1900-01-01 09:43:34 1900-01-01 09:51:53  Male-Female  22.8      57.6   \n",
       "\n",
       "       label  Day_chirp Time_Chirp  Hour  Label  courtship_count  \\\n",
       "0  courtship          1   09:16:00     9      0              5.0   \n",
       "1  courtship          1   09:23:36     9      0              NaN   \n",
       "2  courtship          1   09:23:47     9      0              NaN   \n",
       "3  courtship          1   09:23:58     9      0              NaN   \n",
       "4  courtship          1   09:43:34     9      0              NaN   \n",
       "\n",
       "   calling_count  aggression_count  \n",
       "0            NaN               NaN  \n",
       "1            NaN               NaN  \n",
       "2            NaN               NaN  \n",
       "3            NaN               NaN  \n",
       "4            NaN               NaN  "
      ]
     },
     "execution_count": 81,
     "metadata": {},
     "output_type": "execute_result"
    }
   ],
   "source": [
    "df1.head()"
   ]
  },
  {
   "cell_type": "code",
   "execution_count": 82,
   "id": "90f708ba",
   "metadata": {},
   "outputs": [
    {
     "data": {
      "text/plain": [
       "array(['courtship', 'calling ', 'calling', 'courtship ', 'courstship',\n",
       "       'aggression', 'rivarly', 'aggression '], dtype=object)"
      ]
     },
     "execution_count": 82,
     "metadata": {},
     "output_type": "execute_result"
    }
   ],
   "source": [
    "#checking for unique labels in the label column\n",
    "df1['label'].unique()"
   ]
  },
  {
   "cell_type": "code",
   "execution_count": 83,
   "id": "325f5035",
   "metadata": {},
   "outputs": [],
   "source": [
    "#amonizing the labels in the label column\n",
    "df1['label']=df1['label'].str.replace('calling ','calling')\n",
    "df1['label']=df1['label'].str.replace('aggression ','aggression').str.replace('rivarly','aggression')\n",
    "df1['label']=df1['label'].str.replace('courtship ','courtship').str.replace('courstship','courtship')"
   ]
  },
  {
   "cell_type": "code",
   "execution_count": 84,
   "id": "6a6deb1b",
   "metadata": {},
   "outputs": [
    {
     "data": {
      "text/plain": [
       "array(['courtship', 'calling', 'aggression'], dtype=object)"
      ]
     },
     "execution_count": 84,
     "metadata": {},
     "output_type": "execute_result"
    }
   ],
   "source": [
    "#confirming the changes\n",
    "df1['label'].unique()"
   ]
  },
  {
   "cell_type": "code",
   "execution_count": 85,
   "id": "cabab320",
   "metadata": {},
   "outputs": [],
   "source": [
    "#save to excel\n",
    "#df1.to_excel(\"output.xlsx\") "
   ]
  },
  {
   "cell_type": "code",
   "execution_count": 86,
   "id": "f0cc6ae9",
   "metadata": {},
   "outputs": [
    {
     "data": {
      "text/html": [
       "<div>\n",
       "<style scoped>\n",
       "    .dataframe tbody tr th:only-of-type {\n",
       "        vertical-align: middle;\n",
       "    }\n",
       "\n",
       "    .dataframe tbody tr th {\n",
       "        vertical-align: top;\n",
       "    }\n",
       "\n",
       "    .dataframe thead th {\n",
       "        text-align: right;\n",
       "    }\n",
       "</style>\n",
       "<table border=\"1\" class=\"dataframe\">\n",
       "  <thead>\n",
       "    <tr style=\"text-align: right;\">\n",
       "      <th></th>\n",
       "      <th>temp</th>\n",
       "      <th>humidity</th>\n",
       "      <th>Day_chirp</th>\n",
       "      <th>Hour</th>\n",
       "      <th>Label</th>\n",
       "      <th>courtship_count</th>\n",
       "      <th>calling_count</th>\n",
       "      <th>aggression_count</th>\n",
       "    </tr>\n",
       "  </thead>\n",
       "  <tbody>\n",
       "    <tr>\n",
       "      <th>count</th>\n",
       "      <td>592.000000</td>\n",
       "      <td>592.000000</td>\n",
       "      <td>592.000000</td>\n",
       "      <td>592.000000</td>\n",
       "      <td>592.000000</td>\n",
       "      <td>57.000000</td>\n",
       "      <td>114.000000</td>\n",
       "      <td>25.000000</td>\n",
       "    </tr>\n",
       "    <tr>\n",
       "      <th>mean</th>\n",
       "      <td>23.663514</td>\n",
       "      <td>45.661318</td>\n",
       "      <td>6.173986</td>\n",
       "      <td>11.320946</td>\n",
       "      <td>0.883446</td>\n",
       "      <td>1.877193</td>\n",
       "      <td>3.859649</td>\n",
       "      <td>1.560000</td>\n",
       "    </tr>\n",
       "    <tr>\n",
       "      <th>std</th>\n",
       "      <td>0.605798</td>\n",
       "      <td>6.402390</td>\n",
       "      <td>3.794439</td>\n",
       "      <td>7.011354</td>\n",
       "      <td>0.488372</td>\n",
       "      <td>1.363690</td>\n",
       "      <td>3.486706</td>\n",
       "      <td>1.193035</td>\n",
       "    </tr>\n",
       "    <tr>\n",
       "      <th>min</th>\n",
       "      <td>20.600000</td>\n",
       "      <td>25.200000</td>\n",
       "      <td>1.000000</td>\n",
       "      <td>0.000000</td>\n",
       "      <td>0.000000</td>\n",
       "      <td>1.000000</td>\n",
       "      <td>1.000000</td>\n",
       "      <td>1.000000</td>\n",
       "    </tr>\n",
       "    <tr>\n",
       "      <th>25%</th>\n",
       "      <td>23.175000</td>\n",
       "      <td>41.475000</td>\n",
       "      <td>3.000000</td>\n",
       "      <td>6.000000</td>\n",
       "      <td>1.000000</td>\n",
       "      <td>1.000000</td>\n",
       "      <td>2.000000</td>\n",
       "      <td>1.000000</td>\n",
       "    </tr>\n",
       "    <tr>\n",
       "      <th>50%</th>\n",
       "      <td>23.700000</td>\n",
       "      <td>46.250000</td>\n",
       "      <td>6.000000</td>\n",
       "      <td>10.000000</td>\n",
       "      <td>1.000000</td>\n",
       "      <td>2.000000</td>\n",
       "      <td>3.000000</td>\n",
       "      <td>1.000000</td>\n",
       "    </tr>\n",
       "    <tr>\n",
       "      <th>75%</th>\n",
       "      <td>24.100000</td>\n",
       "      <td>50.125000</td>\n",
       "      <td>10.000000</td>\n",
       "      <td>18.000000</td>\n",
       "      <td>1.000000</td>\n",
       "      <td>2.000000</td>\n",
       "      <td>5.000000</td>\n",
       "      <td>2.000000</td>\n",
       "    </tr>\n",
       "    <tr>\n",
       "      <th>max</th>\n",
       "      <td>25.300000</td>\n",
       "      <td>65.800000</td>\n",
       "      <td>13.000000</td>\n",
       "      <td>23.000000</td>\n",
       "      <td>2.000000</td>\n",
       "      <td>9.000000</td>\n",
       "      <td>21.000000</td>\n",
       "      <td>6.000000</td>\n",
       "    </tr>\n",
       "  </tbody>\n",
       "</table>\n",
       "</div>"
      ],
      "text/plain": [
       "             temp    humidity   Day_chirp        Hour       Label  \\\n",
       "count  592.000000  592.000000  592.000000  592.000000  592.000000   \n",
       "mean    23.663514   45.661318    6.173986   11.320946    0.883446   \n",
       "std      0.605798    6.402390    3.794439    7.011354    0.488372   \n",
       "min     20.600000   25.200000    1.000000    0.000000    0.000000   \n",
       "25%     23.175000   41.475000    3.000000    6.000000    1.000000   \n",
       "50%     23.700000   46.250000    6.000000   10.000000    1.000000   \n",
       "75%     24.100000   50.125000   10.000000   18.000000    1.000000   \n",
       "max     25.300000   65.800000   13.000000   23.000000    2.000000   \n",
       "\n",
       "       courtship_count  calling_count  aggression_count  \n",
       "count        57.000000     114.000000         25.000000  \n",
       "mean          1.877193       3.859649          1.560000  \n",
       "std           1.363690       3.486706          1.193035  \n",
       "min           1.000000       1.000000          1.000000  \n",
       "25%           1.000000       2.000000          1.000000  \n",
       "50%           2.000000       3.000000          1.000000  \n",
       "75%           2.000000       5.000000          2.000000  \n",
       "max           9.000000      21.000000          6.000000  "
      ]
     },
     "execution_count": 86,
     "metadata": {},
     "output_type": "execute_result"
    }
   ],
   "source": [
    "#summary statistics of the dataset\n",
    "df1.describe()"
   ]
  },
  {
   "cell_type": "markdown",
   "id": "cbca7009",
   "metadata": {},
   "source": [
    "- The lowest temperature recorded was 20.6 while the highest temperature recorded was 25.3\n",
    "- The lowest humidity recorded was 25.2 while the maximum humidity recorded was 65.8"
   ]
  },
  {
   "cell_type": "code",
   "execution_count": 87,
   "id": "935f94d9",
   "metadata": {},
   "outputs": [
    {
     "data": {
      "text/plain": [
       "Index(['filename', 'recording_starttime', 'recording_endtime',\n",
       "       'Date of Recording', 'start', 'end', 'species', 'temp', 'humidity',\n",
       "       'label', 'Day_chirp', 'Time_Chirp', 'Hour', 'Label', 'courtship_count',\n",
       "       'calling_count', 'aggression_count'],\n",
       "      dtype='object')"
      ]
     },
     "execution_count": 87,
     "metadata": {},
     "output_type": "execute_result"
    }
   ],
   "source": [
    "df1.columns"
   ]
  },
  {
   "cell_type": "code",
   "execution_count": 88,
   "id": "19a37fd6",
   "metadata": {},
   "outputs": [
    {
     "data": {
      "image/png": "[encoded data removed]",
      "text/plain": [
       "<Figure size 720x432 with 1 Axes>"
      ]
     },
     "metadata": {
      "needs_background": "light"
     },
     "output_type": "display_data"
    }
   ],
   "source": [
    "fig, ax = plt.subplots(figsize=(10, 6))\n",
    "df1['temp'].plot(ax=ax, label='Temperature')\n",
    "df1['humidity'].plot(ax=ax, label='Humidity')\n",
    "\n",
    "# set chart title and axis labels\n",
    "#ax.set_title('Temperature and Humidity Trend')\n",
    "#ax.set_xlabel('Index')\n",
    "#ax.set_ylabel('Value')\n",
    "plt.title('Temperature and Humidity Trend')\n",
    "plt.xlabel('Index')\n",
    "plt.ylabel('Value')\n",
    "# display the legend\n",
    "ax.legend()\n",
    "\n",
    "# display the chart\n",
    "plt.show()"
   ]
  },
  {
   "cell_type": "markdown",
   "id": "abb49504",
   "metadata": {},
   "source": [
    "- From the graphs above, temp does not affect the kind of song produced by the cricket because it constant\n",
    "- The effects of the trend on humidity against the songs can not be substantiated"
   ]
  },
  {
   "cell_type": "code",
   "execution_count": 89,
   "id": "9a384d77",
   "metadata": {},
   "outputs": [
    {
     "data": {
      "image/png": "[encoded data removed]",
      "text/plain": [
       "<Figure size 720x432 with 1 Axes>"
      ]
     },
     "metadata": {
      "needs_background": "light"
     },
     "output_type": "display_data"
    }
   ],
   "source": [
    "#trend of temperature based on the date of recording\n",
    "# create a line chart with temperature and humidity\n",
    "fig, ax = plt.subplots(figsize=(10, 6))\n",
    "df1.plot(x='Date of Recording', y=['temp', 'humidity'], ax=ax)\n",
    "\n",
    "# set chart title and axis labels\n",
    "#ax.set_title('Temperature and Humidity Trend')\n",
    "ax.set_xlabel('Date')\n",
    "ax.set_ylabel('Value')\n",
    "\n",
    "# display the chart\n",
    "plt.show()"
   ]
  },
  {
   "cell_type": "code",
   "execution_count": 90,
   "id": "5d21b41c",
   "metadata": {},
   "outputs": [
    {
     "data": {
      "text/plain": [
       "species\n",
       "Male            64\n",
       "Male-Female    302\n",
       "Male-Male      226\n",
       "Name: species, dtype: int64"
      ]
     },
     "execution_count": 90,
     "metadata": {},
     "output_type": "execute_result"
    }
   ],
   "source": [
    "#distribution of labels based on the species\n",
    "df_1=df1.groupby(['species'])['species'].count()\n",
    "df_1.head()"
   ]
  },
  {
   "cell_type": "code",
   "execution_count": 91,
   "id": "e2fc996f",
   "metadata": {},
   "outputs": [
    {
     "data": {
      "text/plain": [
       "<Axes: xlabel='species', ylabel='species'>"
      ]
     },
     "execution_count": 91,
     "metadata": {},
     "output_type": "execute_result"
    },
    {
     "data": {
      "image/png": "[encoded data removed]",
      "text/plain": [
       "<Figure size 432x288 with 1 Axes>"
      ]
     },
     "metadata": {
      "needs_background": "light"
     },
     "output_type": "display_data"
    }
   ],
   "source": [
    "sns.barplot(y=df_1.index,x=df_1,palette='Set2',orient='h')"
   ]
  },
  {
   "cell_type": "markdown",
   "id": "22dad59d",
   "metadata": {},
   "source": [
    "- Male-Female have the highest contribution to the labels in thi dataset followed by Male-Male and finally Male"
   ]
  },
  {
   "cell_type": "code",
   "execution_count": 92,
   "id": "26d41579",
   "metadata": {},
   "outputs": [
    {
     "data": {
      "text/plain": [
       "label\n",
       "aggression     40\n",
       "calling       443\n",
       "courtship     109\n",
       "Name: label, dtype: int64"
      ]
     },
     "execution_count": 92,
     "metadata": {},
     "output_type": "execute_result"
    }
   ],
   "source": [
    "#distribution of labels in the dataset\n",
    "df_2=df1.groupby(['label'])['label'].count()\n",
    "df_2"
   ]
  },
  {
   "cell_type": "code",
   "execution_count": 93,
   "id": "5673943f",
   "metadata": {},
   "outputs": [
    {
     "data": {
      "text/plain": [
       "<Axes: xlabel='label', ylabel='label'>"
      ]
     },
     "execution_count": 93,
     "metadata": {},
     "output_type": "execute_result"
    },
    {
     "data": {
      "image/png": "[encoded data removed]",
      "text/plain": [
       "<Figure size 432x288 with 1 Axes>"
      ]
     },
     "metadata": {
      "needs_background": "light"
     },
     "output_type": "display_data"
    }
   ],
   "source": [
    "sns.barplot(y=df_2.index,x=df_2,palette='bright',orient='h')"
   ]
  },
  {
   "cell_type": "code",
   "execution_count": 94,
   "id": "3cf8f2d7",
   "metadata": {},
   "outputs": [
    {
     "data": {
      "text/plain": [
       "<Axes: xlabel='temp', ylabel='label'>"
      ]
     },
     "execution_count": 94,
     "metadata": {},
     "output_type": "execute_result"
    },
    {
     "data": {
      "image/png": "[encoded data removed]",
      "text/plain": [
       "<Figure size 432x288 with 1 Axes>"
      ]
     },
     "metadata": {
      "needs_background": "light"
     },
     "output_type": "display_data"
    }
   ],
   "source": [
    "# effects of temp on the label\n",
    "sns.violinplot(x=df1['temp'],y=df1['label'])"
   ]
  },
  {
   "cell_type": "code",
   "execution_count": 95,
   "id": "c4316cc0",
   "metadata": {},
   "outputs": [
    {
     "data": {
      "text/plain": [
       "<Axes: xlabel='humidity', ylabel='label'>"
      ]
     },
     "execution_count": 95,
     "metadata": {},
     "output_type": "execute_result"
    },
    {
     "data": {
      "image/png": "[encoded data removed]",
      "text/plain": [
       "<Figure size 432x288 with 1 Axes>"
      ]
     },
     "metadata": {
      "needs_background": "light"
     },
     "output_type": "display_data"
    }
   ],
   "source": [
    "#effects of humidity on the label\n",
    "sns.violinplot(x=df1['humidity'],y=df1['label'])"
   ]
  },
  {
   "cell_type": "code",
   "execution_count": 96,
   "id": "b1950972",
   "metadata": {},
   "outputs": [
    {
     "data": {
      "text/plain": [
       "<Axes: xlabel='temp', ylabel='humidity'>"
      ]
     },
     "execution_count": 96,
     "metadata": {},
     "output_type": "execute_result"
    },
    {
     "data": {
      "image/png": "[encoded data removed]",
      "text/plain": [
       "<Figure size 1080x720 with 1 Axes>"
      ]
     },
     "metadata": {
      "needs_background": "light"
     },
     "output_type": "display_data"
    }
   ],
   "source": [
    "#effects of temparature and humidity over the songs\n",
    "plt.figure(figsize=(15,10))\n",
    "sns.lineplot(x=df1['temp'],y=df1['humidity'],hue=df1['label'])"
   ]
  },
  {
   "cell_type": "code",
   "execution_count": 107,
   "id": "d39b1c16",
   "metadata": {},
   "outputs": [
    {
     "data": {
      "image/png": "[encoded data removed]",
      "text/plain": [
       "<Figure size 738.625x432 with 1 Axes>"
      ]
     },
     "metadata": {
      "needs_background": "light"
     },
     "output_type": "display_data"
    }
   ],
   "source": [
    "sns.catplot(x='Hour', hue='label', kind='count', data=df1, height=6, aspect=1.5)\n",
    "#plt.title('Label Distribution across Time')\n",
    "plt.xlabel('Time(Hrs)')\n",
    "plt.ylabel('Count')\n",
    "plt.show()\n"
   ]
  },
  {
   "cell_type": "code",
   "execution_count": 98,
   "id": "780e0a0b",
   "metadata": {},
   "outputs": [
    {
     "data": {
      "image/png": "[encoded data removed]",
      "text/plain": [
       "<Figure size 432x288 with 1 Axes>"
      ]
     },
     "metadata": {
      "needs_background": "light"
     },
     "output_type": "display_data"
    }
   ],
   "source": [
    "sns.stripplot(x='label', y='temp', data=df1, jitter=True)\n",
    "#plt.title('Temperature vs. Label')\n",
    "plt.xlabel('Label')\n",
    "plt.ylabel('Temperature')\n",
    "plt.show()"
   ]
  },
  {
   "cell_type": "code",
   "execution_count": 99,
   "id": "940480e9",
   "metadata": {},
   "outputs": [
    {
     "data": {
      "image/png": "[encoded data removed]",
      "text/plain": [
       "<Figure size 432x288 with 1 Axes>"
      ]
     },
     "metadata": {
      "needs_background": "light"
     },
     "output_type": "display_data"
    }
   ],
   "source": [
    "sns.stripplot(x='label', y='humidity', data=df1, jitter=True)\n",
    "#plt.title('Humidity vs. Label')\n",
    "plt.xlabel('Label')\n",
    "plt.ylabel('Humidity')\n",
    "plt.show()"
   ]
  },
  {
   "cell_type": "code",
   "execution_count": 100,
   "id": "17132da2",
   "metadata": {},
   "outputs": [
    {
     "data": {
      "image/png": "[encoded data removed]",
      "text/plain": [
       "<Figure size 432x288 with 1 Axes>"
      ]
     },
     "metadata": {
      "needs_background": "light"
     },
     "output_type": "display_data"
    }
   ],
   "source": [
    "#A scatter plot to establish the courtship song chirp rate in 24 hrs\n",
    "sns.scatterplot(data=df1,x=\"Hour\", y='Day_chirp', size='courtship_count', legend=False, sizes=(10, 300))\n",
    "\n",
    "# show the graph\n",
    "plt.show()"
   ]
  },
  {
   "cell_type": "code",
   "execution_count": 102,
   "id": "f8702417",
   "metadata": {},
   "outputs": [],
   "source": [
    "# Using GroupBy multiple column\n",
    "#df2 = df1[['Day_chirp','Hour','label']]\n",
    "#df2"
   ]
  },
  {
   "cell_type": "code",
   "execution_count": 103,
   "id": "601b1867",
   "metadata": {},
   "outputs": [],
   "source": [
    "#df2['count']=df2.groupby('Day_chirp')['label'].count()\n",
    "#df2.head()"
   ]
  },
  {
   "cell_type": "code",
   "execution_count": 105,
   "id": "daa496f7",
   "metadata": {},
   "outputs": [
    {
     "data": {
      "image/png": "[encoded data removed]",
      "text/plain": [
       "<Figure size 432x288 with 1 Axes>"
      ]
     },
     "metadata": {
      "needs_background": "light"
     },
     "output_type": "display_data"
    }
   ],
   "source": [
    "#a scatter plot to establish the time of cricket chirping for calling song\n",
    "sns.scatterplot(data=df1, x=\"Hour\", y=\"Day_chirp\", size='calling_count', legend=False, sizes=(10, 300))\n",
    "\n",
    "# show the graph\n",
    "plt.show()"
   ]
  },
  {
   "cell_type": "code",
   "execution_count": 106,
   "id": "054c965c",
   "metadata": {},
   "outputs": [
    {
     "data": {
      "image/png": "[encoded data removed]",
      "text/plain": [
       "<Figure size 432x288 with 1 Axes>"
      ]
     },
     "metadata": {
      "needs_background": "light"
     },
     "output_type": "display_data"
    }
   ],
   "source": [
    "#a scatter plot to establish the time of cricket chirping for aggression song\n",
    "sns.scatterplot(data=df1, x=\"Hour\", y=\"Day_chirp\", size='aggression_count', legend=False, sizes=(10, 300))\n",
    "\n",
    "# show the graph\n",
    "plt.show()"
   ]
  },
  {
   "cell_type": "markdown",
   "id": "89009b37",
   "metadata": {},
   "source": [
    "## Chroma Feature Modeling"
   ]
  },
  {
   "cell_type": "code",
   "execution_count": 108,
   "id": "7af5d151",
   "metadata": {},
   "outputs": [],
   "source": [
    "#importing the dataset\n",
    "df=pd.read_csv('chroma_features.csv')"
   ]
  },
  {
   "cell_type": "markdown",
   "id": "5bdcc2ba",
   "metadata": {},
   "source": [
    "## Inspecting the dataset"
   ]
  },
  {
   "cell_type": "code",
   "execution_count": 109,
   "id": "e420ecc5",
   "metadata": {},
   "outputs": [
    {
     "data": {
      "text/html": [
       "<div>\n",
       "<style scoped>\n",
       "    .dataframe tbody tr th:only-of-type {\n",
       "        vertical-align: middle;\n",
       "    }\n",
       "\n",
       "    .dataframe tbody tr th {\n",
       "        vertical-align: top;\n",
       "    }\n",
       "\n",
       "    .dataframe thead th {\n",
       "        text-align: right;\n",
       "    }\n",
       "</style>\n",
       "<table border=\"1\" class=\"dataframe\">\n",
       "  <thead>\n",
       "    <tr style=\"text-align: right;\">\n",
       "      <th></th>\n",
       "      <th>Unnamed: 0</th>\n",
       "      <th>C</th>\n",
       "      <th>C#</th>\n",
       "      <th>D</th>\n",
       "      <th>D#</th>\n",
       "      <th>E</th>\n",
       "      <th>F</th>\n",
       "      <th>F#</th>\n",
       "      <th>G</th>\n",
       "      <th>G#</th>\n",
       "      <th>A</th>\n",
       "      <th>A#</th>\n",
       "      <th>B</th>\n",
       "      <th>Temperature</th>\n",
       "      <th>Humidity</th>\n",
       "      <th>Label</th>\n",
       "      <th>Filename</th>\n",
       "    </tr>\n",
       "  </thead>\n",
       "  <tbody>\n",
       "    <tr>\n",
       "      <th>0</th>\n",
       "      <td>0</td>\n",
       "      <td>0.719711</td>\n",
       "      <td>0.731053</td>\n",
       "      <td>0.793824</td>\n",
       "      <td>0.838842</td>\n",
       "      <td>0.784447</td>\n",
       "      <td>0.706598</td>\n",
       "      <td>0.786601</td>\n",
       "      <td>0.717454</td>\n",
       "      <td>0.700665</td>\n",
       "      <td>0.690752</td>\n",
       "      <td>0.697411</td>\n",
       "      <td>0.682494</td>\n",
       "      <td>22.8</td>\n",
       "      <td>58.6</td>\n",
       "      <td>courtship</td>\n",
       "      <td>GBL_0046_01_001.wav</td>\n",
       "    </tr>\n",
       "    <tr>\n",
       "      <th>1</th>\n",
       "      <td>1</td>\n",
       "      <td>0.795826</td>\n",
       "      <td>0.808380</td>\n",
       "      <td>0.767941</td>\n",
       "      <td>0.820253</td>\n",
       "      <td>0.792821</td>\n",
       "      <td>0.704216</td>\n",
       "      <td>0.773024</td>\n",
       "      <td>0.804616</td>\n",
       "      <td>0.771626</td>\n",
       "      <td>0.752125</td>\n",
       "      <td>0.788543</td>\n",
       "      <td>0.775452</td>\n",
       "      <td>22.8</td>\n",
       "      <td>58.6</td>\n",
       "      <td>courtship</td>\n",
       "      <td>GBL_0046_01_002.wav</td>\n",
       "    </tr>\n",
       "    <tr>\n",
       "      <th>2</th>\n",
       "      <td>2</td>\n",
       "      <td>0.778523</td>\n",
       "      <td>0.784773</td>\n",
       "      <td>0.808700</td>\n",
       "      <td>0.805103</td>\n",
       "      <td>0.749121</td>\n",
       "      <td>0.717717</td>\n",
       "      <td>0.752525</td>\n",
       "      <td>0.681978</td>\n",
       "      <td>0.725333</td>\n",
       "      <td>0.733151</td>\n",
       "      <td>0.725552</td>\n",
       "      <td>0.768984</td>\n",
       "      <td>22.8</td>\n",
       "      <td>58.6</td>\n",
       "      <td>courtship</td>\n",
       "      <td>GBL_0046_01_003.wav</td>\n",
       "    </tr>\n",
       "    <tr>\n",
       "      <th>3</th>\n",
       "      <td>3</td>\n",
       "      <td>0.801949</td>\n",
       "      <td>0.787761</td>\n",
       "      <td>0.784814</td>\n",
       "      <td>0.799364</td>\n",
       "      <td>0.705189</td>\n",
       "      <td>0.733365</td>\n",
       "      <td>0.751102</td>\n",
       "      <td>0.724839</td>\n",
       "      <td>0.767311</td>\n",
       "      <td>0.737196</td>\n",
       "      <td>0.738395</td>\n",
       "      <td>0.783974</td>\n",
       "      <td>22.8</td>\n",
       "      <td>58.6</td>\n",
       "      <td>courtship</td>\n",
       "      <td>GBL_0046_01_004.wav</td>\n",
       "    </tr>\n",
       "    <tr>\n",
       "      <th>4</th>\n",
       "      <td>4</td>\n",
       "      <td>0.796681</td>\n",
       "      <td>0.796880</td>\n",
       "      <td>0.801317</td>\n",
       "      <td>0.824423</td>\n",
       "      <td>0.830665</td>\n",
       "      <td>0.730091</td>\n",
       "      <td>0.716639</td>\n",
       "      <td>0.709058</td>\n",
       "      <td>0.724263</td>\n",
       "      <td>0.740670</td>\n",
       "      <td>0.743415</td>\n",
       "      <td>0.764478</td>\n",
       "      <td>22.8</td>\n",
       "      <td>58.6</td>\n",
       "      <td>courtship</td>\n",
       "      <td>GBL_0046_01_005.wav</td>\n",
       "    </tr>\n",
       "  </tbody>\n",
       "</table>\n",
       "</div>"
      ],
      "text/plain": [
       "   Unnamed: 0         C        C#         D        D#         E         F  \\\n",
       "0           0  0.719711  0.731053  0.793824  0.838842  0.784447  0.706598   \n",
       "1           1  0.795826  0.808380  0.767941  0.820253  0.792821  0.704216   \n",
       "2           2  0.778523  0.784773  0.808700  0.805103  0.749121  0.717717   \n",
       "3           3  0.801949  0.787761  0.784814  0.799364  0.705189  0.733365   \n",
       "4           4  0.796681  0.796880  0.801317  0.824423  0.830665  0.730091   \n",
       "\n",
       "         F#         G        G#         A        A#         B  Temperature  \\\n",
       "0  0.786601  0.717454  0.700665  0.690752  0.697411  0.682494         22.8   \n",
       "1  0.773024  0.804616  0.771626  0.752125  0.788543  0.775452         22.8   \n",
       "2  0.752525  0.681978  0.725333  0.733151  0.725552  0.768984         22.8   \n",
       "3  0.751102  0.724839  0.767311  0.737196  0.738395  0.783974         22.8   \n",
       "4  0.716639  0.709058  0.724263  0.740670  0.743415  0.764478         22.8   \n",
       "\n",
       "   Humidity      Label             Filename  \n",
       "0      58.6  courtship  GBL_0046_01_001.wav  \n",
       "1      58.6  courtship  GBL_0046_01_002.wav  \n",
       "2      58.6  courtship  GBL_0046_01_003.wav  \n",
       "3      58.6  courtship  GBL_0046_01_004.wav  \n",
       "4      58.6  courtship  GBL_0046_01_005.wav  "
      ]
     },
     "execution_count": 109,
     "metadata": {},
     "output_type": "execute_result"
    }
   ],
   "source": [
    "df.head()"
   ]
  },
  {
   "cell_type": "code",
   "execution_count": 110,
   "id": "70116b88",
   "metadata": {},
   "outputs": [
    {
     "data": {
      "text/html": [
       "<div>\n",
       "<style scoped>\n",
       "    .dataframe tbody tr th:only-of-type {\n",
       "        vertical-align: middle;\n",
       "    }\n",
       "\n",
       "    .dataframe tbody tr th {\n",
       "        vertical-align: top;\n",
       "    }\n",
       "\n",
       "    .dataframe thead th {\n",
       "        text-align: right;\n",
       "    }\n",
       "</style>\n",
       "<table border=\"1\" class=\"dataframe\">\n",
       "  <thead>\n",
       "    <tr style=\"text-align: right;\">\n",
       "      <th></th>\n",
       "      <th>Unnamed: 0</th>\n",
       "      <th>C</th>\n",
       "      <th>C#</th>\n",
       "      <th>D</th>\n",
       "      <th>D#</th>\n",
       "      <th>E</th>\n",
       "      <th>F</th>\n",
       "      <th>F#</th>\n",
       "      <th>G</th>\n",
       "      <th>G#</th>\n",
       "      <th>A</th>\n",
       "      <th>A#</th>\n",
       "      <th>B</th>\n",
       "      <th>Temperature</th>\n",
       "      <th>Humidity</th>\n",
       "      <th>Label</th>\n",
       "      <th>Filename</th>\n",
       "    </tr>\n",
       "  </thead>\n",
       "  <tbody>\n",
       "    <tr>\n",
       "      <th>83804</th>\n",
       "      <td>83804</td>\n",
       "      <td>0.475494</td>\n",
       "      <td>0.483717</td>\n",
       "      <td>0.546316</td>\n",
       "      <td>0.958237</td>\n",
       "      <td>0.643762</td>\n",
       "      <td>0.407991</td>\n",
       "      <td>0.413002</td>\n",
       "      <td>0.410490</td>\n",
       "      <td>0.447287</td>\n",
       "      <td>0.454140</td>\n",
       "      <td>0.437504</td>\n",
       "      <td>0.431886</td>\n",
       "      <td>23.2</td>\n",
       "      <td>35.7</td>\n",
       "      <td>aggression</td>\n",
       "      <td>GBL_0536_591_020.wav</td>\n",
       "    </tr>\n",
       "    <tr>\n",
       "      <th>83805</th>\n",
       "      <td>83805</td>\n",
       "      <td>0.829125</td>\n",
       "      <td>0.824052</td>\n",
       "      <td>0.850473</td>\n",
       "      <td>0.894379</td>\n",
       "      <td>0.807563</td>\n",
       "      <td>0.694619</td>\n",
       "      <td>0.731815</td>\n",
       "      <td>0.792025</td>\n",
       "      <td>0.801647</td>\n",
       "      <td>0.783113</td>\n",
       "      <td>0.816922</td>\n",
       "      <td>0.811709</td>\n",
       "      <td>23.2</td>\n",
       "      <td>35.7</td>\n",
       "      <td>aggression</td>\n",
       "      <td>GBL_0536_591_021.wav</td>\n",
       "    </tr>\n",
       "    <tr>\n",
       "      <th>83806</th>\n",
       "      <td>83806</td>\n",
       "      <td>0.406351</td>\n",
       "      <td>0.394682</td>\n",
       "      <td>0.500707</td>\n",
       "      <td>0.943411</td>\n",
       "      <td>0.555865</td>\n",
       "      <td>0.330818</td>\n",
       "      <td>0.339971</td>\n",
       "      <td>0.342616</td>\n",
       "      <td>0.352318</td>\n",
       "      <td>0.386479</td>\n",
       "      <td>0.353505</td>\n",
       "      <td>0.382311</td>\n",
       "      <td>23.2</td>\n",
       "      <td>35.7</td>\n",
       "      <td>aggression</td>\n",
       "      <td>GBL_0536_591_022.wav</td>\n",
       "    </tr>\n",
       "    <tr>\n",
       "      <th>83807</th>\n",
       "      <td>83807</td>\n",
       "      <td>0.531006</td>\n",
       "      <td>0.569288</td>\n",
       "      <td>0.562185</td>\n",
       "      <td>0.835592</td>\n",
       "      <td>0.872642</td>\n",
       "      <td>0.507976</td>\n",
       "      <td>0.464406</td>\n",
       "      <td>0.472830</td>\n",
       "      <td>0.485418</td>\n",
       "      <td>0.508892</td>\n",
       "      <td>0.517305</td>\n",
       "      <td>0.500466</td>\n",
       "      <td>23.2</td>\n",
       "      <td>35.7</td>\n",
       "      <td>aggression</td>\n",
       "      <td>GBL_0536_591_023.wav</td>\n",
       "    </tr>\n",
       "    <tr>\n",
       "      <th>83808</th>\n",
       "      <td>83808</td>\n",
       "      <td>0.523754</td>\n",
       "      <td>0.555927</td>\n",
       "      <td>0.720315</td>\n",
       "      <td>0.939100</td>\n",
       "      <td>0.530435</td>\n",
       "      <td>0.462332</td>\n",
       "      <td>0.482756</td>\n",
       "      <td>0.496258</td>\n",
       "      <td>0.534412</td>\n",
       "      <td>0.567131</td>\n",
       "      <td>0.507181</td>\n",
       "      <td>0.500724</td>\n",
       "      <td>23.3</td>\n",
       "      <td>35.3</td>\n",
       "      <td>aggression</td>\n",
       "      <td>GBL_0536_592_001.wav</td>\n",
       "    </tr>\n",
       "  </tbody>\n",
       "</table>\n",
       "</div>"
      ],
      "text/plain": [
       "       Unnamed: 0         C        C#         D        D#         E         F  \\\n",
       "83804       83804  0.475494  0.483717  0.546316  0.958237  0.643762  0.407991   \n",
       "83805       83805  0.829125  0.824052  0.850473  0.894379  0.807563  0.694619   \n",
       "83806       83806  0.406351  0.394682  0.500707  0.943411  0.555865  0.330818   \n",
       "83807       83807  0.531006  0.569288  0.562185  0.835592  0.872642  0.507976   \n",
       "83808       83808  0.523754  0.555927  0.720315  0.939100  0.530435  0.462332   \n",
       "\n",
       "             F#         G        G#         A        A#         B  \\\n",
       "83804  0.413002  0.410490  0.447287  0.454140  0.437504  0.431886   \n",
       "83805  0.731815  0.792025  0.801647  0.783113  0.816922  0.811709   \n",
       "83806  0.339971  0.342616  0.352318  0.386479  0.353505  0.382311   \n",
       "83807  0.464406  0.472830  0.485418  0.508892  0.517305  0.500466   \n",
       "83808  0.482756  0.496258  0.534412  0.567131  0.507181  0.500724   \n",
       "\n",
       "       Temperature  Humidity       Label              Filename  \n",
       "83804         23.2      35.7  aggression  GBL_0536_591_020.wav  \n",
       "83805         23.2      35.7  aggression  GBL_0536_591_021.wav  \n",
       "83806         23.2      35.7  aggression  GBL_0536_591_022.wav  \n",
       "83807         23.2      35.7  aggression  GBL_0536_591_023.wav  \n",
       "83808         23.3      35.3  aggression  GBL_0536_592_001.wav  "
      ]
     },
     "execution_count": 110,
     "metadata": {},
     "output_type": "execute_result"
    }
   ],
   "source": [
    "df.tail()"
   ]
  },
  {
   "cell_type": "code",
   "execution_count": 111,
   "id": "102a3144",
   "metadata": {},
   "outputs": [
    {
     "data": {
      "text/plain": [
       "(83809, 17)"
      ]
     },
     "execution_count": 111,
     "metadata": {},
     "output_type": "execute_result"
    }
   ],
   "source": [
    "df.shape"
   ]
  },
  {
   "cell_type": "code",
   "execution_count": 112,
   "id": "0612f5fc",
   "metadata": {},
   "outputs": [
    {
     "data": {
      "text/plain": [
       "Index(['Unnamed: 0', 'C', 'C#', 'D', 'D#', 'E', 'F', 'F#', 'G', 'G#', 'A',\n",
       "       'A#', 'B', 'Temperature', 'Humidity', 'Label', 'Filename'],\n",
       "      dtype='object')"
      ]
     },
     "execution_count": 112,
     "metadata": {},
     "output_type": "execute_result"
    }
   ],
   "source": [
    "df.columns"
   ]
  },
  {
   "cell_type": "code",
   "execution_count": 113,
   "id": "0df88b94",
   "metadata": {},
   "outputs": [
    {
     "data": {
      "text/plain": [
       "Unnamed: 0       int64\n",
       "C              float64\n",
       "C#             float64\n",
       "D              float64\n",
       "D#             float64\n",
       "E              float64\n",
       "F              float64\n",
       "F#             float64\n",
       "G              float64\n",
       "G#             float64\n",
       "A              float64\n",
       "A#             float64\n",
       "B              float64\n",
       "Temperature    float64\n",
       "Humidity       float64\n",
       "Label           object\n",
       "Filename        object\n",
       "dtype: object"
      ]
     },
     "execution_count": 113,
     "metadata": {},
     "output_type": "execute_result"
    }
   ],
   "source": [
    "df.dtypes"
   ]
  },
  {
   "cell_type": "code",
   "execution_count": 114,
   "id": "b3ccc644",
   "metadata": {},
   "outputs": [
    {
     "data": {
      "text/plain": [
       "array(['courtship', 'calling', 'aggression'], dtype=object)"
      ]
     },
     "execution_count": 114,
     "metadata": {},
     "output_type": "execute_result"
    }
   ],
   "source": [
    "#checking for unique values of label column\n",
    "df.Label.unique()"
   ]
  },
  {
   "cell_type": "code",
   "execution_count": 115,
   "id": "53b63d5d",
   "metadata": {},
   "outputs": [],
   "source": [
    "#drop Unnamed column and Filename\n",
    "df=df.drop(columns=['Unnamed: 0','Filename'],axis=1)"
   ]
  },
  {
   "cell_type": "code",
   "execution_count": 116,
   "id": "11038c68",
   "metadata": {},
   "outputs": [
    {
     "data": {
      "text/html": [
       "<div>\n",
       "<style scoped>\n",
       "    .dataframe tbody tr th:only-of-type {\n",
       "        vertical-align: middle;\n",
       "    }\n",
       "\n",
       "    .dataframe tbody tr th {\n",
       "        vertical-align: top;\n",
       "    }\n",
       "\n",
       "    .dataframe thead th {\n",
       "        text-align: right;\n",
       "    }\n",
       "</style>\n",
       "<table border=\"1\" class=\"dataframe\">\n",
       "  <thead>\n",
       "    <tr style=\"text-align: right;\">\n",
       "      <th></th>\n",
       "      <th>C</th>\n",
       "      <th>C#</th>\n",
       "      <th>D</th>\n",
       "      <th>D#</th>\n",
       "      <th>E</th>\n",
       "      <th>F</th>\n",
       "      <th>F#</th>\n",
       "      <th>G</th>\n",
       "      <th>G#</th>\n",
       "      <th>A</th>\n",
       "      <th>A#</th>\n",
       "      <th>B</th>\n",
       "      <th>Temperature</th>\n",
       "      <th>Humidity</th>\n",
       "      <th>Label</th>\n",
       "    </tr>\n",
       "  </thead>\n",
       "  <tbody>\n",
       "    <tr>\n",
       "      <th>0</th>\n",
       "      <td>0.719711</td>\n",
       "      <td>0.731053</td>\n",
       "      <td>0.793824</td>\n",
       "      <td>0.838842</td>\n",
       "      <td>0.784447</td>\n",
       "      <td>0.706598</td>\n",
       "      <td>0.786601</td>\n",
       "      <td>0.717454</td>\n",
       "      <td>0.700665</td>\n",
       "      <td>0.690752</td>\n",
       "      <td>0.697411</td>\n",
       "      <td>0.682494</td>\n",
       "      <td>22.8</td>\n",
       "      <td>58.6</td>\n",
       "      <td>courtship</td>\n",
       "    </tr>\n",
       "    <tr>\n",
       "      <th>1</th>\n",
       "      <td>0.795826</td>\n",
       "      <td>0.808380</td>\n",
       "      <td>0.767941</td>\n",
       "      <td>0.820253</td>\n",
       "      <td>0.792821</td>\n",
       "      <td>0.704216</td>\n",
       "      <td>0.773024</td>\n",
       "      <td>0.804616</td>\n",
       "      <td>0.771626</td>\n",
       "      <td>0.752125</td>\n",
       "      <td>0.788543</td>\n",
       "      <td>0.775452</td>\n",
       "      <td>22.8</td>\n",
       "      <td>58.6</td>\n",
       "      <td>courtship</td>\n",
       "    </tr>\n",
       "    <tr>\n",
       "      <th>2</th>\n",
       "      <td>0.778523</td>\n",
       "      <td>0.784773</td>\n",
       "      <td>0.808700</td>\n",
       "      <td>0.805103</td>\n",
       "      <td>0.749121</td>\n",
       "      <td>0.717717</td>\n",
       "      <td>0.752525</td>\n",
       "      <td>0.681978</td>\n",
       "      <td>0.725333</td>\n",
       "      <td>0.733151</td>\n",
       "      <td>0.725552</td>\n",
       "      <td>0.768984</td>\n",
       "      <td>22.8</td>\n",
       "      <td>58.6</td>\n",
       "      <td>courtship</td>\n",
       "    </tr>\n",
       "    <tr>\n",
       "      <th>3</th>\n",
       "      <td>0.801949</td>\n",
       "      <td>0.787761</td>\n",
       "      <td>0.784814</td>\n",
       "      <td>0.799364</td>\n",
       "      <td>0.705189</td>\n",
       "      <td>0.733365</td>\n",
       "      <td>0.751102</td>\n",
       "      <td>0.724839</td>\n",
       "      <td>0.767311</td>\n",
       "      <td>0.737196</td>\n",
       "      <td>0.738395</td>\n",
       "      <td>0.783974</td>\n",
       "      <td>22.8</td>\n",
       "      <td>58.6</td>\n",
       "      <td>courtship</td>\n",
       "    </tr>\n",
       "    <tr>\n",
       "      <th>4</th>\n",
       "      <td>0.796681</td>\n",
       "      <td>0.796880</td>\n",
       "      <td>0.801317</td>\n",
       "      <td>0.824423</td>\n",
       "      <td>0.830665</td>\n",
       "      <td>0.730091</td>\n",
       "      <td>0.716639</td>\n",
       "      <td>0.709058</td>\n",
       "      <td>0.724263</td>\n",
       "      <td>0.740670</td>\n",
       "      <td>0.743415</td>\n",
       "      <td>0.764478</td>\n",
       "      <td>22.8</td>\n",
       "      <td>58.6</td>\n",
       "      <td>courtship</td>\n",
       "    </tr>\n",
       "  </tbody>\n",
       "</table>\n",
       "</div>"
      ],
      "text/plain": [
       "          C        C#         D        D#         E         F        F#  \\\n",
       "0  0.719711  0.731053  0.793824  0.838842  0.784447  0.706598  0.786601   \n",
       "1  0.795826  0.808380  0.767941  0.820253  0.792821  0.704216  0.773024   \n",
       "2  0.778523  0.784773  0.808700  0.805103  0.749121  0.717717  0.752525   \n",
       "3  0.801949  0.787761  0.784814  0.799364  0.705189  0.733365  0.751102   \n",
       "4  0.796681  0.796880  0.801317  0.824423  0.830665  0.730091  0.716639   \n",
       "\n",
       "          G        G#         A        A#         B  Temperature  Humidity  \\\n",
       "0  0.717454  0.700665  0.690752  0.697411  0.682494         22.8      58.6   \n",
       "1  0.804616  0.771626  0.752125  0.788543  0.775452         22.8      58.6   \n",
       "2  0.681978  0.725333  0.733151  0.725552  0.768984         22.8      58.6   \n",
       "3  0.724839  0.767311  0.737196  0.738395  0.783974         22.8      58.6   \n",
       "4  0.709058  0.724263  0.740670  0.743415  0.764478         22.8      58.6   \n",
       "\n",
       "       Label  \n",
       "0  courtship  \n",
       "1  courtship  \n",
       "2  courtship  \n",
       "3  courtship  \n",
       "4  courtship  "
      ]
     },
     "execution_count": 116,
     "metadata": {},
     "output_type": "execute_result"
    }
   ],
   "source": [
    "df.head()"
   ]
  },
  {
   "cell_type": "code",
   "execution_count": 117,
   "id": "fbedd864",
   "metadata": {},
   "outputs": [
    {
     "data": {
      "text/plain": [
       "(83809, 15)"
      ]
     },
     "execution_count": 117,
     "metadata": {},
     "output_type": "execute_result"
    }
   ],
   "source": [
    "df.shape"
   ]
  },
  {
   "cell_type": "code",
   "execution_count": 118,
   "id": "e53b63d3",
   "metadata": {},
   "outputs": [
    {
     "data": {
      "text/html": [
       "<div>\n",
       "<style scoped>\n",
       "    .dataframe tbody tr th:only-of-type {\n",
       "        vertical-align: middle;\n",
       "    }\n",
       "\n",
       "    .dataframe tbody tr th {\n",
       "        vertical-align: top;\n",
       "    }\n",
       "\n",
       "    .dataframe thead th {\n",
       "        text-align: right;\n",
       "    }\n",
       "</style>\n",
       "<table border=\"1\" class=\"dataframe\">\n",
       "  <thead>\n",
       "    <tr style=\"text-align: right;\">\n",
       "      <th></th>\n",
       "      <th>C</th>\n",
       "      <th>C#</th>\n",
       "      <th>D</th>\n",
       "      <th>D#</th>\n",
       "      <th>E</th>\n",
       "      <th>F</th>\n",
       "      <th>F#</th>\n",
       "      <th>G</th>\n",
       "      <th>G#</th>\n",
       "      <th>A</th>\n",
       "      <th>A#</th>\n",
       "      <th>B</th>\n",
       "      <th>Temperature</th>\n",
       "      <th>Humidity</th>\n",
       "    </tr>\n",
       "  </thead>\n",
       "  <tbody>\n",
       "    <tr>\n",
       "      <th>count</th>\n",
       "      <td>83809.000000</td>\n",
       "      <td>83809.000000</td>\n",
       "      <td>83809.000000</td>\n",
       "      <td>83809.000000</td>\n",
       "      <td>83809.000000</td>\n",
       "      <td>83809.000000</td>\n",
       "      <td>83809.000000</td>\n",
       "      <td>83809.000000</td>\n",
       "      <td>83809.000000</td>\n",
       "      <td>83809.000000</td>\n",
       "      <td>83809.000000</td>\n",
       "      <td>83809.000000</td>\n",
       "      <td>83809.000000</td>\n",
       "      <td>83809.000000</td>\n",
       "    </tr>\n",
       "    <tr>\n",
       "      <th>mean</th>\n",
       "      <td>0.165875</td>\n",
       "      <td>0.211772</td>\n",
       "      <td>0.399390</td>\n",
       "      <td>0.715706</td>\n",
       "      <td>0.597654</td>\n",
       "      <td>0.185244</td>\n",
       "      <td>0.147816</td>\n",
       "      <td>0.142141</td>\n",
       "      <td>0.142523</td>\n",
       "      <td>0.144524</td>\n",
       "      <td>0.147734</td>\n",
       "      <td>0.152789</td>\n",
       "      <td>23.591619</td>\n",
       "      <td>45.963159</td>\n",
       "    </tr>\n",
       "    <tr>\n",
       "      <th>std</th>\n",
       "      <td>0.267113</td>\n",
       "      <td>0.305735</td>\n",
       "      <td>0.359670</td>\n",
       "      <td>0.272573</td>\n",
       "      <td>0.376304</td>\n",
       "      <td>0.237347</td>\n",
       "      <td>0.243335</td>\n",
       "      <td>0.233377</td>\n",
       "      <td>0.234579</td>\n",
       "      <td>0.237981</td>\n",
       "      <td>0.243247</td>\n",
       "      <td>0.251324</td>\n",
       "      <td>0.558806</td>\n",
       "      <td>5.299512</td>\n",
       "    </tr>\n",
       "    <tr>\n",
       "      <th>min</th>\n",
       "      <td>0.000186</td>\n",
       "      <td>0.000456</td>\n",
       "      <td>0.007001</td>\n",
       "      <td>0.037283</td>\n",
       "      <td>0.006082</td>\n",
       "      <td>0.001260</td>\n",
       "      <td>0.000324</td>\n",
       "      <td>0.000226</td>\n",
       "      <td>0.000163</td>\n",
       "      <td>0.000126</td>\n",
       "      <td>0.000125</td>\n",
       "      <td>0.000133</td>\n",
       "      <td>20.600000</td>\n",
       "      <td>25.200000</td>\n",
       "    </tr>\n",
       "    <tr>\n",
       "      <th>25%</th>\n",
       "      <td>0.001347</td>\n",
       "      <td>0.002188</td>\n",
       "      <td>0.033463</td>\n",
       "      <td>0.440934</td>\n",
       "      <td>0.181458</td>\n",
       "      <td>0.026985</td>\n",
       "      <td>0.001812</td>\n",
       "      <td>0.001323</td>\n",
       "      <td>0.001260</td>\n",
       "      <td>0.001242</td>\n",
       "      <td>0.001247</td>\n",
       "      <td>0.001278</td>\n",
       "      <td>23.100000</td>\n",
       "      <td>41.500000</td>\n",
       "    </tr>\n",
       "    <tr>\n",
       "      <th>50%</th>\n",
       "      <td>0.018405</td>\n",
       "      <td>0.032657</td>\n",
       "      <td>0.323246</td>\n",
       "      <td>0.803732</td>\n",
       "      <td>0.701553</td>\n",
       "      <td>0.083849</td>\n",
       "      <td>0.014862</td>\n",
       "      <td>0.014909</td>\n",
       "      <td>0.014897</td>\n",
       "      <td>0.015058</td>\n",
       "      <td>0.015354</td>\n",
       "      <td>0.015812</td>\n",
       "      <td>23.700000</td>\n",
       "      <td>45.800000</td>\n",
       "    </tr>\n",
       "    <tr>\n",
       "      <th>75%</th>\n",
       "      <td>0.192732</td>\n",
       "      <td>0.359090</td>\n",
       "      <td>0.760779</td>\n",
       "      <td>0.999501</td>\n",
       "      <td>1.000000</td>\n",
       "      <td>0.174329</td>\n",
       "      <td>0.158206</td>\n",
       "      <td>0.157945</td>\n",
       "      <td>0.158509</td>\n",
       "      <td>0.160811</td>\n",
       "      <td>0.164345</td>\n",
       "      <td>0.169553</td>\n",
       "      <td>24.000000</td>\n",
       "      <td>50.300000</td>\n",
       "    </tr>\n",
       "    <tr>\n",
       "      <th>max</th>\n",
       "      <td>0.946738</td>\n",
       "      <td>1.000000</td>\n",
       "      <td>1.000000</td>\n",
       "      <td>1.000000</td>\n",
       "      <td>1.000000</td>\n",
       "      <td>0.902574</td>\n",
       "      <td>0.892695</td>\n",
       "      <td>0.864119</td>\n",
       "      <td>0.863437</td>\n",
       "      <td>0.879938</td>\n",
       "      <td>0.877505</td>\n",
       "      <td>0.942888</td>\n",
       "      <td>25.300000</td>\n",
       "      <td>65.800000</td>\n",
       "    </tr>\n",
       "  </tbody>\n",
       "</table>\n",
       "</div>"
      ],
      "text/plain": [
       "                  C            C#             D            D#             E  \\\n",
       "count  83809.000000  83809.000000  83809.000000  83809.000000  83809.000000   \n",
       "mean       0.165875      0.211772      0.399390      0.715706      0.597654   \n",
       "std        0.267113      0.305735      0.359670      0.272573      0.376304   \n",
       "min        0.000186      0.000456      0.007001      0.037283      0.006082   \n",
       "25%        0.001347      0.002188      0.033463      0.440934      0.181458   \n",
       "50%        0.018405      0.032657      0.323246      0.803732      0.701553   \n",
       "75%        0.192732      0.359090      0.760779      0.999501      1.000000   \n",
       "max        0.946738      1.000000      1.000000      1.000000      1.000000   \n",
       "\n",
       "                  F            F#             G            G#             A  \\\n",
       "count  83809.000000  83809.000000  83809.000000  83809.000000  83809.000000   \n",
       "mean       0.185244      0.147816      0.142141      0.142523      0.144524   \n",
       "std        0.237347      0.243335      0.233377      0.234579      0.237981   \n",
       "min        0.001260      0.000324      0.000226      0.000163      0.000126   \n",
       "25%        0.026985      0.001812      0.001323      0.001260      0.001242   \n",
       "50%        0.083849      0.014862      0.014909      0.014897      0.015058   \n",
       "75%        0.174329      0.158206      0.157945      0.158509      0.160811   \n",
       "max        0.902574      0.892695      0.864119      0.863437      0.879938   \n",
       "\n",
       "                 A#             B   Temperature      Humidity  \n",
       "count  83809.000000  83809.000000  83809.000000  83809.000000  \n",
       "mean       0.147734      0.152789     23.591619     45.963159  \n",
       "std        0.243247      0.251324      0.558806      5.299512  \n",
       "min        0.000125      0.000133     20.600000     25.200000  \n",
       "25%        0.001247      0.001278     23.100000     41.500000  \n",
       "50%        0.015354      0.015812     23.700000     45.800000  \n",
       "75%        0.164345      0.169553     24.000000     50.300000  \n",
       "max        0.877505      0.942888     25.300000     65.800000  "
      ]
     },
     "execution_count": 118,
     "metadata": {},
     "output_type": "execute_result"
    }
   ],
   "source": [
    "df.describe()"
   ]
  },
  {
   "cell_type": "code",
   "execution_count": 119,
   "id": "a18563ac",
   "metadata": {},
   "outputs": [
    {
     "name": "stderr",
     "output_type": "stream",
     "text": [
      "/Users/mac/opt/anaconda3/lib/python3.9/site-packages/seaborn/_decorators.py:36: FutureWarning: Pass the following variable as a keyword arg: x. From version 0.12, the only valid positional argument will be `data`, and passing other arguments without an explicit keyword will result in an error or misinterpretation.\n",
      "  warnings.warn(\n"
     ]
    },
    {
     "data": {
      "text/plain": [
       "<Axes: xlabel='Label', ylabel='count'>"
      ]
     },
     "execution_count": 119,
     "metadata": {},
     "output_type": "execute_result"
    },
    {
     "data": {
      "image/png": "[encoded data removed]",
      "text/plain": [
       "<Figure size 432x288 with 1 Axes>"
      ]
     },
     "metadata": {
      "needs_background": "light"
     },
     "output_type": "display_data"
    }
   ],
   "source": [
    "#checking for data imbalance\n",
    "sns.countplot(df['Label'])"
   ]
  },
  {
   "cell_type": "code",
   "execution_count": 120,
   "id": "18018e2f",
   "metadata": {},
   "outputs": [
    {
     "data": {
      "text/plain": [
       "calling       71690\n",
       "courtship     11492\n",
       "aggression      627\n",
       "Name: Label, dtype: int64"
      ]
     },
     "execution_count": 120,
     "metadata": {},
     "output_type": "execute_result"
    }
   ],
   "source": [
    "df['Label'].value_counts()"
   ]
  },
  {
   "cell_type": "markdown",
   "id": "35b0a09f",
   "metadata": {},
   "source": [
    "- Data is highly imbalanced, with majority class falling within the calling label"
   ]
  },
  {
   "cell_type": "code",
   "execution_count": 121,
   "id": "bb66ca3c",
   "metadata": {},
   "outputs": [],
   "source": [
    "#scaling temperature and humidity using min-max scaler\n",
    "min_max_scaler=preprocessing.MinMaxScaler()\n",
    "df[['Temperature','Humidity']] = min_max_scaler.fit_transform(df[['Temperature', 'Humidity']])"
   ]
  },
  {
   "cell_type": "code",
   "execution_count": 122,
   "id": "ab143e7d",
   "metadata": {},
   "outputs": [
    {
     "data": {
      "text/html": [
       "<div>\n",
       "<style scoped>\n",
       "    .dataframe tbody tr th:only-of-type {\n",
       "        vertical-align: middle;\n",
       "    }\n",
       "\n",
       "    .dataframe tbody tr th {\n",
       "        vertical-align: top;\n",
       "    }\n",
       "\n",
       "    .dataframe thead th {\n",
       "        text-align: right;\n",
       "    }\n",
       "</style>\n",
       "<table border=\"1\" class=\"dataframe\">\n",
       "  <thead>\n",
       "    <tr style=\"text-align: right;\">\n",
       "      <th></th>\n",
       "      <th>C</th>\n",
       "      <th>C#</th>\n",
       "      <th>D</th>\n",
       "      <th>D#</th>\n",
       "      <th>E</th>\n",
       "      <th>F</th>\n",
       "      <th>F#</th>\n",
       "      <th>G</th>\n",
       "      <th>G#</th>\n",
       "      <th>A</th>\n",
       "      <th>A#</th>\n",
       "      <th>B</th>\n",
       "      <th>Temperature</th>\n",
       "      <th>Humidity</th>\n",
       "      <th>Label</th>\n",
       "    </tr>\n",
       "  </thead>\n",
       "  <tbody>\n",
       "    <tr>\n",
       "      <th>0</th>\n",
       "      <td>0.719711</td>\n",
       "      <td>0.731053</td>\n",
       "      <td>0.793824</td>\n",
       "      <td>0.838842</td>\n",
       "      <td>0.784447</td>\n",
       "      <td>0.706598</td>\n",
       "      <td>0.786601</td>\n",
       "      <td>0.717454</td>\n",
       "      <td>0.700665</td>\n",
       "      <td>0.690752</td>\n",
       "      <td>0.697411</td>\n",
       "      <td>0.682494</td>\n",
       "      <td>0.468085</td>\n",
       "      <td>0.82266</td>\n",
       "      <td>courtship</td>\n",
       "    </tr>\n",
       "    <tr>\n",
       "      <th>1</th>\n",
       "      <td>0.795826</td>\n",
       "      <td>0.808380</td>\n",
       "      <td>0.767941</td>\n",
       "      <td>0.820253</td>\n",
       "      <td>0.792821</td>\n",
       "      <td>0.704216</td>\n",
       "      <td>0.773024</td>\n",
       "      <td>0.804616</td>\n",
       "      <td>0.771626</td>\n",
       "      <td>0.752125</td>\n",
       "      <td>0.788543</td>\n",
       "      <td>0.775452</td>\n",
       "      <td>0.468085</td>\n",
       "      <td>0.82266</td>\n",
       "      <td>courtship</td>\n",
       "    </tr>\n",
       "    <tr>\n",
       "      <th>2</th>\n",
       "      <td>0.778523</td>\n",
       "      <td>0.784773</td>\n",
       "      <td>0.808700</td>\n",
       "      <td>0.805103</td>\n",
       "      <td>0.749121</td>\n",
       "      <td>0.717717</td>\n",
       "      <td>0.752525</td>\n",
       "      <td>0.681978</td>\n",
       "      <td>0.725333</td>\n",
       "      <td>0.733151</td>\n",
       "      <td>0.725552</td>\n",
       "      <td>0.768984</td>\n",
       "      <td>0.468085</td>\n",
       "      <td>0.82266</td>\n",
       "      <td>courtship</td>\n",
       "    </tr>\n",
       "    <tr>\n",
       "      <th>3</th>\n",
       "      <td>0.801949</td>\n",
       "      <td>0.787761</td>\n",
       "      <td>0.784814</td>\n",
       "      <td>0.799364</td>\n",
       "      <td>0.705189</td>\n",
       "      <td>0.733365</td>\n",
       "      <td>0.751102</td>\n",
       "      <td>0.724839</td>\n",
       "      <td>0.767311</td>\n",
       "      <td>0.737196</td>\n",
       "      <td>0.738395</td>\n",
       "      <td>0.783974</td>\n",
       "      <td>0.468085</td>\n",
       "      <td>0.82266</td>\n",
       "      <td>courtship</td>\n",
       "    </tr>\n",
       "    <tr>\n",
       "      <th>4</th>\n",
       "      <td>0.796681</td>\n",
       "      <td>0.796880</td>\n",
       "      <td>0.801317</td>\n",
       "      <td>0.824423</td>\n",
       "      <td>0.830665</td>\n",
       "      <td>0.730091</td>\n",
       "      <td>0.716639</td>\n",
       "      <td>0.709058</td>\n",
       "      <td>0.724263</td>\n",
       "      <td>0.740670</td>\n",
       "      <td>0.743415</td>\n",
       "      <td>0.764478</td>\n",
       "      <td>0.468085</td>\n",
       "      <td>0.82266</td>\n",
       "      <td>courtship</td>\n",
       "    </tr>\n",
       "  </tbody>\n",
       "</table>\n",
       "</div>"
      ],
      "text/plain": [
       "          C        C#         D        D#         E         F        F#  \\\n",
       "0  0.719711  0.731053  0.793824  0.838842  0.784447  0.706598  0.786601   \n",
       "1  0.795826  0.808380  0.767941  0.820253  0.792821  0.704216  0.773024   \n",
       "2  0.778523  0.784773  0.808700  0.805103  0.749121  0.717717  0.752525   \n",
       "3  0.801949  0.787761  0.784814  0.799364  0.705189  0.733365  0.751102   \n",
       "4  0.796681  0.796880  0.801317  0.824423  0.830665  0.730091  0.716639   \n",
       "\n",
       "          G        G#         A        A#         B  Temperature  Humidity  \\\n",
       "0  0.717454  0.700665  0.690752  0.697411  0.682494     0.468085   0.82266   \n",
       "1  0.804616  0.771626  0.752125  0.788543  0.775452     0.468085   0.82266   \n",
       "2  0.681978  0.725333  0.733151  0.725552  0.768984     0.468085   0.82266   \n",
       "3  0.724839  0.767311  0.737196  0.738395  0.783974     0.468085   0.82266   \n",
       "4  0.709058  0.724263  0.740670  0.743415  0.764478     0.468085   0.82266   \n",
       "\n",
       "       Label  \n",
       "0  courtship  \n",
       "1  courtship  \n",
       "2  courtship  \n",
       "3  courtship  \n",
       "4  courtship  "
      ]
     },
     "execution_count": 122,
     "metadata": {},
     "output_type": "execute_result"
    }
   ],
   "source": [
    "df.head()"
   ]
  },
  {
   "cell_type": "code",
   "execution_count": 123,
   "id": "95bc7490",
   "metadata": {},
   "outputs": [
    {
     "data": {
      "text/plain": [
       "array([2, 1, 0])"
      ]
     },
     "execution_count": 123,
     "metadata": {},
     "output_type": "execute_result"
    }
   ],
   "source": [
    "# encoding the target column\n",
    "label_encoder=preprocessing.LabelEncoder()\n",
    "df['Label_Encoded']=label_encoder.fit_transform(df['Label'])\n",
    "df['Label_Encoded'].unique()"
   ]
  },
  {
   "cell_type": "code",
   "execution_count": 124,
   "id": "2e2a1ef6",
   "metadata": {},
   "outputs": [
    {
     "data": {
      "text/html": [
       "<div>\n",
       "<style scoped>\n",
       "    .dataframe tbody tr th:only-of-type {\n",
       "        vertical-align: middle;\n",
       "    }\n",
       "\n",
       "    .dataframe tbody tr th {\n",
       "        vertical-align: top;\n",
       "    }\n",
       "\n",
       "    .dataframe thead th {\n",
       "        text-align: right;\n",
       "    }\n",
       "</style>\n",
       "<table border=\"1\" class=\"dataframe\">\n",
       "  <thead>\n",
       "    <tr style=\"text-align: right;\">\n",
       "      <th></th>\n",
       "      <th>C</th>\n",
       "      <th>C#</th>\n",
       "      <th>D</th>\n",
       "      <th>D#</th>\n",
       "      <th>E</th>\n",
       "      <th>F</th>\n",
       "      <th>F#</th>\n",
       "      <th>G</th>\n",
       "      <th>G#</th>\n",
       "      <th>A</th>\n",
       "      <th>A#</th>\n",
       "      <th>B</th>\n",
       "      <th>Temperature</th>\n",
       "      <th>Humidity</th>\n",
       "      <th>Label</th>\n",
       "      <th>Label_Encoded</th>\n",
       "    </tr>\n",
       "  </thead>\n",
       "  <tbody>\n",
       "    <tr>\n",
       "      <th>0</th>\n",
       "      <td>0.719711</td>\n",
       "      <td>0.731053</td>\n",
       "      <td>0.793824</td>\n",
       "      <td>0.838842</td>\n",
       "      <td>0.784447</td>\n",
       "      <td>0.706598</td>\n",
       "      <td>0.786601</td>\n",
       "      <td>0.717454</td>\n",
       "      <td>0.700665</td>\n",
       "      <td>0.690752</td>\n",
       "      <td>0.697411</td>\n",
       "      <td>0.682494</td>\n",
       "      <td>0.468085</td>\n",
       "      <td>0.82266</td>\n",
       "      <td>courtship</td>\n",
       "      <td>2</td>\n",
       "    </tr>\n",
       "    <tr>\n",
       "      <th>1</th>\n",
       "      <td>0.795826</td>\n",
       "      <td>0.808380</td>\n",
       "      <td>0.767941</td>\n",
       "      <td>0.820253</td>\n",
       "      <td>0.792821</td>\n",
       "      <td>0.704216</td>\n",
       "      <td>0.773024</td>\n",
       "      <td>0.804616</td>\n",
       "      <td>0.771626</td>\n",
       "      <td>0.752125</td>\n",
       "      <td>0.788543</td>\n",
       "      <td>0.775452</td>\n",
       "      <td>0.468085</td>\n",
       "      <td>0.82266</td>\n",
       "      <td>courtship</td>\n",
       "      <td>2</td>\n",
       "    </tr>\n",
       "    <tr>\n",
       "      <th>2</th>\n",
       "      <td>0.778523</td>\n",
       "      <td>0.784773</td>\n",
       "      <td>0.808700</td>\n",
       "      <td>0.805103</td>\n",
       "      <td>0.749121</td>\n",
       "      <td>0.717717</td>\n",
       "      <td>0.752525</td>\n",
       "      <td>0.681978</td>\n",
       "      <td>0.725333</td>\n",
       "      <td>0.733151</td>\n",
       "      <td>0.725552</td>\n",
       "      <td>0.768984</td>\n",
       "      <td>0.468085</td>\n",
       "      <td>0.82266</td>\n",
       "      <td>courtship</td>\n",
       "      <td>2</td>\n",
       "    </tr>\n",
       "    <tr>\n",
       "      <th>3</th>\n",
       "      <td>0.801949</td>\n",
       "      <td>0.787761</td>\n",
       "      <td>0.784814</td>\n",
       "      <td>0.799364</td>\n",
       "      <td>0.705189</td>\n",
       "      <td>0.733365</td>\n",
       "      <td>0.751102</td>\n",
       "      <td>0.724839</td>\n",
       "      <td>0.767311</td>\n",
       "      <td>0.737196</td>\n",
       "      <td>0.738395</td>\n",
       "      <td>0.783974</td>\n",
       "      <td>0.468085</td>\n",
       "      <td>0.82266</td>\n",
       "      <td>courtship</td>\n",
       "      <td>2</td>\n",
       "    </tr>\n",
       "    <tr>\n",
       "      <th>4</th>\n",
       "      <td>0.796681</td>\n",
       "      <td>0.796880</td>\n",
       "      <td>0.801317</td>\n",
       "      <td>0.824423</td>\n",
       "      <td>0.830665</td>\n",
       "      <td>0.730091</td>\n",
       "      <td>0.716639</td>\n",
       "      <td>0.709058</td>\n",
       "      <td>0.724263</td>\n",
       "      <td>0.740670</td>\n",
       "      <td>0.743415</td>\n",
       "      <td>0.764478</td>\n",
       "      <td>0.468085</td>\n",
       "      <td>0.82266</td>\n",
       "      <td>courtship</td>\n",
       "      <td>2</td>\n",
       "    </tr>\n",
       "  </tbody>\n",
       "</table>\n",
       "</div>"
      ],
      "text/plain": [
       "          C        C#         D        D#         E         F        F#  \\\n",
       "0  0.719711  0.731053  0.793824  0.838842  0.784447  0.706598  0.786601   \n",
       "1  0.795826  0.808380  0.767941  0.820253  0.792821  0.704216  0.773024   \n",
       "2  0.778523  0.784773  0.808700  0.805103  0.749121  0.717717  0.752525   \n",
       "3  0.801949  0.787761  0.784814  0.799364  0.705189  0.733365  0.751102   \n",
       "4  0.796681  0.796880  0.801317  0.824423  0.830665  0.730091  0.716639   \n",
       "\n",
       "          G        G#         A        A#         B  Temperature  Humidity  \\\n",
       "0  0.717454  0.700665  0.690752  0.697411  0.682494     0.468085   0.82266   \n",
       "1  0.804616  0.771626  0.752125  0.788543  0.775452     0.468085   0.82266   \n",
       "2  0.681978  0.725333  0.733151  0.725552  0.768984     0.468085   0.82266   \n",
       "3  0.724839  0.767311  0.737196  0.738395  0.783974     0.468085   0.82266   \n",
       "4  0.709058  0.724263  0.740670  0.743415  0.764478     0.468085   0.82266   \n",
       "\n",
       "       Label  Label_Encoded  \n",
       "0  courtship              2  \n",
       "1  courtship              2  \n",
       "2  courtship              2  \n",
       "3  courtship              2  \n",
       "4  courtship              2  "
      ]
     },
     "execution_count": 124,
     "metadata": {},
     "output_type": "execute_result"
    }
   ],
   "source": [
    "df.head()"
   ]
  },
  {
   "cell_type": "code",
   "execution_count": 125,
   "id": "91e34c53",
   "metadata": {},
   "outputs": [],
   "source": [
    "#split the data into predictor and target values\n",
    "X=df.iloc[:,[0,1,2,3,4,5,6,7,8,9,10,11,12,13]]\n",
    "y=df.iloc[:,[15]]"
   ]
  },
  {
   "cell_type": "code",
   "execution_count": 126,
   "id": "e1019dcc",
   "metadata": {},
   "outputs": [
    {
     "data": {
      "text/html": [
       "<div>\n",
       "<style scoped>\n",
       "    .dataframe tbody tr th:only-of-type {\n",
       "        vertical-align: middle;\n",
       "    }\n",
       "\n",
       "    .dataframe tbody tr th {\n",
       "        vertical-align: top;\n",
       "    }\n",
       "\n",
       "    .dataframe thead th {\n",
       "        text-align: right;\n",
       "    }\n",
       "</style>\n",
       "<table border=\"1\" class=\"dataframe\">\n",
       "  <thead>\n",
       "    <tr style=\"text-align: right;\">\n",
       "      <th></th>\n",
       "      <th>C</th>\n",
       "      <th>C#</th>\n",
       "      <th>D</th>\n",
       "      <th>D#</th>\n",
       "      <th>E</th>\n",
       "      <th>F</th>\n",
       "      <th>F#</th>\n",
       "      <th>G</th>\n",
       "      <th>G#</th>\n",
       "      <th>A</th>\n",
       "      <th>A#</th>\n",
       "      <th>B</th>\n",
       "      <th>Temperature</th>\n",
       "      <th>Humidity</th>\n",
       "    </tr>\n",
       "  </thead>\n",
       "  <tbody>\n",
       "    <tr>\n",
       "      <th>0</th>\n",
       "      <td>0.719711</td>\n",
       "      <td>0.731053</td>\n",
       "      <td>0.793824</td>\n",
       "      <td>0.838842</td>\n",
       "      <td>0.784447</td>\n",
       "      <td>0.706598</td>\n",
       "      <td>0.786601</td>\n",
       "      <td>0.717454</td>\n",
       "      <td>0.700665</td>\n",
       "      <td>0.690752</td>\n",
       "      <td>0.697411</td>\n",
       "      <td>0.682494</td>\n",
       "      <td>0.468085</td>\n",
       "      <td>0.82266</td>\n",
       "    </tr>\n",
       "    <tr>\n",
       "      <th>1</th>\n",
       "      <td>0.795826</td>\n",
       "      <td>0.808380</td>\n",
       "      <td>0.767941</td>\n",
       "      <td>0.820253</td>\n",
       "      <td>0.792821</td>\n",
       "      <td>0.704216</td>\n",
       "      <td>0.773024</td>\n",
       "      <td>0.804616</td>\n",
       "      <td>0.771626</td>\n",
       "      <td>0.752125</td>\n",
       "      <td>0.788543</td>\n",
       "      <td>0.775452</td>\n",
       "      <td>0.468085</td>\n",
       "      <td>0.82266</td>\n",
       "    </tr>\n",
       "    <tr>\n",
       "      <th>2</th>\n",
       "      <td>0.778523</td>\n",
       "      <td>0.784773</td>\n",
       "      <td>0.808700</td>\n",
       "      <td>0.805103</td>\n",
       "      <td>0.749121</td>\n",
       "      <td>0.717717</td>\n",
       "      <td>0.752525</td>\n",
       "      <td>0.681978</td>\n",
       "      <td>0.725333</td>\n",
       "      <td>0.733151</td>\n",
       "      <td>0.725552</td>\n",
       "      <td>0.768984</td>\n",
       "      <td>0.468085</td>\n",
       "      <td>0.82266</td>\n",
       "    </tr>\n",
       "    <tr>\n",
       "      <th>3</th>\n",
       "      <td>0.801949</td>\n",
       "      <td>0.787761</td>\n",
       "      <td>0.784814</td>\n",
       "      <td>0.799364</td>\n",
       "      <td>0.705189</td>\n",
       "      <td>0.733365</td>\n",
       "      <td>0.751102</td>\n",
       "      <td>0.724839</td>\n",
       "      <td>0.767311</td>\n",
       "      <td>0.737196</td>\n",
       "      <td>0.738395</td>\n",
       "      <td>0.783974</td>\n",
       "      <td>0.468085</td>\n",
       "      <td>0.82266</td>\n",
       "    </tr>\n",
       "    <tr>\n",
       "      <th>4</th>\n",
       "      <td>0.796681</td>\n",
       "      <td>0.796880</td>\n",
       "      <td>0.801317</td>\n",
       "      <td>0.824423</td>\n",
       "      <td>0.830665</td>\n",
       "      <td>0.730091</td>\n",
       "      <td>0.716639</td>\n",
       "      <td>0.709058</td>\n",
       "      <td>0.724263</td>\n",
       "      <td>0.740670</td>\n",
       "      <td>0.743415</td>\n",
       "      <td>0.764478</td>\n",
       "      <td>0.468085</td>\n",
       "      <td>0.82266</td>\n",
       "    </tr>\n",
       "  </tbody>\n",
       "</table>\n",
       "</div>"
      ],
      "text/plain": [
       "          C        C#         D        D#         E         F        F#  \\\n",
       "0  0.719711  0.731053  0.793824  0.838842  0.784447  0.706598  0.786601   \n",
       "1  0.795826  0.808380  0.767941  0.820253  0.792821  0.704216  0.773024   \n",
       "2  0.778523  0.784773  0.808700  0.805103  0.749121  0.717717  0.752525   \n",
       "3  0.801949  0.787761  0.784814  0.799364  0.705189  0.733365  0.751102   \n",
       "4  0.796681  0.796880  0.801317  0.824423  0.830665  0.730091  0.716639   \n",
       "\n",
       "          G        G#         A        A#         B  Temperature  Humidity  \n",
       "0  0.717454  0.700665  0.690752  0.697411  0.682494     0.468085   0.82266  \n",
       "1  0.804616  0.771626  0.752125  0.788543  0.775452     0.468085   0.82266  \n",
       "2  0.681978  0.725333  0.733151  0.725552  0.768984     0.468085   0.82266  \n",
       "3  0.724839  0.767311  0.737196  0.738395  0.783974     0.468085   0.82266  \n",
       "4  0.709058  0.724263  0.740670  0.743415  0.764478     0.468085   0.82266  "
      ]
     },
     "execution_count": 126,
     "metadata": {},
     "output_type": "execute_result"
    }
   ],
   "source": [
    "X.head()"
   ]
  },
  {
   "cell_type": "code",
   "execution_count": 127,
   "id": "24479019",
   "metadata": {},
   "outputs": [
    {
     "data": {
      "text/plain": [
       "(83809, 14)"
      ]
     },
     "execution_count": 127,
     "metadata": {},
     "output_type": "execute_result"
    }
   ],
   "source": [
    "X.shape"
   ]
  },
  {
   "cell_type": "code",
   "execution_count": 128,
   "id": "b1e580bb",
   "metadata": {},
   "outputs": [
    {
     "data": {
      "text/plain": [
       "(83809, 1)"
      ]
     },
     "execution_count": 128,
     "metadata": {},
     "output_type": "execute_result"
    }
   ],
   "source": [
    "y.shape"
   ]
  },
  {
   "cell_type": "markdown",
   "id": "1c986b10",
   "metadata": {},
   "source": [
    "## Splitting data "
   ]
  },
  {
   "cell_type": "code",
   "execution_count": 129,
   "id": "119a9aad",
   "metadata": {},
   "outputs": [],
   "source": [
    "from sklearn.model_selection import train_test_split\n",
    "\n",
    "X_train, X_test, y_train, y_test = train_test_split(X, y, test_size=0.30, random_state=42,stratify=y)"
   ]
  },
  {
   "cell_type": "code",
   "execution_count": 130,
   "id": "cc621f25",
   "metadata": {},
   "outputs": [
    {
     "data": {
      "text/html": [
       "<div>\n",
       "<style scoped>\n",
       "    .dataframe tbody tr th:only-of-type {\n",
       "        vertical-align: middle;\n",
       "    }\n",
       "\n",
       "    .dataframe tbody tr th {\n",
       "        vertical-align: top;\n",
       "    }\n",
       "\n",
       "    .dataframe thead th {\n",
       "        text-align: right;\n",
       "    }\n",
       "</style>\n",
       "<table border=\"1\" class=\"dataframe\">\n",
       "  <thead>\n",
       "    <tr style=\"text-align: right;\">\n",
       "      <th></th>\n",
       "      <th>C</th>\n",
       "      <th>C#</th>\n",
       "      <th>D</th>\n",
       "      <th>D#</th>\n",
       "      <th>E</th>\n",
       "      <th>F</th>\n",
       "      <th>F#</th>\n",
       "      <th>G</th>\n",
       "      <th>G#</th>\n",
       "      <th>A</th>\n",
       "      <th>A#</th>\n",
       "      <th>B</th>\n",
       "      <th>Temperature</th>\n",
       "      <th>Humidity</th>\n",
       "    </tr>\n",
       "  </thead>\n",
       "  <tbody>\n",
       "    <tr>\n",
       "      <th>62475</th>\n",
       "      <td>0.000576</td>\n",
       "      <td>0.001044</td>\n",
       "      <td>0.019650</td>\n",
       "      <td>0.417446</td>\n",
       "      <td>1.000000</td>\n",
       "      <td>0.091140</td>\n",
       "      <td>0.000922</td>\n",
       "      <td>0.000529</td>\n",
       "      <td>0.000510</td>\n",
       "      <td>0.000510</td>\n",
       "      <td>0.000528</td>\n",
       "      <td>0.000548</td>\n",
       "      <td>0.659574</td>\n",
       "      <td>0.647783</td>\n",
       "    </tr>\n",
       "    <tr>\n",
       "      <th>61863</th>\n",
       "      <td>0.000439</td>\n",
       "      <td>0.000891</td>\n",
       "      <td>0.017567</td>\n",
       "      <td>0.411716</td>\n",
       "      <td>1.000000</td>\n",
       "      <td>0.084472</td>\n",
       "      <td>0.000869</td>\n",
       "      <td>0.000487</td>\n",
       "      <td>0.000425</td>\n",
       "      <td>0.000399</td>\n",
       "      <td>0.000372</td>\n",
       "      <td>0.000397</td>\n",
       "      <td>0.659574</td>\n",
       "      <td>0.647783</td>\n",
       "    </tr>\n",
       "    <tr>\n",
       "      <th>58717</th>\n",
       "      <td>0.000579</td>\n",
       "      <td>0.001085</td>\n",
       "      <td>0.021405</td>\n",
       "      <td>0.440861</td>\n",
       "      <td>1.000000</td>\n",
       "      <td>0.077375</td>\n",
       "      <td>0.001106</td>\n",
       "      <td>0.000628</td>\n",
       "      <td>0.000570</td>\n",
       "      <td>0.000564</td>\n",
       "      <td>0.000570</td>\n",
       "      <td>0.000541</td>\n",
       "      <td>0.702128</td>\n",
       "      <td>0.633005</td>\n",
       "    </tr>\n",
       "    <tr>\n",
       "      <th>1798</th>\n",
       "      <td>0.807502</td>\n",
       "      <td>0.847322</td>\n",
       "      <td>0.841869</td>\n",
       "      <td>0.848620</td>\n",
       "      <td>0.868967</td>\n",
       "      <td>0.801158</td>\n",
       "      <td>0.744674</td>\n",
       "      <td>0.740087</td>\n",
       "      <td>0.782896</td>\n",
       "      <td>0.797793</td>\n",
       "      <td>0.741766</td>\n",
       "      <td>0.749015</td>\n",
       "      <td>0.531915</td>\n",
       "      <td>0.647783</td>\n",
       "    </tr>\n",
       "    <tr>\n",
       "      <th>74526</th>\n",
       "      <td>0.039357</td>\n",
       "      <td>0.043040</td>\n",
       "      <td>0.079800</td>\n",
       "      <td>0.726754</td>\n",
       "      <td>0.999157</td>\n",
       "      <td>0.096496</td>\n",
       "      <td>0.039501</td>\n",
       "      <td>0.036520</td>\n",
       "      <td>0.036985</td>\n",
       "      <td>0.038268</td>\n",
       "      <td>0.039246</td>\n",
       "      <td>0.036344</td>\n",
       "      <td>0.510638</td>\n",
       "      <td>0.399015</td>\n",
       "    </tr>\n",
       "  </tbody>\n",
       "</table>\n",
       "</div>"
      ],
      "text/plain": [
       "              C        C#         D        D#         E         F        F#  \\\n",
       "62475  0.000576  0.001044  0.019650  0.417446  1.000000  0.091140  0.000922   \n",
       "61863  0.000439  0.000891  0.017567  0.411716  1.000000  0.084472  0.000869   \n",
       "58717  0.000579  0.001085  0.021405  0.440861  1.000000  0.077375  0.001106   \n",
       "1798   0.807502  0.847322  0.841869  0.848620  0.868967  0.801158  0.744674   \n",
       "74526  0.039357  0.043040  0.079800  0.726754  0.999157  0.096496  0.039501   \n",
       "\n",
       "              G        G#         A        A#         B  Temperature  Humidity  \n",
       "62475  0.000529  0.000510  0.000510  0.000528  0.000548     0.659574  0.647783  \n",
       "61863  0.000487  0.000425  0.000399  0.000372  0.000397     0.659574  0.647783  \n",
       "58717  0.000628  0.000570  0.000564  0.000570  0.000541     0.702128  0.633005  \n",
       "1798   0.740087  0.782896  0.797793  0.741766  0.749015     0.531915  0.647783  \n",
       "74526  0.036520  0.036985  0.038268  0.039246  0.036344     0.510638  0.399015  "
      ]
     },
     "execution_count": 130,
     "metadata": {},
     "output_type": "execute_result"
    }
   ],
   "source": [
    "X_train.head()"
   ]
  },
  {
   "cell_type": "code",
   "execution_count": 131,
   "id": "12c2f216",
   "metadata": {},
   "outputs": [],
   "source": [
    "min_max_scaler=preprocessing.MinMaxScaler()\n",
    "X_train[['Temperature','Humidity']] = min_max_scaler.fit_transform(X_train[['Temperature', 'Humidity']])"
   ]
  },
  {
   "cell_type": "code",
   "execution_count": 132,
   "id": "a24b95a6",
   "metadata": {},
   "outputs": [
    {
     "data": {
      "text/html": [
       "<div>\n",
       "<style scoped>\n",
       "    .dataframe tbody tr th:only-of-type {\n",
       "        vertical-align: middle;\n",
       "    }\n",
       "\n",
       "    .dataframe tbody tr th {\n",
       "        vertical-align: top;\n",
       "    }\n",
       "\n",
       "    .dataframe thead th {\n",
       "        text-align: right;\n",
       "    }\n",
       "</style>\n",
       "<table border=\"1\" class=\"dataframe\">\n",
       "  <thead>\n",
       "    <tr style=\"text-align: right;\">\n",
       "      <th></th>\n",
       "      <th>C</th>\n",
       "      <th>C#</th>\n",
       "      <th>D</th>\n",
       "      <th>D#</th>\n",
       "      <th>E</th>\n",
       "      <th>F</th>\n",
       "      <th>F#</th>\n",
       "      <th>G</th>\n",
       "      <th>G#</th>\n",
       "      <th>A</th>\n",
       "      <th>A#</th>\n",
       "      <th>B</th>\n",
       "      <th>Temperature</th>\n",
       "      <th>Humidity</th>\n",
       "    </tr>\n",
       "  </thead>\n",
       "  <tbody>\n",
       "    <tr>\n",
       "      <th>62475</th>\n",
       "      <td>0.000576</td>\n",
       "      <td>0.001044</td>\n",
       "      <td>0.019650</td>\n",
       "      <td>0.417446</td>\n",
       "      <td>1.000000</td>\n",
       "      <td>0.091140</td>\n",
       "      <td>0.000922</td>\n",
       "      <td>0.000529</td>\n",
       "      <td>0.000510</td>\n",
       "      <td>0.000510</td>\n",
       "      <td>0.000528</td>\n",
       "      <td>0.000548</td>\n",
       "      <td>0.659574</td>\n",
       "      <td>0.647783</td>\n",
       "    </tr>\n",
       "    <tr>\n",
       "      <th>61863</th>\n",
       "      <td>0.000439</td>\n",
       "      <td>0.000891</td>\n",
       "      <td>0.017567</td>\n",
       "      <td>0.411716</td>\n",
       "      <td>1.000000</td>\n",
       "      <td>0.084472</td>\n",
       "      <td>0.000869</td>\n",
       "      <td>0.000487</td>\n",
       "      <td>0.000425</td>\n",
       "      <td>0.000399</td>\n",
       "      <td>0.000372</td>\n",
       "      <td>0.000397</td>\n",
       "      <td>0.659574</td>\n",
       "      <td>0.647783</td>\n",
       "    </tr>\n",
       "    <tr>\n",
       "      <th>58717</th>\n",
       "      <td>0.000579</td>\n",
       "      <td>0.001085</td>\n",
       "      <td>0.021405</td>\n",
       "      <td>0.440861</td>\n",
       "      <td>1.000000</td>\n",
       "      <td>0.077375</td>\n",
       "      <td>0.001106</td>\n",
       "      <td>0.000628</td>\n",
       "      <td>0.000570</td>\n",
       "      <td>0.000564</td>\n",
       "      <td>0.000570</td>\n",
       "      <td>0.000541</td>\n",
       "      <td>0.702128</td>\n",
       "      <td>0.633005</td>\n",
       "    </tr>\n",
       "    <tr>\n",
       "      <th>1798</th>\n",
       "      <td>0.807502</td>\n",
       "      <td>0.847322</td>\n",
       "      <td>0.841869</td>\n",
       "      <td>0.848620</td>\n",
       "      <td>0.868967</td>\n",
       "      <td>0.801158</td>\n",
       "      <td>0.744674</td>\n",
       "      <td>0.740087</td>\n",
       "      <td>0.782896</td>\n",
       "      <td>0.797793</td>\n",
       "      <td>0.741766</td>\n",
       "      <td>0.749015</td>\n",
       "      <td>0.531915</td>\n",
       "      <td>0.647783</td>\n",
       "    </tr>\n",
       "    <tr>\n",
       "      <th>74526</th>\n",
       "      <td>0.039357</td>\n",
       "      <td>0.043040</td>\n",
       "      <td>0.079800</td>\n",
       "      <td>0.726754</td>\n",
       "      <td>0.999157</td>\n",
       "      <td>0.096496</td>\n",
       "      <td>0.039501</td>\n",
       "      <td>0.036520</td>\n",
       "      <td>0.036985</td>\n",
       "      <td>0.038268</td>\n",
       "      <td>0.039246</td>\n",
       "      <td>0.036344</td>\n",
       "      <td>0.510638</td>\n",
       "      <td>0.399015</td>\n",
       "    </tr>\n",
       "    <tr>\n",
       "      <th>...</th>\n",
       "      <td>...</td>\n",
       "      <td>...</td>\n",
       "      <td>...</td>\n",
       "      <td>...</td>\n",
       "      <td>...</td>\n",
       "      <td>...</td>\n",
       "      <td>...</td>\n",
       "      <td>...</td>\n",
       "      <td>...</td>\n",
       "      <td>...</td>\n",
       "      <td>...</td>\n",
       "      <td>...</td>\n",
       "      <td>...</td>\n",
       "      <td>...</td>\n",
       "    </tr>\n",
       "    <tr>\n",
       "      <th>77140</th>\n",
       "      <td>0.018549</td>\n",
       "      <td>0.020260</td>\n",
       "      <td>0.103967</td>\n",
       "      <td>0.996427</td>\n",
       "      <td>0.759802</td>\n",
       "      <td>0.033649</td>\n",
       "      <td>0.017765</td>\n",
       "      <td>0.017187</td>\n",
       "      <td>0.017439</td>\n",
       "      <td>0.017992</td>\n",
       "      <td>0.017581</td>\n",
       "      <td>0.016994</td>\n",
       "      <td>0.595745</td>\n",
       "      <td>0.509852</td>\n",
       "    </tr>\n",
       "    <tr>\n",
       "      <th>19163</th>\n",
       "      <td>0.732809</td>\n",
       "      <td>0.713605</td>\n",
       "      <td>0.826854</td>\n",
       "      <td>0.882664</td>\n",
       "      <td>0.892480</td>\n",
       "      <td>0.694557</td>\n",
       "      <td>0.686511</td>\n",
       "      <td>0.759221</td>\n",
       "      <td>0.667371</td>\n",
       "      <td>0.656995</td>\n",
       "      <td>0.679300</td>\n",
       "      <td>0.699450</td>\n",
       "      <td>0.808511</td>\n",
       "      <td>0.241379</td>\n",
       "    </tr>\n",
       "    <tr>\n",
       "      <th>7426</th>\n",
       "      <td>0.018265</td>\n",
       "      <td>0.210203</td>\n",
       "      <td>1.000000</td>\n",
       "      <td>0.403217</td>\n",
       "      <td>0.015943</td>\n",
       "      <td>0.003268</td>\n",
       "      <td>0.002441</td>\n",
       "      <td>0.002543</td>\n",
       "      <td>0.002428</td>\n",
       "      <td>0.002250</td>\n",
       "      <td>0.002288</td>\n",
       "      <td>0.002566</td>\n",
       "      <td>0.446809</td>\n",
       "      <td>0.697044</td>\n",
       "    </tr>\n",
       "    <tr>\n",
       "      <th>75756</th>\n",
       "      <td>0.159361</td>\n",
       "      <td>0.166312</td>\n",
       "      <td>0.583958</td>\n",
       "      <td>0.997382</td>\n",
       "      <td>0.219363</td>\n",
       "      <td>0.119206</td>\n",
       "      <td>0.133986</td>\n",
       "      <td>0.129082</td>\n",
       "      <td>0.131407</td>\n",
       "      <td>0.158823</td>\n",
       "      <td>0.159456</td>\n",
       "      <td>0.157731</td>\n",
       "      <td>0.531915</td>\n",
       "      <td>0.266010</td>\n",
       "    </tr>\n",
       "    <tr>\n",
       "      <th>13541</th>\n",
       "      <td>0.712194</td>\n",
       "      <td>0.723964</td>\n",
       "      <td>0.866817</td>\n",
       "      <td>0.957180</td>\n",
       "      <td>0.795042</td>\n",
       "      <td>0.644512</td>\n",
       "      <td>0.623654</td>\n",
       "      <td>0.627766</td>\n",
       "      <td>0.626683</td>\n",
       "      <td>0.620486</td>\n",
       "      <td>0.624367</td>\n",
       "      <td>0.659769</td>\n",
       "      <td>0.787234</td>\n",
       "      <td>0.403941</td>\n",
       "    </tr>\n",
       "  </tbody>\n",
       "</table>\n",
       "<p>58666 rows × 14 columns</p>\n",
       "</div>"
      ],
      "text/plain": [
       "              C        C#         D        D#         E         F        F#  \\\n",
       "62475  0.000576  0.001044  0.019650  0.417446  1.000000  0.091140  0.000922   \n",
       "61863  0.000439  0.000891  0.017567  0.411716  1.000000  0.084472  0.000869   \n",
       "58717  0.000579  0.001085  0.021405  0.440861  1.000000  0.077375  0.001106   \n",
       "1798   0.807502  0.847322  0.841869  0.848620  0.868967  0.801158  0.744674   \n",
       "74526  0.039357  0.043040  0.079800  0.726754  0.999157  0.096496  0.039501   \n",
       "...         ...       ...       ...       ...       ...       ...       ...   \n",
       "77140  0.018549  0.020260  0.103967  0.996427  0.759802  0.033649  0.017765   \n",
       "19163  0.732809  0.713605  0.826854  0.882664  0.892480  0.694557  0.686511   \n",
       "7426   0.018265  0.210203  1.000000  0.403217  0.015943  0.003268  0.002441   \n",
       "75756  0.159361  0.166312  0.583958  0.997382  0.219363  0.119206  0.133986   \n",
       "13541  0.712194  0.723964  0.866817  0.957180  0.795042  0.644512  0.623654   \n",
       "\n",
       "              G        G#         A        A#         B  Temperature  Humidity  \n",
       "62475  0.000529  0.000510  0.000510  0.000528  0.000548     0.659574  0.647783  \n",
       "61863  0.000487  0.000425  0.000399  0.000372  0.000397     0.659574  0.647783  \n",
       "58717  0.000628  0.000570  0.000564  0.000570  0.000541     0.702128  0.633005  \n",
       "1798   0.740087  0.782896  0.797793  0.741766  0.749015     0.531915  0.647783  \n",
       "74526  0.036520  0.036985  0.038268  0.039246  0.036344     0.510638  0.399015  \n",
       "...         ...       ...       ...       ...       ...          ...       ...  \n",
       "77140  0.017187  0.017439  0.017992  0.017581  0.016994     0.595745  0.509852  \n",
       "19163  0.759221  0.667371  0.656995  0.679300  0.699450     0.808511  0.241379  \n",
       "7426   0.002543  0.002428  0.002250  0.002288  0.002566     0.446809  0.697044  \n",
       "75756  0.129082  0.131407  0.158823  0.159456  0.157731     0.531915  0.266010  \n",
       "13541  0.627766  0.626683  0.620486  0.624367  0.659769     0.787234  0.403941  \n",
       "\n",
       "[58666 rows x 14 columns]"
      ]
     },
     "execution_count": 132,
     "metadata": {},
     "output_type": "execute_result"
    }
   ],
   "source": [
    "X_train"
   ]
  },
  {
   "cell_type": "code",
   "execution_count": 133,
   "id": "1cc4ff08",
   "metadata": {},
   "outputs": [],
   "source": [
    "X_test[['Temperature','Humidity']] = min_max_scaler.fit_transform(X_test[['Temperature', 'Humidity']])"
   ]
  },
  {
   "cell_type": "markdown",
   "id": "9b3874dc",
   "metadata": {},
   "source": [
    "## Using SMOTE to balance the data"
   ]
  },
  {
   "cell_type": "code",
   "execution_count": 134,
   "id": "ae74d3b3",
   "metadata": {},
   "outputs": [],
   "source": [
    "from imblearn.over_sampling import SMOTE"
   ]
  },
  {
   "cell_type": "code",
   "execution_count": 135,
   "id": "dd9c33a7",
   "metadata": {},
   "outputs": [
    {
     "name": "stdout",
     "output_type": "stream",
     "text": [
      "(150549, 14)\n"
     ]
    },
    {
     "data": {
      "text/plain": [
       "<Axes: title={'center': 'Count of Classes'}, xlabel='Label_Encoded'>"
      ]
     },
     "execution_count": 135,
     "metadata": {},
     "output_type": "execute_result"
    },
    {
     "data": {
      "image/png": "[encoded data removed]",
      "text/plain": [
       "<Figure size 432x288 with 1 Axes>"
      ]
     },
     "metadata": {
      "needs_background": "light"
     },
     "output_type": "display_data"
    }
   ],
   "source": [
    "smote = SMOTE(random_state=42, k_neighbors=100)\n",
    "X_ssample, y_ssample=smote.fit_resample(X_train, y_train)\n",
    "\n",
    "print(X_ssample.shape)\n",
    "\n",
    "y_ssample.value_counts().plot(kind='bar', title='Count of Classes')"
   ]
  },
  {
   "cell_type": "markdown",
   "id": "4f4a9262",
   "metadata": {},
   "source": [
    "## Training the model using Support Vector Machine"
   ]
  },
  {
   "cell_type": "code",
   "execution_count": 136,
   "id": "8ad81901",
   "metadata": {},
   "outputs": [],
   "source": [
    "from sklearn.svm import SVC\n",
    "from sklearn.metrics import accuracy_score\n",
    "from sklearn.metrics import f1_score"
   ]
  },
  {
   "cell_type": "code",
   "execution_count": 137,
   "id": "6b68373a",
   "metadata": {},
   "outputs": [
    {
     "data": {
      "text/plain": [
       "SVC()"
      ]
     },
     "execution_count": 137,
     "metadata": {},
     "output_type": "execute_result"
    }
   ],
   "source": [
    "svmodel = SVC()\n",
    "svmodel.fit(X_ssample, np.ravel(y_ssample))"
   ]
  },
  {
   "cell_type": "code",
   "execution_count": 138,
   "id": "93cf8bd9",
   "metadata": {},
   "outputs": [],
   "source": [
    "svmodel_pred=svmodel.predict(X_test)"
   ]
  },
  {
   "cell_type": "code",
   "execution_count": 139,
   "id": "1f338201",
   "metadata": {},
   "outputs": [
    {
     "name": "stdout",
     "output_type": "stream",
     "text": [
      "Accuracy score is: 0.7692399475002983\n"
     ]
    }
   ],
   "source": [
    "svmodel_accuracy=accuracy_score(y_test,svmodel_pred)\n",
    "print('Accuracy score is:',svmodel_accuracy)"
   ]
  },
  {
   "cell_type": "code",
   "execution_count": 140,
   "id": "2d56ee9f",
   "metadata": {},
   "outputs": [
    {
     "name": "stdout",
     "output_type": "stream",
     "text": [
      "F1 score is: 0.8232955218792597\n"
     ]
    }
   ],
   "source": [
    "#checking performance using F1-score\n",
    "svmodel_f1 = f1_score(y_test,svmodel_pred,average='weighted')\n",
    "print('F1 score is:',svmodel_f1)"
   ]
  },
  {
   "cell_type": "markdown",
   "id": "97b64cb2",
   "metadata": {},
   "source": [
    "## Training the model with K-Nearest Neighbor (KNN)"
   ]
  },
  {
   "cell_type": "code",
   "execution_count": 141,
   "id": "3c22202e",
   "metadata": {},
   "outputs": [],
   "source": [
    "from sklearn.neighbors import KNeighborsClassifier"
   ]
  },
  {
   "cell_type": "code",
   "execution_count": 142,
   "id": "bfe6973e",
   "metadata": {},
   "outputs": [
    {
     "data": {
      "text/plain": [
       "KNeighborsClassifier()"
      ]
     },
     "execution_count": 142,
     "metadata": {},
     "output_type": "execute_result"
    }
   ],
   "source": [
    "knn_classifier=KNeighborsClassifier()\n",
    "knn_classifier.fit(X_ssample, np.ravel(y_ssample))"
   ]
  },
  {
   "cell_type": "code",
   "execution_count": 143,
   "id": "d59351e1",
   "metadata": {},
   "outputs": [],
   "source": [
    "#model prediction\n",
    "knn_pred=knn_classifier.predict(X_test)"
   ]
  },
  {
   "cell_type": "code",
   "execution_count": 144,
   "id": "14125e29",
   "metadata": {},
   "outputs": [
    {
     "name": "stdout",
     "output_type": "stream",
     "text": [
      "KNN accuracy score is: 0.8738813984011454\n",
      "KNN f1-score is: 0.8928044056746658\n"
     ]
    }
   ],
   "source": [
    "#evaluating the perfomance of the model\n",
    "knn_accuracy=accuracy_score(y_test,knn_pred)\n",
    "print('KNN accuracy score is:',knn_accuracy)\n",
    "knn_f1=f1_score(y_test,knn_pred,average='weighted')\n",
    "print('KNN f1-score is:',knn_f1)"
   ]
  },
  {
   "cell_type": "markdown",
   "id": "b92ca14f",
   "metadata": {},
   "source": [
    "## Training the model with Random Forest (RF) classifier"
   ]
  },
  {
   "cell_type": "code",
   "execution_count": 145,
   "id": "fea249aa",
   "metadata": {},
   "outputs": [],
   "source": [
    "from sklearn.ensemble import RandomForestClassifier"
   ]
  },
  {
   "cell_type": "code",
   "execution_count": 146,
   "id": "96144e25",
   "metadata": {},
   "outputs": [
    {
     "data": {
      "text/plain": [
       "RandomForestClassifier(random_state=42)"
      ]
     },
     "execution_count": 146,
     "metadata": {},
     "output_type": "execute_result"
    }
   ],
   "source": [
    "Rf_model=RandomForestClassifier(random_state=42)\n",
    "Rf_model.fit(X_ssample, np.ravel(y_ssample))"
   ]
  },
  {
   "cell_type": "code",
   "execution_count": null,
   "id": "7d1e7c78",
   "metadata": {},
   "outputs": [],
   "source": [
    "#model prediction\n",
    "Rf_pred=Rf_model.predict(X_test)"
   ]
  },
  {
   "cell_type": "code",
   "execution_count": null,
   "id": "33fcedbb",
   "metadata": {},
   "outputs": [],
   "source": [
    "#Evaluating the performance of the model\n",
    "Rf_accuracy=accuracy_score(y_test,Rf_pred)\n",
    "print(\"RF accuracy score is:\",Rf_accuracy)\n",
    "Rf_f1=f1_score(y_test,Rf_pred,average='weighted')\n",
    "print('RF f1-score is:',Rf_f1)"
   ]
  },
  {
   "cell_type": "markdown",
   "id": "552dee64",
   "metadata": {},
   "source": [
    "## MFCC FEATURE MODEL TRAINING"
   ]
  },
  {
   "cell_type": "code",
   "execution_count": null,
   "id": "33146da1",
   "metadata": {},
   "outputs": [],
   "source": [
    "data=pd.read_csv('mfcc_features.csv')"
   ]
  },
  {
   "cell_type": "code",
   "execution_count": null,
   "id": "99d84746",
   "metadata": {},
   "outputs": [],
   "source": [
    "data.head()"
   ]
  },
  {
   "cell_type": "code",
   "execution_count": null,
   "id": "7a90ba43",
   "metadata": {},
   "outputs": [],
   "source": [
    "data.shape"
   ]
  },
  {
   "cell_type": "markdown",
   "id": "74e7a364",
   "metadata": {},
   "source": [
    "# droping unnamed column and filename"
   ]
  },
  {
   "cell_type": "code",
   "execution_count": null,
   "id": "b503bd52",
   "metadata": {},
   "outputs": [],
   "source": [
    "data=data.drop(columns=['Unnamed: 0','Filename'],axis=1)"
   ]
  },
  {
   "cell_type": "code",
   "execution_count": null,
   "id": "cdd66911",
   "metadata": {},
   "outputs": [],
   "source": [
    "#data types\n",
    "#data.dtypes"
   ]
  },
  {
   "cell_type": "code",
   "execution_count": null,
   "id": "858f415a",
   "metadata": {},
   "outputs": [],
   "source": [
    "data['Label'].unique()"
   ]
  },
  {
   "cell_type": "code",
   "execution_count": null,
   "id": "469eb0f5",
   "metadata": {},
   "outputs": [],
   "source": [
    "data.describe()"
   ]
  },
  {
   "cell_type": "code",
   "execution_count": null,
   "id": "66d9b84c",
   "metadata": {},
   "outputs": [],
   "source": [
    "#scaling features\n",
    "#min_max_scaler=preprocessing.MinMaxScaler()\n",
    "#data[['1','2','3','4','5','6','7','8','9','10','11','12','13','14','15','16','17','18','19','Temperature','Humidity']] = min_max_scaler.fit_transform(data[['1','2','3','4','5','6','7','8','9','10','11','12','13','14','15','16','17','18','19','Temperature', 'Humidity']])"
   ]
  },
  {
   "cell_type": "code",
   "execution_count": null,
   "id": "e0f33963",
   "metadata": {},
   "outputs": [],
   "source": [
    "# encoding the target column\n",
    "label_encoder=preprocessing.LabelEncoder()\n",
    "data['Label_Encoded']=label_encoder.fit_transform(data['Label'])\n",
    "data['Label_Encoded'].unique()"
   ]
  },
  {
   "cell_type": "code",
   "execution_count": null,
   "id": "d6cc6140",
   "metadata": {},
   "outputs": [],
   "source": [
    "#inspecting dataframe to confirm changes\n",
    "data.head()"
   ]
  },
  {
   "cell_type": "code",
   "execution_count": null,
   "id": "9caa78b4",
   "metadata": {},
   "outputs": [],
   "source": [
    "data.describe()"
   ]
  },
  {
   "cell_type": "code",
   "execution_count": null,
   "id": "e7513f1e",
   "metadata": {},
   "outputs": [],
   "source": [
    "data.shape"
   ]
  },
  {
   "cell_type": "code",
   "execution_count": null,
   "id": "8dd82eed",
   "metadata": {},
   "outputs": [],
   "source": [
    "# splitting the data into predictor and target variables\n",
    "pred_val=data.iloc[:,[0,1,2,3,4,5,6,7,8,9,10,11,12,13,14]]\n",
    "target_val=data.iloc[:,[16]]"
   ]
  },
  {
   "cell_type": "code",
   "execution_count": null,
   "id": "f0af7dff",
   "metadata": {},
   "outputs": [],
   "source": [
    "pred_val.head()"
   ]
  },
  {
   "cell_type": "code",
   "execution_count": null,
   "id": "047fe015",
   "metadata": {},
   "outputs": [],
   "source": [
    "target_val.head()"
   ]
  },
  {
   "cell_type": "code",
   "execution_count": null,
   "id": "3faf7e38",
   "metadata": {},
   "outputs": [],
   "source": [
    "#splitting the data into training and test data\n",
    "x_train,x_test,Y_train,Y_test=train_test_split(pred_val,target_val,test_size=0.30,random_state=42,stratify=target_val)"
   ]
  },
  {
   "cell_type": "code",
   "execution_count": null,
   "id": "528de7f2",
   "metadata": {},
   "outputs": [],
   "source": [
    "#scaling the data using min-max scaler\n",
    "min_max_scaler=preprocessing.MinMaxScaler()\n",
    "x_train= min_max_scaler.fit_transform(x_train)"
   ]
  },
  {
   "cell_type": "code",
   "execution_count": null,
   "id": "2676f47f",
   "metadata": {},
   "outputs": [],
   "source": [
    "x_test= min_max_scaler.fit_transform(x_test)"
   ]
  },
  {
   "cell_type": "code",
   "execution_count": null,
   "id": "3656317b",
   "metadata": {},
   "outputs": [],
   "source": [
    "x_test.shape"
   ]
  },
  {
   "cell_type": "code",
   "execution_count": null,
   "id": "3ec31dca",
   "metadata": {},
   "outputs": [],
   "source": [
    "Y_test.shape"
   ]
  },
  {
   "cell_type": "markdown",
   "id": "e3c24615",
   "metadata": {},
   "source": [
    "## Handling class imbalance using SMOTE"
   ]
  },
  {
   "cell_type": "code",
   "execution_count": null,
   "id": "a0e339b7",
   "metadata": {},
   "outputs": [],
   "source": [
    "smote = SMOTE(random_state=42, k_neighbors=100)\n",
    "x_ssample, Y_ssample=smote.fit_resample(x_train, Y_train)\n",
    "\n",
    "print(x_ssample.shape)\n",
    "\n",
    "Y_ssample.value_counts().plot(kind='bar', title='Count of Classes')"
   ]
  },
  {
   "cell_type": "markdown",
   "id": "1fe17dbf",
   "metadata": {},
   "source": [
    "## MFCC feature with SVM"
   ]
  },
  {
   "cell_type": "code",
   "execution_count": null,
   "id": "c53e137a",
   "metadata": {},
   "outputs": [],
   "source": [
    "svm_mfcc = SVC()\n",
    "svm_mfcc.fit(x_ssample, np.ravel(Y_ssample))"
   ]
  },
  {
   "cell_type": "code",
   "execution_count": null,
   "id": "8a9194b2",
   "metadata": {},
   "outputs": [],
   "source": [
    "svm_mfcc_pred=svm_mfcc.predict(x_test)"
   ]
  },
  {
   "cell_type": "code",
   "execution_count": null,
   "id": "12509269",
   "metadata": {},
   "outputs": [],
   "source": [
    "#Evaluating model perfomance\n",
    "mfcc_accuracy=accuracy_score(Y_test,svm_mfcc_pred)\n",
    "print(\"SVM with MFCC feature accuracy is:\",mfcc_accuracy.round(4))\n",
    "mfcc_f1=f1_score(Y_test,svm_mfcc_pred,average='weighted')\n",
    "print(\"SVM with MFCC feature f1-score is:\",mfcc_f1.round(4))"
   ]
  },
  {
   "cell_type": "markdown",
   "id": "b1044bdb",
   "metadata": {},
   "source": [
    "## MFCC feature with KNN"
   ]
  },
  {
   "cell_type": "code",
   "execution_count": null,
   "id": "67bca898",
   "metadata": {},
   "outputs": [],
   "source": [
    "knn_mfcc=KNeighborsClassifier()\n",
    "knn_mfcc.fit(x_ssample, np.ravel(Y_ssample))"
   ]
  },
  {
   "cell_type": "code",
   "execution_count": null,
   "id": "6e3e6a2e",
   "metadata": {},
   "outputs": [],
   "source": [
    "#model prediction\n",
    "knn_mfcc_pred=knn_mfcc.predict(x_test)"
   ]
  },
  {
   "cell_type": "code",
   "execution_count": null,
   "id": "0b5a89e8",
   "metadata": {},
   "outputs": [],
   "source": [
    "#Evaluating model performance\n",
    "knn_mfcc_accuracy=accuracy_score(Y_test,knn_mfcc_pred)\n",
    "print(\"KNN with MFCC feature accuracy is:\",knn_mfcc_accuracy.round(4))\n",
    "knn_mfcc_f1=f1_score(Y_test,knn_mfcc_pred,average='weighted')\n",
    "print(\"KNN with MFCC feature f1-score is:\",knn_mfcc_f1.round(4))"
   ]
  },
  {
   "cell_type": "markdown",
   "id": "03602aea",
   "metadata": {},
   "source": [
    "## MFCC feature with RF classifier"
   ]
  },
  {
   "cell_type": "code",
   "execution_count": null,
   "id": "2a151c50",
   "metadata": {},
   "outputs": [],
   "source": [
    "Rf_mfcc_model=RandomForestClassifier(random_state=42)\n",
    "Rf_mfcc_model.fit(x_ssample, np.ravel(Y_ssample))"
   ]
  },
  {
   "cell_type": "code",
   "execution_count": null,
   "id": "04b506dc",
   "metadata": {},
   "outputs": [],
   "source": [
    "#Model prediction\n",
    "Rf_mfcc_pred=Rf_mfcc_model.predict(x_test)"
   ]
  },
  {
   "cell_type": "code",
   "execution_count": null,
   "id": "a9ea56e4",
   "metadata": {},
   "outputs": [],
   "source": [
    "#Evaluating the model performance\n",
    "rf_mfcc_accuracy=accuracy_score(Y_test,Rf_mfcc_pred)\n",
    "print(\"RF with MFCC feature accuracy is:\",rf_mfcc_accuracy.round(4))\n",
    "rf_mfcc_f1=f1_score(Y_test,Rf_mfcc_pred,average='weighted')\n",
    "print(\"RF with MFCC feature f1-score is:\",rf_mfcc_f1.round(4))"
   ]
  },
  {
   "cell_type": "markdown",
   "id": "2b698853",
   "metadata": {},
   "source": [
    "## LFCC Feature Model Training"
   ]
  },
  {
   "cell_type": "code",
   "execution_count": null,
   "id": "861bbbda",
   "metadata": {},
   "outputs": [],
   "source": [
    "df3=pd.read_csv('lfcc_features.csv')"
   ]
  },
  {
   "cell_type": "code",
   "execution_count": null,
   "id": "e73066ab",
   "metadata": {},
   "outputs": [],
   "source": [
    "df3.head()"
   ]
  },
  {
   "cell_type": "code",
   "execution_count": null,
   "id": "623780c4",
   "metadata": {},
   "outputs": [],
   "source": [
    "#drop columns\n",
    "df3=df3.drop(columns=['Unnamed: 0','Filename'],axis=1)"
   ]
  },
  {
   "cell_type": "code",
   "execution_count": null,
   "id": "3e3708f4",
   "metadata": {},
   "outputs": [],
   "source": [
    "df3.head()"
   ]
  },
  {
   "cell_type": "code",
   "execution_count": null,
   "id": "201f3ab8",
   "metadata": {},
   "outputs": [],
   "source": [
    "# encoding the label column\n",
    "label_encoder=preprocessing.LabelEncoder()\n",
    "df3['Label_Encoded']=label_encoder.fit_transform(data['Label'])\n",
    "df3['Label_Encoded'].unique()"
   ]
  },
  {
   "cell_type": "code",
   "execution_count": null,
   "id": "4df7c742",
   "metadata": {},
   "outputs": [],
   "source": [
    "#summary statistics of the dataset\n",
    "df3.describe()"
   ]
  },
  {
   "cell_type": "code",
   "execution_count": null,
   "id": "f9766383",
   "metadata": {},
   "outputs": [],
   "source": [
    "#predictor and target variables\n",
    "predictor=df3.iloc[:,[0,1,2,3,4,5,6,7,8,9,10,11,12,13,14]]\n",
    "target=df3.iloc[:,[16]]"
   ]
  },
  {
   "cell_type": "code",
   "execution_count": null,
   "id": "5d8780dc",
   "metadata": {},
   "outputs": [],
   "source": [
    "predictor.head()"
   ]
  },
  {
   "cell_type": "code",
   "execution_count": null,
   "id": "c7f2908b",
   "metadata": {},
   "outputs": [],
   "source": [
    "target.head()"
   ]
  },
  {
   "cell_type": "code",
   "execution_count": null,
   "id": "c8a96e1b",
   "metadata": {},
   "outputs": [],
   "source": [
    "#split data into training and testing data\n",
    "XX_train,XX_test,yy_train,yy_test=train_test_split(predictor,target,test_size=0.30,random_state=42,stratify=target)"
   ]
  },
  {
   "cell_type": "code",
   "execution_count": null,
   "id": "bc44ea3b",
   "metadata": {},
   "outputs": [],
   "source": [
    "print('The size of training data is:',XX_train.shape)\n",
    "print('The size of testing data is:',yy_test.shape)"
   ]
  },
  {
   "cell_type": "code",
   "execution_count": null,
   "id": "f675ad6d",
   "metadata": {},
   "outputs": [],
   "source": [
    "# scaling the XX_train and XX_test data using min_max scaler\n",
    "min_max_scaler=preprocessing.MinMaxScaler()\n",
    "XX_train= min_max_scaler.fit_transform(XX_train)"
   ]
  },
  {
   "cell_type": "code",
   "execution_count": null,
   "id": "9d9f013e",
   "metadata": {},
   "outputs": [],
   "source": [
    "XX_test=min_max_scaler.fit_transform(XX_test)"
   ]
  },
  {
   "cell_type": "code",
   "execution_count": null,
   "id": "a9d7a61f",
   "metadata": {},
   "outputs": [],
   "source": [
    "#Balancing the data using Synthetic Minority sampling Technique\n",
    "smote = SMOTE(random_state=42, k_neighbors=100)\n",
    "XX_ssample, yy_ssample=smote.fit_resample(XX_train, yy_train)\n",
    "\n",
    "print(XX_ssample.shape)\n",
    "\n",
    "yy_ssample.value_counts().plot(kind='bar', title='Count of Classes')"
   ]
  },
  {
   "cell_type": "markdown",
   "id": "673d1da3",
   "metadata": {},
   "source": [
    "## Fitting SVM model "
   ]
  },
  {
   "cell_type": "code",
   "execution_count": null,
   "id": "b40031c6",
   "metadata": {},
   "outputs": [],
   "source": [
    "svm_lfcc = SVC()\n",
    "svm_lfcc.fit(XX_ssample, np.ravel(yy_ssample))"
   ]
  },
  {
   "cell_type": "code",
   "execution_count": null,
   "id": "3ea16232",
   "metadata": {},
   "outputs": [],
   "source": [
    "svm_lfcc_pred=svm_mfcc.predict(XX_test)"
   ]
  },
  {
   "cell_type": "code",
   "execution_count": null,
   "id": "80270eb9",
   "metadata": {},
   "outputs": [],
   "source": [
    "#Evaluating model perfomance\n",
    "lfcc_accuracy=accuracy_score(yy_test,svm_lfcc_pred)\n",
    "print(\"SVM with LFCC feature accuracy is:\",lfcc_accuracy.round(4))\n",
    "lfcc_f1=f1_score(yy_test,svm_lfcc_pred,average='weighted')\n",
    "print(\"SVM with LFCC feature f1-score is:\",lfcc_f1.round(4))"
   ]
  },
  {
   "cell_type": "markdown",
   "id": "1d277c30",
   "metadata": {},
   "source": [
    "## Fitting KNN model"
   ]
  },
  {
   "cell_type": "code",
   "execution_count": null,
   "id": "51e8c8d6",
   "metadata": {},
   "outputs": [],
   "source": [
    "knn_lfcc=KNeighborsClassifier()\n",
    "knn_lfcc.fit(XX_ssample, np.ravel(yy_ssample))"
   ]
  },
  {
   "cell_type": "code",
   "execution_count": null,
   "id": "e0e2654c",
   "metadata": {},
   "outputs": [],
   "source": [
    "knn_lfcc_pred=knn_lfcc.predict(XX_test)"
   ]
  },
  {
   "cell_type": "code",
   "execution_count": null,
   "id": "ddb0f0bf",
   "metadata": {},
   "outputs": [],
   "source": [
    "#Evaluating model performance\n",
    "knn_lfcc_accuracy=accuracy_score(yy_test,knn_lfcc_pred)\n",
    "print(\"KNN with LFCC feature accuracy is:\",knn_lfcc_accuracy.round(4))\n",
    "knn_lfcc_f1=f1_score(yy_test,knn_lfcc_pred,average='weighted')\n",
    "print(\"KNN with LFCC feature f1-score is:\",knn_lfcc_f1.round(4))"
   ]
  },
  {
   "cell_type": "markdown",
   "id": "d2715040",
   "metadata": {},
   "source": [
    "## Fitting RF model"
   ]
  },
  {
   "cell_type": "code",
   "execution_count": null,
   "id": "5ce47a9c",
   "metadata": {},
   "outputs": [],
   "source": [
    "Rf_lfcc_model=RandomForestClassifier(random_state=42)\n",
    "Rf_lfcc_model.fit(XX_ssample, np.ravel(yy_ssample))"
   ]
  },
  {
   "cell_type": "code",
   "execution_count": null,
   "id": "9476844e",
   "metadata": {},
   "outputs": [],
   "source": [
    "#Model prediction\n",
    "Rf_lfcc_pred=Rf_lfcc_model.predict(XX_test)"
   ]
  },
  {
   "cell_type": "code",
   "execution_count": null,
   "id": "ed858335",
   "metadata": {},
   "outputs": [],
   "source": [
    "#Evaluating the model performance\n",
    "rf_lfcc_accuracy=accuracy_score(yy_test,Rf_lfcc_pred)\n",
    "print(\"RF with LFCC feature accuracy is:\",rf_lfcc_accuracy.round(4))\n",
    "rf_lfcc_f1=f1_score(yy_test,Rf_lfcc_pred,average='weighted')\n",
    "print(\"RF with LFCC feature f1-score is:\",rf_lfcc_f1.round(4))\n",
    "# Print the confusion matrix\n",
    "print(metrics.confusion_matrix(yy_test,Rf_lfcc_pred))\n",
    "\n",
    "# Print the precision and recall, among other metrics\n",
    "print(metrics.classification_report(yy_test,Rf_lfcc_pred,digits=3))"
   ]
  },
  {
   "cell_type": "markdown",
   "id": "a89ac084",
   "metadata": {},
   "source": [
    "## Shallow Machine Learning Model comparison"
   ]
  },
  {
   "cell_type": "markdown",
   "id": "ef05697d",
   "metadata": {},
   "source": [
    "## single feature performance comparison"
   ]
  },
  {
   "cell_type": "code",
   "execution_count": null,
   "id": "16f80130",
   "metadata": {},
   "outputs": [],
   "source": [
    "single_feat={\n",
    "    'Feature':['Chroma','MFCC','LFCC'],\n",
    "    'SVM':[0.8233,0.7990,0.7887],\n",
    "    'KNN':[0.8928,0.8885,0.8064],\n",
    "    'RF':[0.9334,0.9264,0.9301]   \n",
    "}\n",
    "df_sing=pd.DataFrame(single_feat)"
   ]
  },
  {
   "cell_type": "code",
   "execution_count": null,
   "id": "a5489d64",
   "metadata": {},
   "outputs": [],
   "source": [
    "df_sing.head()"
   ]
  },
  {
   "cell_type": "code",
   "execution_count": null,
   "id": "ca913f18",
   "metadata": {},
   "outputs": [],
   "source": [
    "Feature=('Chroma','MFCC','LFCC')\n",
    "single_feat={\n",
    "    'SVM':[0.8233,0.7990,0.7887],\n",
    "    'KNN':[0.8928,0.8885,0.8064],\n",
    "    'RF':[0.9334,0.9264,0.9301]   \n",
    "}\n",
    "x = np.arange(len(Feature))  \n",
    "width =0.25 # the width of the bars\n",
    "multiplier = 0\n",
    "fig, ax = plt.subplots(layout='constrained')\n",
    "\n",
    "for attribute, measurement in single_feat.items():\n",
    "    offset = width * multiplier\n",
    "    rects = ax.bar(x + offset, measurement, width, label=attribute)\n",
    "    ax.bar_label(rects, padding=3)\n",
    "    multiplier += 1\n",
    "\n",
    "# Add some text for labels, title and custom x-axis tick labels, etc.\n",
    "ax.set_ylabel('f1_score')\n",
    "ax.set_xlabel('Features')\n",
    "#ax.set_title('Penguin attributes by species')\n",
    "ax.set_xticks(x + width, Feature)\n",
    "ax.legend(loc='upper left', ncols=3)\n",
    "ax.set_ylim(0, 1.2)\n",
    "\n",
    "plt.show()"
   ]
  },
  {
   "cell_type": "code",
   "execution_count": null,
   "id": "377cac3c",
   "metadata": {},
   "outputs": [],
   "source": [
    "df_sing.plot(x=\"Feature\", y=[\"SVM\", \"KNN\",\"RF\"], kind=\"bar\")\n",
    "plt.ylabel(\"f1_score\")\n",
    "#plt.title('Feature Performance of models trained on single feature')"
   ]
  },
  {
   "cell_type": "markdown",
   "id": "727c3022",
   "metadata": {},
   "source": [
    "## Algorithm Performance of single features"
   ]
  },
  {
   "cell_type": "code",
   "execution_count": null,
   "id": "4c823767",
   "metadata": {},
   "outputs": [],
   "source": [
    "# Define the algorithms, datasets, and F1-scores\n",
    "algorithms = ['SVM', 'KNN', 'RF']\n",
    "datasets = ['Chroma', 'MFCC', 'LFCC']\n",
    "f1_scores = np.array([[0.8259, 0.8575, 0.7906],\n",
    "                      [0.8822,0.8780,0.8112],\n",
    "                      [0.9031,0.8918,0.8776]])\n",
    "\n",
    "# Set the x-axis values\n",
    "x = np.arange(len(datasets))\n",
    "\n",
    "# Create the line chart for each algorithm\n",
    "for i in range(len(algorithms)):\n",
    "    plt.plot(x, f1_scores[i], marker='o', label=algorithms[i])\n",
    "\n",
    "# Add labels and title\n",
    "plt.xlabel('Datasets')\n",
    "plt.ylabel('F1-score')\n",
    "plt.title('Algorithm Performance for Single Features ')\n",
    "plt.xticks(x, datasets)\n",
    "plt.legend()"
   ]
  },
  {
   "cell_type": "markdown",
   "id": "903656dd",
   "metadata": {},
   "source": [
    "## Combined feature performance"
   ]
  },
  {
   "cell_type": "code",
   "execution_count": null,
   "id": "79a91564",
   "metadata": {},
   "outputs": [],
   "source": [
    "combined_feat={\n",
    "               'SVM':[0.8364,0.8232,0.6810],\n",
    "               'KNN':[0.8838,0.8480,0.8423],\n",
    "               'RF':[0.9463,0.9288,0.9271]    \n",
    "}"
   ]
  },
  {
   "cell_type": "code",
   "execution_count": null,
   "id": "165903b7",
   "metadata": {},
   "outputs": [],
   "source": [
    "Feature=('Chroma-MFCC','Chroma-LFCC','MFCC-LFCC')\n",
    "single_feat={\n",
    "     'SVM':[0.8364,0.8232,0.6810],\n",
    "     'KNN':[0.8838,0.8480,0.8423],\n",
    "     'RF':[0.9463,0.9288,0.9271]\n",
    "}\n",
    "x = np.arange(len(Feature))  \n",
    "width =0.25 # the width of the bars\n",
    "multiplier = 0\n",
    "fig, ax = plt.subplots(layout='constrained')\n",
    "\n",
    "for attribute, measurement in single_feat.items():\n",
    "    offset = width * multiplier\n",
    "    rects = ax.bar(x + offset, measurement, width, label=attribute)\n",
    "    ax.bar_label(rects, padding=3)\n",
    "    multiplier += 1\n",
    "\n",
    "# Add some text for labels, title and custom x-axis tick labels, etc.\n",
    "ax.set_ylabel('f1_score')\n",
    "ax.set_xlabel('Features')\n",
    "#ax.set_title('Penguin attributes by species')\n",
    "ax.set_xticks(x + width, Feature)\n",
    "ax.legend(loc='upper left', ncols=3)\n",
    "ax.set_ylim(0, 1.2)\n",
    "\n",
    "plt.show()"
   ]
  },
  {
   "cell_type": "code",
   "execution_count": null,
   "id": "ccfc94f0",
   "metadata": {},
   "outputs": [],
   "source": [
    "df_comb=pd.DataFrame(combined_feat)"
   ]
  },
  {
   "cell_type": "code",
   "execution_count": null,
   "id": "aedbc0f1",
   "metadata": {
    "scrolled": true
   },
   "outputs": [],
   "source": [
    "df_comb"
   ]
  },
  {
   "cell_type": "code",
   "execution_count": null,
   "id": "0715a166",
   "metadata": {},
   "outputs": [],
   "source": [
    "#df_comb.plot(x=\"Feature\", y=[\"SVM\", \"KNN\",\"RF\"], kind=\"bar\")\n",
    "#plt.ylabel(\"f1_score\")\n",
    "#plt.title('Feature Performance on models trained on combined features')"
   ]
  },
  {
   "cell_type": "markdown",
   "id": "3e851ea6",
   "metadata": {},
   "source": [
    "## Algorithm Performance of Combined Features"
   ]
  },
  {
   "cell_type": "code",
   "execution_count": null,
   "id": "035fc2d1",
   "metadata": {},
   "outputs": [],
   "source": [
    "# Define the algorithms, datasets, and F1-scores\n",
    "algorithms = ['SVM', 'KNN', 'RF']\n",
    "datasets = ['Chroma-MFCC','Chroma-LFCC','MFCC-LFCC']\n",
    "f1_scores = np.array([[0.8364,0.8232,0.6810],\n",
    "                      [0.8838,0.8480,0.8423],\n",
    "                      [0.9359,0.9288,0.9271]])\n",
    "\n",
    "# Set the x-axis values\n",
    "x = np.arange(len(datasets))\n",
    "\n",
    "# Create the line chart for each algorithm\n",
    "for i in range(len(algorithms)):\n",
    "    plt.plot(x, f1_scores[i], marker='o', label=algorithms[i])\n",
    "\n",
    "# Add labels and title\n",
    "plt.xlabel('Datasets')\n",
    "plt.ylabel('F1-score')\n",
    "plt.title('Algorithm Performance for Combined Features ')\n",
    "plt.xticks(x, datasets)\n",
    "plt.legend()"
   ]
  },
  {
   "cell_type": "code",
   "execution_count": null,
   "id": "40b0851d",
   "metadata": {},
   "outputs": [],
   "source": [
    "# creating a dataframe for single and combined features\n",
    "model_comp= {'Feature': ['Chroma', 'MFCC', 'LFCC', 'Chroma-MFCC','Chroma-LFCC','MFCC-LFCC'],\n",
    "      'SVM': [0.8233,0.7990,0.7887,0.8364,0.8232,0.6810],\n",
    "      'KNN': [0.8928,0.8885,0.8064,0.8838,0.8480,0.8423],\n",
    "      'RF': [0.9334,0.9264,0.9301,0.9359,0.9288,0.9271]\n",
    "     } \n",
    "# Create DataFrame  \n",
    "df4 = pd.DataFrame(model_comp)  "
   ]
  },
  {
   "cell_type": "code",
   "execution_count": null,
   "id": "e9b0015b",
   "metadata": {},
   "outputs": [],
   "source": [
    "df4"
   ]
  },
  {
   "cell_type": "code",
   "execution_count": null,
   "id": "e80126cd",
   "metadata": {},
   "outputs": [],
   "source": [
    "df4.plot(x=\"Feature\", y=[\"SVM\", \"KNN\",\"RF\"], kind=\"bar\")\n",
    "plt.ylabel(\"f1_score\")\n",
    "plt.title('Feature Performance on single and combined Features')"
   ]
  },
  {
   "cell_type": "markdown",
   "id": "4810986a",
   "metadata": {},
   "source": [
    "## Algorithm Comparison for Single and Combined Features"
   ]
  },
  {
   "cell_type": "code",
   "execution_count": null,
   "id": "90a97f4a",
   "metadata": {},
   "outputs": [],
   "source": [
    "# Define the algorithms, datasets, and F1-scores\n",
    "algorithms = ['SVM', 'KNN', 'RF']\n",
    "datasets = ['Chroma', 'MFCC', 'LFCC','Chroma-MFCC','Chroma-LFCC','MFCC-LFCC']\n",
    "f1_scores = np.array([[0.8233,0.7990,0.7887,0.8246,0.8232,0.6810],\n",
    "                      [0.8928,0.8885,0.8064,0.8974,0.8480,0.8423],\n",
    "                      [0.9334,0.9264,0.9301,0.9463,0.9288,0.9271]])\n",
    "\n",
    "# Set the x-axis values\n",
    "x = np.arange(len(datasets))\n",
    "\n",
    "# Create the line chart for each algorithm\n",
    "for i in range(len(algorithms)):\n",
    "    plt.plot(x, f1_scores[i], marker='o', label=algorithms[i])\n",
    "\n",
    "# Add labels and title\n",
    "plt.xlabel('Datasets')\n",
    "plt.xticks(rotation=90)\n",
    "plt.ylabel('F1-score')\n",
    "#plt.title('Algorithm Performance for Single and Combined Features ')\n",
    "plt.xticks(x, datasets)\n",
    "plt.legend()"
   ]
  },
  {
   "cell_type": "code",
   "execution_count": null,
   "id": "46948cee",
   "metadata": {},
   "outputs": [],
   "source": [
    "# Define the algorithms, datasets, and Accuracies\n",
    "algorithms = ['SVM', 'KNN', 'RF']\n",
    "datasets = ['Chroma', 'MFCC', 'LFCC','Chroma-MFCC','Chroma-LFCC','MFCC-LFCC']\n",
    "f1_scores = np.array([[0.7692,0.7118,0.8554,0.7706,0.7699,0.5541],\n",
    "                      [0.8739,0.8651,0.7600,0.8816,0.8077,0.7971],\n",
    "                      [0.9277,0.9299,0.9275,0.9441,0.9240,0.9294]])\n",
    "\n",
    "# Set the x-axis values\n",
    "x = np.arange(len(datasets))\n",
    "\n",
    "# Create the line chart for each algorithm\n",
    "for i in range(len(algorithms)):\n",
    "    plt.plot(x, f1_scores[i], marker='o', label=algorithms[i])\n",
    "\n",
    "# Add labels and title\n",
    "plt.xlabel('Datasets')\n",
    "plt.xticks(rotation=90)\n",
    "plt.ylabel('Accuracy')\n",
    "#plt.title('Algorithm Performance for Single and Combined Features ')\n",
    "plt.xticks(x, datasets)\n",
    "plt.legend()"
   ]
  },
  {
   "cell_type": "markdown",
   "id": "2152d2e4",
   "metadata": {},
   "source": [
    "## Evaluation metrics comparison"
   ]
  },
  {
   "cell_type": "code",
   "execution_count": null,
   "id": "b7cc774a",
   "metadata": {},
   "outputs": [],
   "source": [
    "datasets=['Chroma','MFCC','LFCC']"
   ]
  },
  {
   "cell_type": "code",
   "execution_count": null,
   "id": "a748b380",
   "metadata": {},
   "outputs": [],
   "source": [
    "svm_accuracy = [0.7692, 0.7118, 0.8554]\n",
    "svm_f1_score = [0.8233,0.7990,0.7887]\n",
    "knn_accuracy = [0.8739, 0.8651, 0.7600]\n",
    "knn_f1_score = [0.8928,0.8885,0.8064]\n",
    "rf_accuracy = [0.9277, 0.9299, 0.9275]\n",
    "rf_f1_score = [0.9334,0.9264,0.9301]\n",
    "\n",
    "# Set the width of the bars\n",
    "bar_width = 0.3\n",
    "\n",
    "# Set the positions of the bars on the x-axis\n",
    "r1 = np.arange(len(datasets))\n",
    "r2 = [x + bar_width for x in r1]\n",
    "r3 = [x + bar_width for x in r2]\n",
    "\n",
    "# Create the bar plot for accuracy\n",
    "plt.bar(r1, svm_accuracy, color='b', width=bar_width, edgecolor='white', label='SVM')\n",
    "plt.bar(r2, knn_accuracy, color='g', width=bar_width, edgecolor='white', label='KNN')\n",
    "plt.bar(r3, rf_accuracy, color='r', width=bar_width, edgecolor='white', label='RF')\n",
    "\n",
    "# Create the bar plot for F1-score\n",
    "plt.bar(r1, svm_f1_score, color='b', width=bar_width, edgecolor='white', hatch='//')\n",
    "plt.bar(r2, knn_f1_score, color='g', width=bar_width, edgecolor='white', hatch='//')\n",
    "plt.bar(r3, rf_f1_score, color='r', width=bar_width, edgecolor='white', hatch='//')\n",
    "\n",
    "# Add labels, tick labels, and title\n",
    "plt.xlabel('Datasets')\n",
    "plt.ylabel('Metrics')\n",
    "plt.title('Comparison of Evaluation Metrics across Datasets and Models')\n",
    "plt.xticks([r + bar_width for r in range(len(datasets))], datasets)\n",
    "plt.legend(['Accuracy', 'F1-score'])\n",
    "\n",
    "# Display the plot\n",
    "plt.show()"
   ]
  },
  {
   "cell_type": "code",
   "execution_count": null,
   "id": "0af07f51",
   "metadata": {},
   "outputs": [],
   "source": [
    "\n",
    "# Create a list of models\n",
    "models = ['SVM', 'KNN', 'RF']\n",
    "\n",
    "# Plot the accuracy for each model\n",
    "for i, model in enumerate(models):\n",
    "    plt.plot(datasets, [svm_accuracy[i], knn_accuracy[i], rf_accuracy[i]], marker='o', label=model + ' Accuracy')\n",
    "\n",
    "# Plot the F1-score for each model\n",
    "for i, model in enumerate(models):\n",
    "    plt.plot(datasets, [svm_f1_score[i], knn_f1_score[i], rf_f1_score[i]], marker='o', linestyle='--', label=model + ' F1-score')\n",
    "\n",
    "# Add labels and title\n",
    "plt.xlabel('Datasets')\n",
    "plt.ylabel('Metrics')\n",
    "plt.title('Comparison of Evaluation Metrics across Datasets and Models')\n",
    "plt.legend()\n",
    "\n",
    "# Display the plot\n",
    "plt.show()\n"
   ]
  },
  {
   "cell_type": "code",
   "execution_count": null,
   "id": "953e0d3f",
   "metadata": {},
   "outputs": [],
   "source": [
    "eval_comp= {'Algorithm': ['SVM','KNN','RF'],\n",
    "      'Accuracy': [0.7884,0.8596,0.9312],\n",
    "      'F1 score': [0.8364,0.8838,0.9359]\n",
    "     } \n",
    "# Create DataFrame  \n",
    "df7 = pd.DataFrame(eval_comp)"
   ]
  },
  {
   "cell_type": "code",
   "execution_count": null,
   "id": "4a086a8a",
   "metadata": {},
   "outputs": [],
   "source": [
    "df7"
   ]
  },
  {
   "cell_type": "code",
   "execution_count": null,
   "id": "a91abf8c",
   "metadata": {},
   "outputs": [],
   "source": [
    "#visualize the metrics comparison\n",
    "plt.style.use('seaborn')\n",
    "\n",
    "# Create a figure and axis\n",
    "fig, ax = plt.subplots(figsize=(10, 6))\n",
    "\n",
    "# Plot the Accuracy and F1-score\n",
    "df7.plot(x='Algorithm', y=['Accuracy', 'F1 score'], kind='bar', ax=ax)\n",
    "\n",
    "# Set the labels and title\n",
    "#ax.set_xlabel('Algorithm')\n",
    "#ax.set_ylabel('Score')\n",
    "#ax.set_title('Comparison of Accuracy and F1-score')\n",
    "\n",
    "# Display the legend\n",
    "ax.legend(['Accuracy', 'F1-score'])\n",
    "\n",
    "# Adjust the layout\n",
    "plt.tight_layout()\n",
    "\n",
    "# Show the plot\n",
    "plt.show()"
   ]
  },
  {
   "cell_type": "code",
   "execution_count": null,
   "id": "32c869f8",
   "metadata": {},
   "outputs": [],
   "source": []
  }
 ],
 "metadata": {
  "kernelspec": {
   "display_name": "Python 3 (ipykernel)",
   "language": "python",
   "name": "python3"
  },
  "language_info": {
   "codemirror_mode": {
    "name": "ipython",
    "version": 3
   },
   "file_extension": ".py",
   "mimetype": "text/x-python",
   "name": "python",
   "nbconvert_exporter": "python",
   "pygments_lexer": "ipython3",
   "version": "3.9.12"
  }
 },
 "nbformat": 4,
 "nbformat_minor": 5
}
